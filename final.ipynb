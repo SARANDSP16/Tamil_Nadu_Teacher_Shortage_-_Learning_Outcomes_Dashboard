{
 "cells": [
  {
   "cell_type": "markdown",
   "id": "97a94878",
   "metadata": {},
   "source": [
    "# 🎓 Tamil Nadu Teacher Shortages & Learning Outcomes Dashboard\n",
    "\n",
    "**A Data-Driven Approach to Equitable Education Planning (2025)**\n",
    "\n",
    "This notebook consolidates the entire Tamil Nadu Education Dashboard project into a single executable workflow.\n",
    "\n",
    "### 📊 Project Overview\n",
    "- **Identify disparities** in teacher deployment across Tamil Nadu districts\n",
    "- **Correlate** teacher-student ratios with learning outcomes (SLAS 2025)\n",
    "- **Forecast** future teacher requirements using demographic trends\n",
    "- **Recommend** targeted policy interventions for underserved regions\n",
    "\n",
    "### 🔧 Python Version\n",
    "- Tested on Python 3.11.0\n",
    "- Compatible with Python 3.9+\n",
    "\n",
    "---"
   ]
  },
  {
   "cell_type": "markdown",
   "id": "3fd1a1dc",
   "metadata": {},
   "source": [
    "## 1️⃣ Setup & Installation\n",
    "\n",
    "Install required packages (run once)"
   ]
  },
  {
   "cell_type": "code",
   "execution_count": 2,
   "id": "ac52b4b4",
   "metadata": {},
   "outputs": [],
   "source": [
    "# Install required packages\n",
    "# Uncomment and run the following line if packages are not installed:\n",
    "!pip install pandas numpy matplotlib seaborn plotly scikit-learn scipy statsmodels requests openpyxl -q"
   ]
  },
  {
   "cell_type": "markdown",
   "id": "6ce84884",
   "metadata": {},
   "source": [
    "## 2️⃣ Import Libraries & Setup"
   ]
  },
  {
   "cell_type": "code",
   "execution_count": 3,
   "id": "4b333f21",
   "metadata": {},
   "outputs": [
    {
     "name": "stdout",
     "output_type": "stream",
     "text": [
      "✅ All libraries imported successfully!\n",
      "📦 Pandas version: 2.2.2\n",
      "📦 NumPy version: 1.26.4\n"
     ]
    }
   ],
   "source": [
    "# Import all required libraries\n",
    "import pandas as pd\n",
    "import numpy as np\n",
    "import matplotlib.pyplot as plt\n",
    "import seaborn as sns\n",
    "import plotly.express as px\n",
    "import plotly.graph_objects as go\n",
    "from plotly.subplots import make_subplots\n",
    "from pathlib import Path\n",
    "import logging\n",
    "import warnings\n",
    "from typing import Dict, List, Tuple, Optional\n",
    "from datetime import datetime\n",
    "\n",
    "# Scientific computing\n",
    "from scipy import stats\n",
    "from scipy.cluster.hierarchy import dendrogram, linkage\n",
    "from sklearn.preprocessing import StandardScaler\n",
    "from sklearn.decomposition import PCA\n",
    "from sklearn.cluster import KMeans\n",
    "from sklearn.linear_model import LinearRegression\n",
    "from sklearn.metrics import r2_score, mean_squared_error\n",
    "from statsmodels.tsa.holtwinters import ExponentialSmoothing\n",
    "\n",
    "# Suppress warnings\n",
    "warnings.filterwarnings('ignore')\n",
    "\n",
    "# Setup logging\n",
    "logging.basicConfig(\n",
    "    level=logging.INFO,\n",
    "    format='%(asctime)s - %(levelname)s - %(message)s'\n",
    ")\n",
    "logger = logging.getLogger(__name__)\n",
    "\n",
    "# Set visualization style\n",
    "sns.set_style(\"whitegrid\")\n",
    "plt.rcParams['figure.figsize'] = (12, 8)\n",
    "plt.rcParams['font.size'] = 10\n",
    "\n",
    "# Configure pandas display\n",
    "pd.set_option('display.max_columns', None)\n",
    "pd.set_option('display.max_rows', 100)\n",
    "pd.set_option('display.float_format', '{:.2f}'.format)\n",
    "\n",
    "print(\"✅ All libraries imported successfully!\")\n",
    "print(f\"📦 Pandas version: {pd.__version__}\")\n",
    "print(f\"📦 NumPy version: {np.__version__}\")"
   ]
  },
  {
   "cell_type": "markdown",
   "id": "7e4a1ca8",
   "metadata": {},
   "source": [
    "## 3️⃣ Project Configuration & Utilities"
   ]
  },
  {
   "cell_type": "code",
   "execution_count": 4,
   "id": "f497acff",
   "metadata": {},
   "outputs": [
    {
     "name": "stdout",
     "output_type": "stream",
     "text": [
      "📁 Base Directory: d:\\project\\Tamil_Nadu_Teacher_Shortage_& _Learning_Outcomes_Dashboard\n",
      "📁 Data Directory: d:\\project\\Tamil_Nadu_Teacher_Shortage_& _Learning_Outcomes_Dashboard\\data\n",
      "✅ All directories created successfully!\n"
     ]
    }
   ],
   "source": [
    "# Project paths - Fixed for Jupyter notebook\n",
    "BASE_DIR = Path.cwd()  # Current working directory\n",
    "DATA_DIR = BASE_DIR / 'data'\n",
    "RAW_DATA_DIR = DATA_DIR / 'raw'\n",
    "PROCESSED_DATA_DIR = DATA_DIR / 'processed'\n",
    "GEO_DATA_DIR = DATA_DIR / 'geospatial'\n",
    "OUTPUT_DIR = BASE_DIR / 'outputs'\n",
    "\n",
    "# Create directories if they don't exist\n",
    "for directory in [RAW_DATA_DIR, PROCESSED_DATA_DIR, GEO_DATA_DIR, OUTPUT_DIR]:\n",
    "    directory.mkdir(parents=True, exist_ok=True)\n",
    "\n",
    "print(f\"📁 Base Directory: {BASE_DIR}\")\n",
    "print(f\"📁 Data Directory: {DATA_DIR}\")\n",
    "print(\"✅ All directories created successfully!\")"
   ]
  },
  {
   "cell_type": "code",
   "execution_count": 5,
   "id": "98874ae9",
   "metadata": {},
   "outputs": [
    {
     "name": "stdout",
     "output_type": "stream",
     "text": [
      "📍 Total Districts: 38\n"
     ]
    }
   ],
   "source": [
    "# Tamil Nadu District Name Standardization\n",
    "DISTRICT_NAME_MAPPING = {\n",
    "    'Chennai': 'Chennai',\n",
    "    'Kanchipuram': 'Kancheepuram',\n",
    "    'Kancheepuram': 'Kancheepuram',\n",
    "    'Thiruvallur': 'Tiruvallur',\n",
    "    'Tiruvallur': 'Tiruvallur',\n",
    "    'Villupuram': 'Viluppuram',\n",
    "    'Viluppuram': 'Viluppuram',\n",
    "    'Cuddalore': 'Cuddalore',\n",
    "    'Vellore': 'Vellore',\n",
    "    'Tiruvannamalai': 'Tiruvannamalai',\n",
    "    'Salem': 'Salem',\n",
    "    'Namakkal': 'Namakkal',\n",
    "    'Erode': 'Erode',\n",
    "    'The Nilgiris': 'Nilgiris',\n",
    "    'Nilgiris': 'Nilgiris',\n",
    "    'Coimbatore': 'Coimbatore',\n",
    "    'Tiruppur': 'Tiruppur',\n",
    "    'Karur': 'Karur',\n",
    "    'Tiruchirappalli': 'Tiruchirappalli',\n",
    "    'Trichy': 'Tiruchirappalli',\n",
    "    'Perambalur': 'Perambalur',\n",
    "    'Ariyalur': 'Ariyalur',\n",
    "    'Thanjavur': 'Thanjavur',\n",
    "    'Tiruvarur': 'Tiruvarur',\n",
    "    'Nagapattinam': 'Nagapattinam',\n",
    "    'Pudukkottai': 'Pudukkottai',\n",
    "    'Dindigul': 'Dindigul',\n",
    "    'Madurai': 'Madurai',\n",
    "    'Theni': 'Theni',\n",
    "    'Virudhunagar': 'Virudhunagar',\n",
    "    'Ramanathapuram': 'Ramanathapuram',\n",
    "    'Sivaganga': 'Sivagangai',\n",
    "    'Sivagangai': 'Sivagangai',\n",
    "    'Thoothukudi': 'Thoothukudi',\n",
    "    'Tuticorin': 'Thoothukudi',\n",
    "    'Tirunelveli': 'Tirunelveli',\n",
    "    'Kanniyakumari': 'Kanniyakumari',\n",
    "    'Kanyakumari': 'Kanniyakumari',\n",
    "    'Dharmapuri': 'Dharmapuri',\n",
    "    'Krishnagiri': 'Krishnagiri',\n",
    "    'Ranipet': 'Ranipet',\n",
    "    'Tirupattur': 'Tirupattur',\n",
    "    'Chengalpattu': 'Chengalpattu',\n",
    "    'Kallakurichi': 'Kallakurichi',\n",
    "    'Tenkasi': 'Tenkasi',\n",
    "    'Mayiladuthurai': 'Mayiladuthurai',\n",
    "}\n",
    "\n",
    "# Tamil Nadu Districts (38 districts as of 2025)\n",
    "TN_DISTRICTS = [\n",
    "    'Ariyalur', 'Chengalpattu', 'Chennai', 'Coimbatore', 'Cuddalore',\n",
    "    'Dharmapuri', 'Dindigul', 'Erode', 'Kallakurichi', 'Kancheepuram',\n",
    "    'Kanniyakumari', 'Karur', 'Krishnagiri', 'Madurai', 'Mayiladuthurai',\n",
    "    'Nagapattinam', 'Namakkal', 'Nilgiris', 'Perambalur', 'Pudukkottai',\n",
    "    'Ramanathapuram', 'Ranipet', 'Salem', 'Sivagangai', 'Tenkasi',\n",
    "    'Thanjavur', 'Theni', 'Thoothukudi', 'Tiruchirappalli', 'Tirunelveli',\n",
    "    'Tirupattur', 'Tiruppur', 'Tiruvallur', 'Tiruvannamalai', 'Tiruvarur',\n",
    "    'Vellore', 'Viluppuram', 'Virudhunagar'\n",
    "]\n",
    "\n",
    "print(f\"📍 Total Districts: {len(TN_DISTRICTS)}\")"
   ]
  },
  {
   "cell_type": "code",
   "execution_count": 6,
   "id": "853e988b",
   "metadata": {},
   "outputs": [
    {
     "name": "stdout",
     "output_type": "stream",
     "text": [
      "✅ Utility functions defined successfully!\n"
     ]
    }
   ],
   "source": [
    "# Utility Functions\n",
    "\n",
    "def standardize_district_names(df: pd.DataFrame, column: str = 'District') -> pd.DataFrame:\n",
    "    \"\"\"Standardize district names across datasets\"\"\"\n",
    "    df = df.copy()\n",
    "    \n",
    "    if column in df.columns:\n",
    "        df[column] = df[column].str.strip().str.title()\n",
    "        df[column] = df[column].map(DISTRICT_NAME_MAPPING).fillna(df[column])\n",
    "        \n",
    "        unmapped = set(df[column].unique()) - set(TN_DISTRICTS)\n",
    "        if unmapped:\n",
    "            logger.warning(f\"Unmapped districts found: {unmapped}\")\n",
    "    \n",
    "    return df\n",
    "\n",
    "\n",
    "def calculate_ptr(df: pd.DataFrame, \n",
    "                  enrollment_col: str = 'Total_Enrollment',\n",
    "                  teachers_col: str = 'Total_Teachers') -> pd.Series:\n",
    "    \"\"\"Calculate Pupil-Teacher Ratio (PTR)\"\"\"\n",
    "    ptr = df[enrollment_col] / df[teachers_col].replace(0, np.nan)\n",
    "    return ptr.round(2)\n",
    "\n",
    "\n",
    "def categorize_ptr(ptr: float) -> str:\n",
    "    \"\"\"Categorize PTR into performance bands\"\"\"\n",
    "    if pd.isna(ptr):\n",
    "        return 'Unknown'\n",
    "    elif ptr <= 20:\n",
    "        return 'Excellent (≤20)'\n",
    "    elif ptr <= 30:\n",
    "        return 'Good (21-30)'\n",
    "    elif ptr <= 35:\n",
    "        return 'Adequate (31-35)'\n",
    "    elif ptr <= 40:\n",
    "        return 'Needs Improvement (36-40)'\n",
    "    else:\n",
    "        return 'Critical (>40)'\n",
    "\n",
    "\n",
    "def categorize_learning_outcome(score: float) -> str:\n",
    "    \"\"\"Categorize learning outcome scores\"\"\"\n",
    "    if pd.isna(score):\n",
    "        return 'Unknown'\n",
    "    elif score >= 80:\n",
    "        return 'Excellent (≥80%)'\n",
    "    elif score >= 60:\n",
    "        return 'Good (60-79%)'\n",
    "    elif score >= 40:\n",
    "        return 'Satisfactory (40-59%)'\n",
    "    elif score >= 20:\n",
    "        return 'Needs Improvement (20-39%)'\n",
    "    else:\n",
    "        return 'Critical (<20%)'\n",
    "\n",
    "\n",
    "def calculate_teacher_deficit(df: pd.DataFrame,\n",
    "                              ideal_ptr: float = 30,\n",
    "                              enrollment_col: str = 'Total_Enrollment',\n",
    "                              teachers_col: str = 'Total_Teachers') -> pd.Series:\n",
    "    \"\"\"Calculate teacher deficit/surplus based on ideal PTR\"\"\"\n",
    "    required_teachers = (df[enrollment_col] / ideal_ptr).round()\n",
    "    deficit = required_teachers - df[teachers_col]\n",
    "    return deficit.astype(int)\n",
    "\n",
    "\n",
    "def detect_outliers_iqr(series: pd.Series, \n",
    "                        multiplier: float = 1.5) -> Tuple[pd.Series, float, float]:\n",
    "    \"\"\"Detect outliers using IQR method\"\"\"\n",
    "    Q1 = series.quantile(0.25)\n",
    "    Q3 = series.quantile(0.75)\n",
    "    IQR = Q3 - Q1\n",
    "    \n",
    "    lower_bound = Q1 - multiplier * IQR\n",
    "    upper_bound = Q3 + multiplier * IQR\n",
    "    \n",
    "    outliers = (series < lower_bound) | (series > upper_bound)\n",
    "    \n",
    "    return outliers, lower_bound, upper_bound\n",
    "\n",
    "\n",
    "def save_processed_data(df: pd.DataFrame, filename: str) -> None:\n",
    "    \"\"\"Save processed data in CSV format\"\"\"\n",
    "    filepath = PROCESSED_DATA_DIR / f\"{filename}.csv\"\n",
    "    df.to_csv(filepath, index=False)\n",
    "    logger.info(f\"Saved {filepath}\")\n",
    "\n",
    "\n",
    "def load_processed_data(filename: str) -> pd.DataFrame:\n",
    "    \"\"\"Load processed data\"\"\"\n",
    "    filepath = PROCESSED_DATA_DIR / f\"{filename}.csv\"\n",
    "    \n",
    "    if not filepath.exists():\n",
    "        raise FileNotFoundError(f\"File not found: {filepath}\")\n",
    "    \n",
    "    return pd.read_csv(filepath)\n",
    "\n",
    "\n",
    "print(\"✅ Utility functions defined successfully!\")"
   ]
  },
  {
   "cell_type": "markdown",
   "id": "768505ef",
   "metadata": {},
   "source": [
    "## 4️⃣ Data Collection & Generation\n",
    "\n",
    "Generate synthetic data based on publicly available information from SLAS 2025 and UDISEPlus.\n",
    "\n",
    "**Note:** In production, replace with actual data downloads from official sources."
   ]
  },
  {
   "cell_type": "code",
   "execution_count": 7,
   "id": "676a8f29",
   "metadata": {},
   "outputs": [
    {
     "name": "stderr",
     "output_type": "stream",
     "text": [
      "2025-10-30 23:03:38,184 - INFO - Creating sample SLAS 2025 learning outcomes data...\n",
      "2025-10-30 23:03:38,300 - INFO - Saved SLAS data: d:\\project\\Tamil_Nadu_Teacher_Shortage_& _Learning_Outcomes_Dashboard\\data\\raw\\slas_2025_learning_outcomes.csv\n"
     ]
    },
    {
     "name": "stdout",
     "output_type": "stream",
     "text": [
      "\n",
      "📊 SLAS 2025 Data Shape: (38, 20)\n",
      "📊 State Average Learning Outcome: 58.67%\n"
     ]
    },
    {
     "data": {
      "text/html": [
       "<div>\n",
       "<style scoped>\n",
       "    .dataframe tbody tr th:only-of-type {\n",
       "        vertical-align: middle;\n",
       "    }\n",
       "\n",
       "    .dataframe tbody tr th {\n",
       "        vertical-align: top;\n",
       "    }\n",
       "\n",
       "    .dataframe thead th {\n",
       "        text-align: right;\n",
       "    }\n",
       "</style>\n",
       "<table border=\"1\" class=\"dataframe\">\n",
       "  <thead>\n",
       "    <tr style=\"text-align: right;\">\n",
       "      <th></th>\n",
       "      <th>District</th>\n",
       "      <th>Class_3_Tamil</th>\n",
       "      <th>Class_3_English</th>\n",
       "      <th>Class_3_Mathematics</th>\n",
       "      <th>Class_5_Tamil</th>\n",
       "      <th>Class_5_English</th>\n",
       "      <th>Class_5_Mathematics</th>\n",
       "      <th>Class_5_Science</th>\n",
       "      <th>Class_5_Social</th>\n",
       "      <th>Class_8_Tamil</th>\n",
       "      <th>Class_8_English</th>\n",
       "      <th>Class_8_Mathematics</th>\n",
       "      <th>Class_8_Science</th>\n",
       "      <th>Class_8_Social</th>\n",
       "      <th>Students_Assessed</th>\n",
       "      <th>Schools_Covered</th>\n",
       "      <th>Class_3_Average</th>\n",
       "      <th>Class_5_Average</th>\n",
       "      <th>Class_8_Average</th>\n",
       "      <th>Overall_Average</th>\n",
       "    </tr>\n",
       "  </thead>\n",
       "  <tbody>\n",
       "    <tr>\n",
       "      <th>0</th>\n",
       "      <td>Ariyalur</td>\n",
       "      <td>58.87</td>\n",
       "      <td>54.42</td>\n",
       "      <td>54.35</td>\n",
       "      <td>52.61</td>\n",
       "      <td>46.24</td>\n",
       "      <td>47.94</td>\n",
       "      <td>58.03</td>\n",
       "      <td>56.37</td>\n",
       "      <td>56.61</td>\n",
       "      <td>42.61</td>\n",
       "      <td>56.00</td>\n",
       "      <td>55.52</td>\n",
       "      <td>51.49</td>\n",
       "      <td>20311</td>\n",
       "      <td>1076</td>\n",
       "      <td>55.88</td>\n",
       "      <td>52.24</td>\n",
       "      <td>52.45</td>\n",
       "      <td>53.52</td>\n",
       "    </tr>\n",
       "    <tr>\n",
       "      <th>1</th>\n",
       "      <td>Chengalpattu</td>\n",
       "      <td>61.55</td>\n",
       "      <td>52.51</td>\n",
       "      <td>54.67</td>\n",
       "      <td>61.64</td>\n",
       "      <td>55.24</td>\n",
       "      <td>53.90</td>\n",
       "      <td>65.17</td>\n",
       "      <td>58.76</td>\n",
       "      <td>58.98</td>\n",
       "      <td>55.86</td>\n",
       "      <td>55.03</td>\n",
       "      <td>63.25</td>\n",
       "      <td>60.10</td>\n",
       "      <td>18556</td>\n",
       "      <td>1446</td>\n",
       "      <td>56.24</td>\n",
       "      <td>58.94</td>\n",
       "      <td>58.64</td>\n",
       "      <td>57.94</td>\n",
       "    </tr>\n",
       "    <tr>\n",
       "      <th>2</th>\n",
       "      <td>Chennai</td>\n",
       "      <td>58.21</td>\n",
       "      <td>65.00</td>\n",
       "      <td>66.21</td>\n",
       "      <td>66.03</td>\n",
       "      <td>56.21</td>\n",
       "      <td>56.53</td>\n",
       "      <td>64.40</td>\n",
       "      <td>62.96</td>\n",
       "      <td>61.29</td>\n",
       "      <td>56.50</td>\n",
       "      <td>52.97</td>\n",
       "      <td>64.56</td>\n",
       "      <td>60.15</td>\n",
       "      <td>18943</td>\n",
       "      <td>1187</td>\n",
       "      <td>63.14</td>\n",
       "      <td>61.23</td>\n",
       "      <td>59.09</td>\n",
       "      <td>61.15</td>\n",
       "    </tr>\n",
       "    <tr>\n",
       "      <th>3</th>\n",
       "      <td>Coimbatore</td>\n",
       "      <td>64.88</td>\n",
       "      <td>62.69</td>\n",
       "      <td>60.52</td>\n",
       "      <td>69.43</td>\n",
       "      <td>63.98</td>\n",
       "      <td>67.07</td>\n",
       "      <td>68.62</td>\n",
       "      <td>66.65</td>\n",
       "      <td>68.21</td>\n",
       "      <td>53.74</td>\n",
       "      <td>57.03</td>\n",
       "      <td>57.17</td>\n",
       "      <td>62.93</td>\n",
       "      <td>38247</td>\n",
       "      <td>1137</td>\n",
       "      <td>62.70</td>\n",
       "      <td>67.15</td>\n",
       "      <td>59.82</td>\n",
       "      <td>63.22</td>\n",
       "    </tr>\n",
       "    <tr>\n",
       "      <th>4</th>\n",
       "      <td>Cuddalore</td>\n",
       "      <td>78.96</td>\n",
       "      <td>80.71</td>\n",
       "      <td>78.17</td>\n",
       "      <td>77.30</td>\n",
       "      <td>71.65</td>\n",
       "      <td>72.75</td>\n",
       "      <td>73.25</td>\n",
       "      <td>78.33</td>\n",
       "      <td>78.46</td>\n",
       "      <td>69.62</td>\n",
       "      <td>68.26</td>\n",
       "      <td>72.28</td>\n",
       "      <td>80.21</td>\n",
       "      <td>27666</td>\n",
       "      <td>1289</td>\n",
       "      <td>79.28</td>\n",
       "      <td>74.66</td>\n",
       "      <td>73.77</td>\n",
       "      <td>75.90</td>\n",
       "    </tr>\n",
       "  </tbody>\n",
       "</table>\n",
       "</div>"
      ],
      "text/plain": [
       "       District  Class_3_Tamil  Class_3_English  Class_3_Mathematics  \\\n",
       "0      Ariyalur          58.87            54.42                54.35   \n",
       "1  Chengalpattu          61.55            52.51                54.67   \n",
       "2       Chennai          58.21            65.00                66.21   \n",
       "3    Coimbatore          64.88            62.69                60.52   \n",
       "4     Cuddalore          78.96            80.71                78.17   \n",
       "\n",
       "   Class_5_Tamil  Class_5_English  Class_5_Mathematics  Class_5_Science  \\\n",
       "0          52.61            46.24                47.94            58.03   \n",
       "1          61.64            55.24                53.90            65.17   \n",
       "2          66.03            56.21                56.53            64.40   \n",
       "3          69.43            63.98                67.07            68.62   \n",
       "4          77.30            71.65                72.75            73.25   \n",
       "\n",
       "   Class_5_Social  Class_8_Tamil  Class_8_English  Class_8_Mathematics  \\\n",
       "0           56.37          56.61            42.61                56.00   \n",
       "1           58.76          58.98            55.86                55.03   \n",
       "2           62.96          61.29            56.50                52.97   \n",
       "3           66.65          68.21            53.74                57.03   \n",
       "4           78.33          78.46            69.62                68.26   \n",
       "\n",
       "   Class_8_Science  Class_8_Social  Students_Assessed  Schools_Covered  \\\n",
       "0            55.52           51.49              20311             1076   \n",
       "1            63.25           60.10              18556             1446   \n",
       "2            64.56           60.15              18943             1187   \n",
       "3            57.17           62.93              38247             1137   \n",
       "4            72.28           80.21              27666             1289   \n",
       "\n",
       "   Class_3_Average  Class_5_Average  Class_8_Average  Overall_Average  \n",
       "0            55.88            52.24            52.45            53.52  \n",
       "1            56.24            58.94            58.64            57.94  \n",
       "2            63.14            61.23            59.09            61.15  \n",
       "3            62.70            67.15            59.82            63.22  \n",
       "4            79.28            74.66            73.77            75.90  "
      ]
     },
     "execution_count": 7,
     "metadata": {},
     "output_type": "execute_result"
    }
   ],
   "source": [
    "def create_sample_slas_data():\n",
    "    \"\"\"Create sample SLAS 2025 learning outcomes data\"\"\"\n",
    "    logger.info(\"Creating sample SLAS 2025 learning outcomes data...\")\n",
    "    \n",
    "    # Set seed for reproducibility\n",
    "    np.random.seed(42)\n",
    "    \n",
    "    # Top performing districts (reported in news)\n",
    "    top_performers = ['Kanniyakumari', 'Cuddalore', 'Madurai', 'Tenkasi', 'Sivagangai']\n",
    "    \n",
    "    data = []\n",
    "    \n",
    "    for district in TN_DISTRICTS:\n",
    "        if district in top_performers:\n",
    "            base_score = np.random.uniform(70, 85)\n",
    "        elif district in ['Chennai', 'Coimbatore', 'Tiruchirappalli']:\n",
    "            base_score = np.random.uniform(60, 75)\n",
    "        else:\n",
    "            base_score = np.random.uniform(45, 70)\n",
    "        \n",
    "        data.append({\n",
    "            'District': district,\n",
    "            'Class_3_Tamil': base_score + np.random.uniform(-5, 5),\n",
    "            'Class_3_English': base_score + np.random.uniform(-8, 3),\n",
    "            'Class_3_Mathematics': base_score + np.random.uniform(-6, 4),\n",
    "            'Class_5_Tamil': base_score + np.random.uniform(-3, 5),\n",
    "            'Class_5_English': base_score + np.random.uniform(-10, 2),\n",
    "            'Class_5_Mathematics': base_score + np.random.uniform(-7, 3),\n",
    "            'Class_5_Science': base_score + np.random.uniform(-5, 5),\n",
    "            'Class_5_Social': base_score + np.random.uniform(-4, 6),\n",
    "            'Class_8_Tamil': base_score + np.random.uniform(-2, 4),\n",
    "            'Class_8_English': base_score + np.random.uniform(-12, 0),\n",
    "            'Class_8_Mathematics': base_score + np.random.uniform(-10, 2),\n",
    "            'Class_8_Science': base_score + np.random.uniform(-8, 3),\n",
    "            'Class_8_Social': base_score + np.random.uniform(-5, 5),\n",
    "            'Students_Assessed': np.random.randint(15000, 40000),\n",
    "            'Schools_Covered': np.random.randint(800, 1500),\n",
    "        })\n",
    "    \n",
    "    df = pd.DataFrame(data)\n",
    "    \n",
    "    # Round scores and ensure they're within 0-100\n",
    "    score_columns = [col for col in df.columns if 'Class' in col]\n",
    "    df[score_columns] = df[score_columns].clip(0, 100).round(2)\n",
    "    \n",
    "    # Calculate overall averages\n",
    "    df['Class_3_Average'] = df[['Class_3_Tamil', 'Class_3_English', 'Class_3_Mathematics']].mean(axis=1).round(2)\n",
    "    df['Class_5_Average'] = df[['Class_5_Tamil', 'Class_5_English', 'Class_5_Mathematics', \n",
    "                                  'Class_5_Science', 'Class_5_Social']].mean(axis=1).round(2)\n",
    "    df['Class_8_Average'] = df[['Class_8_Tamil', 'Class_8_English', 'Class_8_Mathematics',\n",
    "                                  'Class_8_Science', 'Class_8_Social']].mean(axis=1).round(2)\n",
    "    df['Overall_Average'] = df[['Class_3_Average', 'Class_5_Average', 'Class_8_Average']].mean(axis=1).round(2)\n",
    "    \n",
    "    # Save\n",
    "    filepath = RAW_DATA_DIR / 'slas_2025_learning_outcomes.csv'\n",
    "    df.to_csv(filepath, index=False)\n",
    "    logger.info(f\"Saved SLAS data: {filepath}\")\n",
    "    \n",
    "    return df\n",
    "\n",
    "\n",
    "# Generate SLAS data\n",
    "slas_df = create_sample_slas_data()\n",
    "print(f\"\\n📊 SLAS 2025 Data Shape: {slas_df.shape}\")\n",
    "print(f\"📊 State Average Learning Outcome: {slas_df['Overall_Average'].mean():.2f}%\")\n",
    "slas_df.head()"
   ]
  },
  {
   "cell_type": "code",
   "execution_count": 8,
   "id": "3aa2d5ac",
   "metadata": {},
   "outputs": [
    {
     "name": "stderr",
     "output_type": "stream",
     "text": [
      "2025-10-30 23:03:38,350 - INFO - Creating sample UDISEPlus 2024-25 data...\n",
      "2025-10-30 23:03:38,361 - INFO - Saved UDISEPlus data: d:\\project\\Tamil_Nadu_Teacher_Shortage_& _Learning_Outcomes_Dashboard\\data\\raw\\udise_plus_2024_25.csv\n"
     ]
    },
    {
     "name": "stdout",
     "output_type": "stream",
     "text": [
      "\n",
      "📊 UDISEPlus Data Shape: (38, 18)\n",
      "📊 State Average PTR: 31.93\n",
      "📊 Total Schools: 36,503\n",
      "📊 Total Teachers: 399,272\n"
     ]
    },
    {
     "data": {
      "text/html": [
       "<div>\n",
       "<style scoped>\n",
       "    .dataframe tbody tr th:only-of-type {\n",
       "        vertical-align: middle;\n",
       "    }\n",
       "\n",
       "    .dataframe tbody tr th {\n",
       "        vertical-align: top;\n",
       "    }\n",
       "\n",
       "    .dataframe thead th {\n",
       "        text-align: right;\n",
       "    }\n",
       "</style>\n",
       "<table border=\"1\" class=\"dataframe\">\n",
       "  <thead>\n",
       "    <tr style=\"text-align: right;\">\n",
       "      <th></th>\n",
       "      <th>District</th>\n",
       "      <th>Total_Schools</th>\n",
       "      <th>Government_Schools</th>\n",
       "      <th>Aided_Schools</th>\n",
       "      <th>Total_Enrollment</th>\n",
       "      <th>Boys_Enrollment</th>\n",
       "      <th>Girls_Enrollment</th>\n",
       "      <th>SC_Enrollment</th>\n",
       "      <th>ST_Enrollment</th>\n",
       "      <th>Total_Teachers</th>\n",
       "      <th>Male_Teachers</th>\n",
       "      <th>Female_Teachers</th>\n",
       "      <th>Single_Teacher_Schools</th>\n",
       "      <th>Schools_With_Electricity</th>\n",
       "      <th>Schools_With_Internet</th>\n",
       "      <th>Schools_With_Library</th>\n",
       "      <th>Schools_With_Computer_Lab</th>\n",
       "      <th>PTR</th>\n",
       "    </tr>\n",
       "  </thead>\n",
       "  <tbody>\n",
       "    <tr>\n",
       "      <th>0</th>\n",
       "      <td>Ariyalur</td>\n",
       "      <td>802</td>\n",
       "      <td>649</td>\n",
       "      <td>98</td>\n",
       "      <td>274284</td>\n",
       "      <td>137142</td>\n",
       "      <td>137142</td>\n",
       "      <td>43884</td>\n",
       "      <td>7781</td>\n",
       "      <td>7806</td>\n",
       "      <td>2732</td>\n",
       "      <td>4460</td>\n",
       "      <td>21</td>\n",
       "      <td>749</td>\n",
       "      <td>336</td>\n",
       "      <td>625</td>\n",
       "      <td>586</td>\n",
       "      <td>35.14</td>\n",
       "    </tr>\n",
       "    <tr>\n",
       "      <th>1</th>\n",
       "      <td>Chengalpattu</td>\n",
       "      <td>1085</td>\n",
       "      <td>814</td>\n",
       "      <td>109</td>\n",
       "      <td>292950</td>\n",
       "      <td>146475</td>\n",
       "      <td>146475</td>\n",
       "      <td>59315</td>\n",
       "      <td>7615</td>\n",
       "      <td>8890</td>\n",
       "      <td>2729</td>\n",
       "      <td>6188</td>\n",
       "      <td>48</td>\n",
       "      <td>955</td>\n",
       "      <td>468</td>\n",
       "      <td>818</td>\n",
       "      <td>612</td>\n",
       "      <td>32.95</td>\n",
       "    </tr>\n",
       "    <tr>\n",
       "      <th>2</th>\n",
       "      <td>Chennai</td>\n",
       "      <td>1043</td>\n",
       "      <td>853</td>\n",
       "      <td>127</td>\n",
       "      <td>430759</td>\n",
       "      <td>215379</td>\n",
       "      <td>215379</td>\n",
       "      <td>65185</td>\n",
       "      <td>20542</td>\n",
       "      <td>11906</td>\n",
       "      <td>4577</td>\n",
       "      <td>7236</td>\n",
       "      <td>20</td>\n",
       "      <td>888</td>\n",
       "      <td>501</td>\n",
       "      <td>688</td>\n",
       "      <td>683</td>\n",
       "      <td>36.18</td>\n",
       "    </tr>\n",
       "    <tr>\n",
       "      <th>3</th>\n",
       "      <td>Coimbatore</td>\n",
       "      <td>1227</td>\n",
       "      <td>952</td>\n",
       "      <td>163</td>\n",
       "      <td>438039</td>\n",
       "      <td>219019</td>\n",
       "      <td>219019</td>\n",
       "      <td>79360</td>\n",
       "      <td>13492</td>\n",
       "      <td>11896</td>\n",
       "      <td>4544</td>\n",
       "      <td>6872</td>\n",
       "      <td>13</td>\n",
       "      <td>1197</td>\n",
       "      <td>823</td>\n",
       "      <td>1024</td>\n",
       "      <td>881</td>\n",
       "      <td>36.82</td>\n",
       "    </tr>\n",
       "    <tr>\n",
       "      <th>4</th>\n",
       "      <td>Cuddalore</td>\n",
       "      <td>969</td>\n",
       "      <td>745</td>\n",
       "      <td>99</td>\n",
       "      <td>333336</td>\n",
       "      <td>166668</td>\n",
       "      <td>166668</td>\n",
       "      <td>60844</td>\n",
       "      <td>8515</td>\n",
       "      <td>12746</td>\n",
       "      <td>4342</td>\n",
       "      <td>8594</td>\n",
       "      <td>55</td>\n",
       "      <td>868</td>\n",
       "      <td>482</td>\n",
       "      <td>712</td>\n",
       "      <td>477</td>\n",
       "      <td>26.15</td>\n",
       "    </tr>\n",
       "  </tbody>\n",
       "</table>\n",
       "</div>"
      ],
      "text/plain": [
       "       District  Total_Schools  Government_Schools  Aided_Schools  \\\n",
       "0      Ariyalur            802                 649             98   \n",
       "1  Chengalpattu           1085                 814            109   \n",
       "2       Chennai           1043                 853            127   \n",
       "3    Coimbatore           1227                 952            163   \n",
       "4     Cuddalore            969                 745             99   \n",
       "\n",
       "   Total_Enrollment  Boys_Enrollment  Girls_Enrollment  SC_Enrollment  \\\n",
       "0            274284           137142            137142          43884   \n",
       "1            292950           146475            146475          59315   \n",
       "2            430759           215379            215379          65185   \n",
       "3            438039           219019            219019          79360   \n",
       "4            333336           166668            166668          60844   \n",
       "\n",
       "   ST_Enrollment  Total_Teachers  Male_Teachers  Female_Teachers  \\\n",
       "0           7781            7806           2732             4460   \n",
       "1           7615            8890           2729             6188   \n",
       "2          20542           11906           4577             7236   \n",
       "3          13492           11896           4544             6872   \n",
       "4           8515           12746           4342             8594   \n",
       "\n",
       "   Single_Teacher_Schools  Schools_With_Electricity  Schools_With_Internet  \\\n",
       "0                      21                       749                    336   \n",
       "1                      48                       955                    468   \n",
       "2                      20                       888                    501   \n",
       "3                      13                      1197                    823   \n",
       "4                      55                       868                    482   \n",
       "\n",
       "   Schools_With_Library  Schools_With_Computer_Lab   PTR  \n",
       "0                   625                        586 35.14  \n",
       "1                   818                        612 32.95  \n",
       "2                   688                        683 36.18  \n",
       "3                  1024                        881 36.82  \n",
       "4                   712                        477 26.15  "
      ]
     },
     "execution_count": 8,
     "metadata": {},
     "output_type": "execute_result"
    }
   ],
   "source": [
    "def create_sample_udise_data():\n",
    "    \"\"\"Create sample UDISEPlus 2024-25 data\"\"\"\n",
    "    logger.info(\"Creating sample UDISEPlus 2024-25 data...\")\n",
    "    \n",
    "    np.random.seed(42)\n",
    "    \n",
    "    data = []\n",
    "    \n",
    "    for district in TN_DISTRICTS:\n",
    "        # Determine district type\n",
    "        urban_districts = ['Chennai', 'Coimbatore', 'Madurai', 'Tiruchirappalli', 'Salem']\n",
    "        tribal_districts = ['Nilgiris', 'Dharmapuri', 'Krishnagiri']\n",
    "        \n",
    "        if district in urban_districts:\n",
    "            schools = np.random.randint(800, 1500)\n",
    "            avg_enrollment = np.random.randint(350, 600)\n",
    "            single_teacher_pct = np.random.uniform(1, 3)\n",
    "        elif district in tribal_districts:\n",
    "            schools = np.random.randint(600, 1000)\n",
    "            avg_enrollment = np.random.randint(180, 300)\n",
    "            single_teacher_pct = np.random.uniform(5, 10)\n",
    "        else:\n",
    "            schools = np.random.randint(700, 1200)\n",
    "            avg_enrollment = np.random.randint(250, 400)\n",
    "            single_teacher_pct = np.random.uniform(2, 6)\n",
    "        \n",
    "        total_enrollment = schools * avg_enrollment\n",
    "        \n",
    "        # Teacher calculations\n",
    "        avg_ptr = np.random.uniform(25, 38)\n",
    "        total_teachers = int(total_enrollment / avg_ptr)\n",
    "        single_teacher_schools = int(schools * single_teacher_pct / 100)\n",
    "        \n",
    "        data.append({\n",
    "            'District': district,\n",
    "            'Total_Schools': schools,\n",
    "            'Government_Schools': int(schools * np.random.uniform(0.75, 0.85)),\n",
    "            'Aided_Schools': int(schools * np.random.uniform(0.10, 0.15)),\n",
    "            'Total_Enrollment': total_enrollment,\n",
    "            'Boys_Enrollment': int(total_enrollment * 0.5),\n",
    "            'Girls_Enrollment': int(total_enrollment * 0.5),\n",
    "            'SC_Enrollment': int(total_enrollment * np.random.uniform(0.15, 0.25)),\n",
    "            'ST_Enrollment': int(total_enrollment * np.random.uniform(0.01, 0.05)),\n",
    "            'Total_Teachers': total_teachers,\n",
    "            'Male_Teachers': int(total_teachers * np.random.uniform(0.30, 0.45)),\n",
    "            'Female_Teachers': int(total_teachers * np.random.uniform(0.55, 0.70)),\n",
    "            'Single_Teacher_Schools': single_teacher_schools,\n",
    "            'Schools_With_Electricity': int(schools * np.random.uniform(0.85, 0.98)),\n",
    "            'Schools_With_Internet': int(schools * np.random.uniform(0.40, 0.75)),\n",
    "            'Schools_With_Library': int(schools * np.random.uniform(0.60, 0.85)),\n",
    "            'Schools_With_Computer_Lab': int(schools * np.random.uniform(0.45, 0.75)),\n",
    "        })\n",
    "    \n",
    "    df = pd.DataFrame(data)\n",
    "    \n",
    "    # Calculate actual PTR\n",
    "    df['PTR'] = (df['Total_Enrollment'] / df['Total_Teachers']).round(2)\n",
    "    \n",
    "    # Save\n",
    "    filepath = RAW_DATA_DIR / 'udise_plus_2024_25.csv'\n",
    "    df.to_csv(filepath, index=False)\n",
    "    logger.info(f\"Saved UDISEPlus data: {filepath}\")\n",
    "    \n",
    "    return df\n",
    "\n",
    "\n",
    "# Generate UDISEPlus data\n",
    "udise_df = create_sample_udise_data()\n",
    "print(f\"\\n📊 UDISEPlus Data Shape: {udise_df.shape}\")\n",
    "print(f\"📊 State Average PTR: {udise_df['PTR'].mean():.2f}\")\n",
    "print(f\"📊 Total Schools: {udise_df['Total_Schools'].sum():,}\")\n",
    "print(f\"📊 Total Teachers: {udise_df['Total_Teachers'].sum():,}\")\n",
    "udise_df.head()"
   ]
  },
  {
   "cell_type": "code",
   "execution_count": 9,
   "id": "205fead3",
   "metadata": {},
   "outputs": [
    {
     "name": "stderr",
     "output_type": "stream",
     "text": [
      "2025-10-30 23:03:38,405 - INFO - Creating sample demographic data...\n",
      "2025-10-30 23:03:38,417 - INFO - Saved demographic data: d:\\project\\Tamil_Nadu_Teacher_Shortage_& _Learning_Outcomes_Dashboard\\data\\raw\\demographic_data_2025.csv\n"
     ]
    },
    {
     "name": "stdout",
     "output_type": "stream",
     "text": [
      "\n",
      "📊 Demographic Data Shape: (38, 10)\n",
      "📊 Total Population: 74,324,354\n",
      "📊 Average Literacy Rate: 77.20%\n"
     ]
    },
    {
     "data": {
      "text/html": [
       "<div>\n",
       "<style scoped>\n",
       "    .dataframe tbody tr th:only-of-type {\n",
       "        vertical-align: middle;\n",
       "    }\n",
       "\n",
       "    .dataframe tbody tr th {\n",
       "        vertical-align: top;\n",
       "    }\n",
       "\n",
       "    .dataframe thead th {\n",
       "        text-align: right;\n",
       "    }\n",
       "</style>\n",
       "<table border=\"1\" class=\"dataframe\">\n",
       "  <thead>\n",
       "    <tr style=\"text-align: right;\">\n",
       "      <th></th>\n",
       "      <th>District</th>\n",
       "      <th>Total_Population</th>\n",
       "      <th>School_Age_Population</th>\n",
       "      <th>Literacy_Rate</th>\n",
       "      <th>Urban_Population_Pct</th>\n",
       "      <th>SC_Population_Pct</th>\n",
       "      <th>ST_Population_Pct</th>\n",
       "      <th>Population_Density</th>\n",
       "      <th>Birth_Rate</th>\n",
       "      <th>Child_Sex_Ratio</th>\n",
       "    </tr>\n",
       "  </thead>\n",
       "  <tbody>\n",
       "    <tr>\n",
       "      <th>0</th>\n",
       "      <td>Ariyalur</td>\n",
       "      <td>1121958</td>\n",
       "      <td>264510</td>\n",
       "      <td>69.59</td>\n",
       "      <td>66.78</td>\n",
       "      <td>23.95</td>\n",
       "      <td>3.84</td>\n",
       "      <td>1438</td>\n",
       "      <td>14.35</td>\n",
       "      <td>963</td>\n",
       "    </tr>\n",
       "    <tr>\n",
       "      <th>1</th>\n",
       "      <td>Chengalpattu</td>\n",
       "      <td>1912756</td>\n",
       "      <td>424781</td>\n",
       "      <td>82.70</td>\n",
       "      <td>21.24</td>\n",
       "      <td>29.55</td>\n",
       "      <td>6.74</td>\n",
       "      <td>1005</td>\n",
       "      <td>14.00</td>\n",
       "      <td>960</td>\n",
       "    </tr>\n",
       "    <tr>\n",
       "      <th>2</th>\n",
       "      <td>Chennai</td>\n",
       "      <td>5214176</td>\n",
       "      <td>1049597</td>\n",
       "      <td>78.12</td>\n",
       "      <td>45.92</td>\n",
       "      <td>19.37</td>\n",
       "      <td>5.09</td>\n",
       "      <td>1905</td>\n",
       "      <td>14.28</td>\n",
       "      <td>955</td>\n",
       "    </tr>\n",
       "    <tr>\n",
       "      <th>3</th>\n",
       "      <td>Coimbatore</td>\n",
       "      <td>2952366</td>\n",
       "      <td>625679</td>\n",
       "      <td>84.63</td>\n",
       "      <td>31.98</td>\n",
       "      <td>22.71</td>\n",
       "      <td>4.94</td>\n",
       "      <td>1354</td>\n",
       "      <td>19.16</td>\n",
       "      <td>946</td>\n",
       "    </tr>\n",
       "    <tr>\n",
       "      <th>4</th>\n",
       "      <td>Cuddalore</td>\n",
       "      <td>1489492</td>\n",
       "      <td>315079</td>\n",
       "      <td>65.33</td>\n",
       "      <td>76.53</td>\n",
       "      <td>23.45</td>\n",
       "      <td>3.39</td>\n",
       "      <td>1569</td>\n",
       "      <td>14.59</td>\n",
       "      <td>959</td>\n",
       "    </tr>\n",
       "  </tbody>\n",
       "</table>\n",
       "</div>"
      ],
      "text/plain": [
       "       District  Total_Population  School_Age_Population  Literacy_Rate  \\\n",
       "0      Ariyalur           1121958                 264510          69.59   \n",
       "1  Chengalpattu           1912756                 424781          82.70   \n",
       "2       Chennai           5214176                1049597          78.12   \n",
       "3    Coimbatore           2952366                 625679          84.63   \n",
       "4     Cuddalore           1489492                 315079          65.33   \n",
       "\n",
       "   Urban_Population_Pct  SC_Population_Pct  ST_Population_Pct  \\\n",
       "0                 66.78              23.95               3.84   \n",
       "1                 21.24              29.55               6.74   \n",
       "2                 45.92              19.37               5.09   \n",
       "3                 31.98              22.71               4.94   \n",
       "4                 76.53              23.45               3.39   \n",
       "\n",
       "   Population_Density  Birth_Rate  Child_Sex_Ratio  \n",
       "0                1438       14.35              963  \n",
       "1                1005       14.00              960  \n",
       "2                1905       14.28              955  \n",
       "3                1354       19.16              946  \n",
       "4                1569       14.59              959  "
      ]
     },
     "execution_count": 9,
     "metadata": {},
     "output_type": "execute_result"
    }
   ],
   "source": [
    "def create_sample_demographic_data():\n",
    "    \"\"\"Create sample demographic data\"\"\"\n",
    "    logger.info(\"Creating sample demographic data...\")\n",
    "    \n",
    "    np.random.seed(42)\n",
    "    \n",
    "    data = []\n",
    "    \n",
    "    for district in TN_DISTRICTS:\n",
    "        if district == 'Chennai':\n",
    "            population = np.random.randint(5000000, 5500000)\n",
    "        elif district in ['Coimbatore', 'Tiruchirappalli', 'Madurai']:\n",
    "            population = np.random.randint(2500000, 3500000)\n",
    "        else:\n",
    "            population = np.random.randint(1000000, 2500000)\n",
    "        \n",
    "        school_age_pct = np.random.uniform(0.18, 0.25)\n",
    "        \n",
    "        data.append({\n",
    "            'District': district,\n",
    "            'Total_Population': population,\n",
    "            'School_Age_Population': int(population * school_age_pct),\n",
    "            'Literacy_Rate': np.random.uniform(65, 90),\n",
    "            'Urban_Population_Pct': np.random.uniform(20, 80),\n",
    "            'SC_Population_Pct': np.random.uniform(15, 30),\n",
    "            'ST_Population_Pct': np.random.uniform(0.5, 8),\n",
    "            'Population_Density': np.random.randint(200, 2000),\n",
    "            'Birth_Rate': np.random.uniform(14, 20),\n",
    "            'Child_Sex_Ratio': np.random.randint(940, 990),\n",
    "        })\n",
    "    \n",
    "    df = pd.DataFrame(data)\n",
    "    \n",
    "    # Round numeric values\n",
    "    df['Literacy_Rate'] = df['Literacy_Rate'].round(2)\n",
    "    df['Urban_Population_Pct'] = df['Urban_Population_Pct'].round(2)\n",
    "    \n",
    "    # Save\n",
    "    filepath = RAW_DATA_DIR / 'demographic_data_2025.csv'\n",
    "    df.to_csv(filepath, index=False)\n",
    "    logger.info(f\"Saved demographic data: {filepath}\")\n",
    "    \n",
    "    return df\n",
    "\n",
    "\n",
    "# Generate demographic data\n",
    "demo_df = create_sample_demographic_data()\n",
    "print(f\"\\n📊 Demographic Data Shape: {demo_df.shape}\")\n",
    "print(f\"📊 Total Population: {demo_df['Total_Population'].sum():,}\")\n",
    "print(f\"📊 Average Literacy Rate: {demo_df['Literacy_Rate'].mean():.2f}%\")\n",
    "demo_df.head()"
   ]
  },
  {
   "cell_type": "markdown",
   "id": "90df1af4",
   "metadata": {},
   "source": [
    "## 5️⃣ Data Processing & Integration"
   ]
  },
  {
   "cell_type": "code",
   "execution_count": 10,
   "id": "100b0cbd",
   "metadata": {},
   "outputs": [
    {
     "name": "stderr",
     "output_type": "stream",
     "text": [
      "2025-10-30 23:03:38,473 - INFO - Cleaning SLAS data...\n",
      "2025-10-30 23:03:38,490 - INFO - State averages - Class 3: 58.92, Class 5: 59.05, Class 8: 58.02, Overall: 58.67\n"
     ]
    },
    {
     "name": "stdout",
     "output_type": "stream",
     "text": [
      "✅ SLAS data cleaned. Shape: (38, 29)\n"
     ]
    },
    {
     "data": {
      "text/html": [
       "<div>\n",
       "<style scoped>\n",
       "    .dataframe tbody tr th:only-of-type {\n",
       "        vertical-align: middle;\n",
       "    }\n",
       "\n",
       "    .dataframe tbody tr th {\n",
       "        vertical-align: top;\n",
       "    }\n",
       "\n",
       "    .dataframe thead th {\n",
       "        text-align: right;\n",
       "    }\n",
       "</style>\n",
       "<table border=\"1\" class=\"dataframe\">\n",
       "  <thead>\n",
       "    <tr style=\"text-align: right;\">\n",
       "      <th></th>\n",
       "      <th>District</th>\n",
       "      <th>Overall_Average</th>\n",
       "      <th>Overall_Rank</th>\n",
       "      <th>Overall_Category</th>\n",
       "    </tr>\n",
       "  </thead>\n",
       "  <tbody>\n",
       "    <tr>\n",
       "      <th>0</th>\n",
       "      <td>Ariyalur</td>\n",
       "      <td>53.52</td>\n",
       "      <td>23</td>\n",
       "      <td>Satisfactory (40-59%)</td>\n",
       "    </tr>\n",
       "    <tr>\n",
       "      <th>1</th>\n",
       "      <td>Chengalpattu</td>\n",
       "      <td>57.94</td>\n",
       "      <td>18</td>\n",
       "      <td>Satisfactory (40-59%)</td>\n",
       "    </tr>\n",
       "    <tr>\n",
       "      <th>2</th>\n",
       "      <td>Chennai</td>\n",
       "      <td>61.15</td>\n",
       "      <td>16</td>\n",
       "      <td>Good (60-79%)</td>\n",
       "    </tr>\n",
       "    <tr>\n",
       "      <th>3</th>\n",
       "      <td>Coimbatore</td>\n",
       "      <td>63.22</td>\n",
       "      <td>14</td>\n",
       "      <td>Good (60-79%)</td>\n",
       "    </tr>\n",
       "    <tr>\n",
       "      <th>4</th>\n",
       "      <td>Cuddalore</td>\n",
       "      <td>75.90</td>\n",
       "      <td>5</td>\n",
       "      <td>Good (60-79%)</td>\n",
       "    </tr>\n",
       "    <tr>\n",
       "      <th>5</th>\n",
       "      <td>Dharmapuri</td>\n",
       "      <td>52.37</td>\n",
       "      <td>26</td>\n",
       "      <td>Satisfactory (40-59%)</td>\n",
       "    </tr>\n",
       "    <tr>\n",
       "      <th>6</th>\n",
       "      <td>Dindigul</td>\n",
       "      <td>57.04</td>\n",
       "      <td>19</td>\n",
       "      <td>Satisfactory (40-59%)</td>\n",
       "    </tr>\n",
       "    <tr>\n",
       "      <th>7</th>\n",
       "      <td>Erode</td>\n",
       "      <td>49.92</td>\n",
       "      <td>29</td>\n",
       "      <td>Satisfactory (40-59%)</td>\n",
       "    </tr>\n",
       "    <tr>\n",
       "      <th>8</th>\n",
       "      <td>Kallakurichi</td>\n",
       "      <td>45.81</td>\n",
       "      <td>33</td>\n",
       "      <td>Satisfactory (40-59%)</td>\n",
       "    </tr>\n",
       "    <tr>\n",
       "      <th>9</th>\n",
       "      <td>Kancheepuram</td>\n",
       "      <td>52.53</td>\n",
       "      <td>25</td>\n",
       "      <td>Satisfactory (40-59%)</td>\n",
       "    </tr>\n",
       "  </tbody>\n",
       "</table>\n",
       "</div>"
      ],
      "text/plain": [
       "       District  Overall_Average  Overall_Rank       Overall_Category\n",
       "0      Ariyalur            53.52            23  Satisfactory (40-59%)\n",
       "1  Chengalpattu            57.94            18  Satisfactory (40-59%)\n",
       "2       Chennai            61.15            16          Good (60-79%)\n",
       "3    Coimbatore            63.22            14          Good (60-79%)\n",
       "4     Cuddalore            75.90             5          Good (60-79%)\n",
       "5    Dharmapuri            52.37            26  Satisfactory (40-59%)\n",
       "6      Dindigul            57.04            19  Satisfactory (40-59%)\n",
       "7         Erode            49.92            29  Satisfactory (40-59%)\n",
       "8  Kallakurichi            45.81            33  Satisfactory (40-59%)\n",
       "9  Kancheepuram            52.53            25  Satisfactory (40-59%)"
      ]
     },
     "execution_count": 10,
     "metadata": {},
     "output_type": "execute_result"
    }
   ],
   "source": [
    "def clean_slas_data(df):\n",
    "    \"\"\"Clean and enrich SLAS learning outcomes data\"\"\"\n",
    "    logger.info(\"Cleaning SLAS data...\")\n",
    "    \n",
    "    df = df.copy()\n",
    "    df = standardize_district_names(df, 'District')\n",
    "    \n",
    "    # Add performance categories\n",
    "    df['Class_3_Category'] = df['Class_3_Average'].apply(categorize_learning_outcome)\n",
    "    df['Class_5_Category'] = df['Class_5_Average'].apply(categorize_learning_outcome)\n",
    "    df['Class_8_Category'] = df['Class_8_Average'].apply(categorize_learning_outcome)\n",
    "    df['Overall_Category'] = df['Overall_Average'].apply(categorize_learning_outcome)\n",
    "    \n",
    "    # Calculate state averages\n",
    "    state_avg_3 = df['Class_3_Average'].mean()\n",
    "    state_avg_5 = df['Class_5_Average'].mean()\n",
    "    state_avg_8 = df['Class_8_Average'].mean()\n",
    "    state_avg_overall = df['Overall_Average'].mean()\n",
    "    \n",
    "    # Deviation from state average\n",
    "    df['Class_3_vs_State'] = df['Class_3_Average'] - state_avg_3\n",
    "    df['Class_5_vs_State'] = df['Class_5_Average'] - state_avg_5\n",
    "    df['Class_8_vs_State'] = df['Class_8_Average'] - state_avg_8\n",
    "    df['Overall_vs_State'] = df['Overall_Average'] - state_avg_overall\n",
    "    \n",
    "    # Performance rank\n",
    "    df['Overall_Rank'] = df['Overall_Average'].rank(ascending=False, method='min').astype(int)\n",
    "    \n",
    "    logger.info(f\"State averages - Class 3: {state_avg_3:.2f}, Class 5: {state_avg_5:.2f}, \"\n",
    "                f\"Class 8: {state_avg_8:.2f}, Overall: {state_avg_overall:.2f}\")\n",
    "    \n",
    "    return df\n",
    "\n",
    "\n",
    "# Clean SLAS data\n",
    "slas_clean = clean_slas_data(slas_df)\n",
    "print(f\"✅ SLAS data cleaned. Shape: {slas_clean.shape}\")\n",
    "slas_clean[['District', 'Overall_Average', 'Overall_Rank', 'Overall_Category']].head(10)"
   ]
  },
  {
   "cell_type": "code",
   "execution_count": 11,
   "id": "482c4f5c",
   "metadata": {},
   "outputs": [
    {
     "name": "stderr",
     "output_type": "stream",
     "text": [
      "2025-10-30 23:03:38,528 - INFO - Cleaning UDISEPlus data...\n"
     ]
    },
    {
     "name": "stdout",
     "output_type": "stream",
     "text": [
      "✅ UDISEPlus data cleaned. Shape: (38, 30)\n",
      "📊 Average PTR: 31.93\n",
      "📊 Total Teacher Deficit (PTR 30): 18,177\n"
     ]
    },
    {
     "data": {
      "text/html": [
       "<div>\n",
       "<style scoped>\n",
       "    .dataframe tbody tr th:only-of-type {\n",
       "        vertical-align: middle;\n",
       "    }\n",
       "\n",
       "    .dataframe tbody tr th {\n",
       "        vertical-align: top;\n",
       "    }\n",
       "\n",
       "    .dataframe thead th {\n",
       "        text-align: right;\n",
       "    }\n",
       "</style>\n",
       "<table border=\"1\" class=\"dataframe\">\n",
       "  <thead>\n",
       "    <tr style=\"text-align: right;\">\n",
       "      <th></th>\n",
       "      <th>District</th>\n",
       "      <th>PTR_Calculated</th>\n",
       "      <th>PTR_Category</th>\n",
       "      <th>Teacher_Deficit_PTR30</th>\n",
       "    </tr>\n",
       "  </thead>\n",
       "  <tbody>\n",
       "    <tr>\n",
       "      <th>0</th>\n",
       "      <td>Ariyalur</td>\n",
       "      <td>35.14</td>\n",
       "      <td>Needs Improvement (36-40)</td>\n",
       "      <td>1337</td>\n",
       "    </tr>\n",
       "    <tr>\n",
       "      <th>1</th>\n",
       "      <td>Chengalpattu</td>\n",
       "      <td>32.95</td>\n",
       "      <td>Adequate (31-35)</td>\n",
       "      <td>875</td>\n",
       "    </tr>\n",
       "    <tr>\n",
       "      <th>2</th>\n",
       "      <td>Chennai</td>\n",
       "      <td>36.18</td>\n",
       "      <td>Needs Improvement (36-40)</td>\n",
       "      <td>2453</td>\n",
       "    </tr>\n",
       "    <tr>\n",
       "      <th>3</th>\n",
       "      <td>Coimbatore</td>\n",
       "      <td>36.82</td>\n",
       "      <td>Needs Improvement (36-40)</td>\n",
       "      <td>2705</td>\n",
       "    </tr>\n",
       "    <tr>\n",
       "      <th>4</th>\n",
       "      <td>Cuddalore</td>\n",
       "      <td>26.15</td>\n",
       "      <td>Good (21-30)</td>\n",
       "      <td>-1635</td>\n",
       "    </tr>\n",
       "    <tr>\n",
       "      <th>5</th>\n",
       "      <td>Dharmapuri</td>\n",
       "      <td>37.84</td>\n",
       "      <td>Needs Improvement (36-40)</td>\n",
       "      <td>950</td>\n",
       "    </tr>\n",
       "    <tr>\n",
       "      <th>6</th>\n",
       "      <td>Dindigul</td>\n",
       "      <td>26.24</td>\n",
       "      <td>Good (21-30)</td>\n",
       "      <td>-1278</td>\n",
       "    </tr>\n",
       "    <tr>\n",
       "      <th>7</th>\n",
       "      <td>Erode</td>\n",
       "      <td>31.80</td>\n",
       "      <td>Adequate (31-35)</td>\n",
       "      <td>703</td>\n",
       "    </tr>\n",
       "    <tr>\n",
       "      <th>8</th>\n",
       "      <td>Kallakurichi</td>\n",
       "      <td>26.00</td>\n",
       "      <td>Good (21-30)</td>\n",
       "      <td>-1240</td>\n",
       "    </tr>\n",
       "    <tr>\n",
       "      <th>9</th>\n",
       "      <td>Kancheepuram</td>\n",
       "      <td>30.55</td>\n",
       "      <td>Adequate (31-35)</td>\n",
       "      <td>239</td>\n",
       "    </tr>\n",
       "  </tbody>\n",
       "</table>\n",
       "</div>"
      ],
      "text/plain": [
       "       District  PTR_Calculated               PTR_Category  \\\n",
       "0      Ariyalur           35.14  Needs Improvement (36-40)   \n",
       "1  Chengalpattu           32.95           Adequate (31-35)   \n",
       "2       Chennai           36.18  Needs Improvement (36-40)   \n",
       "3    Coimbatore           36.82  Needs Improvement (36-40)   \n",
       "4     Cuddalore           26.15               Good (21-30)   \n",
       "5    Dharmapuri           37.84  Needs Improvement (36-40)   \n",
       "6      Dindigul           26.24               Good (21-30)   \n",
       "7         Erode           31.80           Adequate (31-35)   \n",
       "8  Kallakurichi           26.00               Good (21-30)   \n",
       "9  Kancheepuram           30.55           Adequate (31-35)   \n",
       "\n",
       "   Teacher_Deficit_PTR30  \n",
       "0                   1337  \n",
       "1                    875  \n",
       "2                   2453  \n",
       "3                   2705  \n",
       "4                  -1635  \n",
       "5                    950  \n",
       "6                  -1278  \n",
       "7                    703  \n",
       "8                  -1240  \n",
       "9                    239  "
      ]
     },
     "execution_count": 11,
     "metadata": {},
     "output_type": "execute_result"
    }
   ],
   "source": [
    "def clean_udise_data(df):\n",
    "    \"\"\"Clean and enrich UDISEPlus data\"\"\"\n",
    "    logger.info(\"Cleaning UDISEPlus data...\")\n",
    "    \n",
    "    df = df.copy()\n",
    "    df = standardize_district_names(df, 'District')\n",
    "    \n",
    "    # Recalculate PTR\n",
    "    df['PTR_Calculated'] = calculate_ptr(df, 'Total_Enrollment', 'Total_Teachers')\n",
    "    \n",
    "    # Add PTR category\n",
    "    df['PTR_Category'] = df['PTR_Calculated'].apply(categorize_ptr)\n",
    "    \n",
    "    # Calculate teacher deficit\n",
    "    df['Teacher_Deficit_PTR30'] = calculate_teacher_deficit(df, ideal_ptr=30)\n",
    "    df['Teacher_Deficit_PTR25'] = calculate_teacher_deficit(df, ideal_ptr=25)\n",
    "    \n",
    "    # Single teacher school percentage\n",
    "    df['Single_Teacher_School_Pct'] = (df['Single_Teacher_Schools'] / df['Total_Schools'] * 100).round(2)\n",
    "    \n",
    "    # Infrastructure scores\n",
    "    infra_cols = ['Schools_With_Electricity', 'Schools_With_Internet', \n",
    "                  'Schools_With_Library', 'Schools_With_Computer_Lab']\n",
    "    \n",
    "    for col in infra_cols:\n",
    "        pct_col = f\"{col}_Pct\"\n",
    "        df[pct_col] = (df[col] / df['Total_Schools'] * 100).round(2)\n",
    "    \n",
    "    df['Infrastructure_Score'] = df[[f\"{col}_Pct\" for col in infra_cols]].mean(axis=1).round(2)\n",
    "    \n",
    "    # Gender parity index (GPI)\n",
    "    df['GPI_Enrollment'] = (df['Girls_Enrollment'] / df['Boys_Enrollment']).round(3)\n",
    "    df['GPI_Teachers'] = (df['Female_Teachers'] / df['Male_Teachers']).round(3)\n",
    "    \n",
    "    return df\n",
    "\n",
    "\n",
    "# Clean UDISE data\n",
    "udise_clean = clean_udise_data(udise_df)\n",
    "print(f\"✅ UDISEPlus data cleaned. Shape: {udise_clean.shape}\")\n",
    "print(f\"📊 Average PTR: {udise_clean['PTR_Calculated'].mean():.2f}\")\n",
    "print(f\"📊 Total Teacher Deficit (PTR 30): {udise_clean['Teacher_Deficit_PTR30'].sum():,}\")\n",
    "udise_clean[['District', 'PTR_Calculated', 'PTR_Category', 'Teacher_Deficit_PTR30']].head(10)"
   ]
  },
  {
   "cell_type": "code",
   "execution_count": 12,
   "id": "3a3eca67",
   "metadata": {},
   "outputs": [
    {
     "name": "stderr",
     "output_type": "stream",
     "text": [
      "2025-10-30 23:03:38,597 - INFO - Cleaning demographic data...\n"
     ]
    },
    {
     "name": "stdout",
     "output_type": "stream",
     "text": [
      "✅ Demographic data cleaned. Shape: (38, 10)\n"
     ]
    },
    {
     "data": {
      "text/html": [
       "<div>\n",
       "<style scoped>\n",
       "    .dataframe tbody tr th:only-of-type {\n",
       "        vertical-align: middle;\n",
       "    }\n",
       "\n",
       "    .dataframe tbody tr th {\n",
       "        vertical-align: top;\n",
       "    }\n",
       "\n",
       "    .dataframe thead th {\n",
       "        text-align: right;\n",
       "    }\n",
       "</style>\n",
       "<table border=\"1\" class=\"dataframe\">\n",
       "  <thead>\n",
       "    <tr style=\"text-align: right;\">\n",
       "      <th></th>\n",
       "      <th>District</th>\n",
       "      <th>Total_Population</th>\n",
       "      <th>School_Age_Population</th>\n",
       "      <th>Literacy_Rate</th>\n",
       "      <th>Urban_Population_Pct</th>\n",
       "      <th>SC_Population_Pct</th>\n",
       "      <th>ST_Population_Pct</th>\n",
       "      <th>Population_Density</th>\n",
       "      <th>Birth_Rate</th>\n",
       "      <th>Child_Sex_Ratio</th>\n",
       "    </tr>\n",
       "  </thead>\n",
       "  <tbody>\n",
       "    <tr>\n",
       "      <th>0</th>\n",
       "      <td>Ariyalur</td>\n",
       "      <td>1121958</td>\n",
       "      <td>264510</td>\n",
       "      <td>69.59</td>\n",
       "      <td>66.78</td>\n",
       "      <td>23.95</td>\n",
       "      <td>3.84</td>\n",
       "      <td>1438</td>\n",
       "      <td>14.35</td>\n",
       "      <td>963</td>\n",
       "    </tr>\n",
       "    <tr>\n",
       "      <th>1</th>\n",
       "      <td>Chengalpattu</td>\n",
       "      <td>1912756</td>\n",
       "      <td>424781</td>\n",
       "      <td>82.70</td>\n",
       "      <td>21.24</td>\n",
       "      <td>29.55</td>\n",
       "      <td>6.74</td>\n",
       "      <td>1005</td>\n",
       "      <td>14.00</td>\n",
       "      <td>960</td>\n",
       "    </tr>\n",
       "    <tr>\n",
       "      <th>2</th>\n",
       "      <td>Chennai</td>\n",
       "      <td>5214176</td>\n",
       "      <td>1049597</td>\n",
       "      <td>78.12</td>\n",
       "      <td>45.92</td>\n",
       "      <td>19.37</td>\n",
       "      <td>5.09</td>\n",
       "      <td>1905</td>\n",
       "      <td>14.28</td>\n",
       "      <td>955</td>\n",
       "    </tr>\n",
       "    <tr>\n",
       "      <th>3</th>\n",
       "      <td>Coimbatore</td>\n",
       "      <td>2952366</td>\n",
       "      <td>625679</td>\n",
       "      <td>84.63</td>\n",
       "      <td>31.98</td>\n",
       "      <td>22.71</td>\n",
       "      <td>4.94</td>\n",
       "      <td>1354</td>\n",
       "      <td>19.16</td>\n",
       "      <td>946</td>\n",
       "    </tr>\n",
       "    <tr>\n",
       "      <th>4</th>\n",
       "      <td>Cuddalore</td>\n",
       "      <td>1489492</td>\n",
       "      <td>315079</td>\n",
       "      <td>65.33</td>\n",
       "      <td>76.53</td>\n",
       "      <td>23.45</td>\n",
       "      <td>3.39</td>\n",
       "      <td>1569</td>\n",
       "      <td>14.59</td>\n",
       "      <td>959</td>\n",
       "    </tr>\n",
       "  </tbody>\n",
       "</table>\n",
       "</div>"
      ],
      "text/plain": [
       "       District  Total_Population  School_Age_Population  Literacy_Rate  \\\n",
       "0      Ariyalur           1121958                 264510          69.59   \n",
       "1  Chengalpattu           1912756                 424781          82.70   \n",
       "2       Chennai           5214176                1049597          78.12   \n",
       "3    Coimbatore           2952366                 625679          84.63   \n",
       "4     Cuddalore           1489492                 315079          65.33   \n",
       "\n",
       "   Urban_Population_Pct  SC_Population_Pct  ST_Population_Pct  \\\n",
       "0                 66.78              23.95               3.84   \n",
       "1                 21.24              29.55               6.74   \n",
       "2                 45.92              19.37               5.09   \n",
       "3                 31.98              22.71               4.94   \n",
       "4                 76.53              23.45               3.39   \n",
       "\n",
       "   Population_Density  Birth_Rate  Child_Sex_Ratio  \n",
       "0                1438       14.35              963  \n",
       "1                1005       14.00              960  \n",
       "2                1905       14.28              955  \n",
       "3                1354       19.16              946  \n",
       "4                1569       14.59              959  "
      ]
     },
     "execution_count": 12,
     "metadata": {},
     "output_type": "execute_result"
    }
   ],
   "source": [
    "def clean_demographic_data(df):\n",
    "    \"\"\"Clean demographic data\"\"\"\n",
    "    logger.info(\"Cleaning demographic data...\")\n",
    "    \n",
    "    df = df.copy()\n",
    "    df = standardize_district_names(df, 'District')\n",
    "    \n",
    "    return df\n",
    "\n",
    "\n",
    "# Clean demographic data\n",
    "demo_clean = clean_demographic_data(demo_df)\n",
    "print(f\"✅ Demographic data cleaned. Shape: {demo_clean.shape}\")\n",
    "demo_clean.head()"
   ]
  },
  {
   "cell_type": "code",
   "execution_count": 13,
   "id": "ded4a0c8",
   "metadata": {},
   "outputs": [
    {
     "name": "stderr",
     "output_type": "stream",
     "text": [
      "2025-10-30 23:03:38,640 - INFO - Merging all datasets...\n",
      "2025-10-30 23:03:38,654 - INFO - Merged dataset shape: (38, 67)\n"
     ]
    },
    {
     "name": "stdout",
     "output_type": "stream",
     "text": [
      "✅ All datasets merged. Shape: (38, 67)\n",
      "📊 Districts: 38\n",
      "📊 Total Features: 67\n"
     ]
    }
   ],
   "source": [
    "def merge_all_datasets(slas_df, udise_df, demo_df):\n",
    "    \"\"\"Merge all cleaned datasets\"\"\"\n",
    "    logger.info(\"Merging all datasets...\")\n",
    "    \n",
    "    # Start with UDISE as base\n",
    "    merged = udise_df.copy()\n",
    "    \n",
    "    # Merge SLAS data\n",
    "    merged = pd.merge(\n",
    "        merged, \n",
    "        slas_df,\n",
    "        on='District',\n",
    "        how='left'\n",
    "    )\n",
    "    \n",
    "    # Merge demographic data\n",
    "    merged = pd.merge(\n",
    "        merged,\n",
    "        demo_df,\n",
    "        on='District',\n",
    "        how='left'\n",
    "    )\n",
    "    \n",
    "    logger.info(f\"Merged dataset shape: {merged.shape}\")\n",
    "    \n",
    "    return merged\n",
    "\n",
    "\n",
    "# Merge all datasets\n",
    "merged_df = merge_all_datasets(slas_clean, udise_clean, demo_clean)\n",
    "print(f\"✅ All datasets merged. Shape: {merged_df.shape}\")\n",
    "print(f\"📊 Districts: {merged_df['District'].nunique()}\")\n",
    "print(f\"📊 Total Features: {merged_df.shape[1]}\")"
   ]
  },
  {
   "cell_type": "code",
   "execution_count": 14,
   "id": "506bdb54",
   "metadata": {},
   "outputs": [
    {
     "name": "stderr",
     "output_type": "stream",
     "text": [
      "2025-10-30 23:03:38,682 - INFO - Creating analysis-ready dataset...\n",
      "2025-10-30 23:03:38,710 - INFO - Saved d:\\project\\Tamil_Nadu_Teacher_Shortage_& _Learning_Outcomes_Dashboard\\data\\processed\\tn_education_integrated.csv\n",
      "2025-10-30 23:03:38,714 - INFO - Saved d:\\project\\Tamil_Nadu_Teacher_Shortage_& _Learning_Outcomes_Dashboard\\data\\processed\\slas_2025_clean.csv\n",
      "2025-10-30 23:03:38,717 - INFO - Saved d:\\project\\Tamil_Nadu_Teacher_Shortage_& _Learning_Outcomes_Dashboard\\data\\processed\\udise_2024_25_clean.csv\n",
      "2025-10-30 23:03:38,719 - INFO - Saved d:\\project\\Tamil_Nadu_Teacher_Shortage_& _Learning_Outcomes_Dashboard\\data\\processed\\demographic_clean.csv\n"
     ]
    },
    {
     "name": "stdout",
     "output_type": "stream",
     "text": [
      "✅ Analysis-ready dataset created. Shape: (38, 76)\n",
      "\n",
      "📊 Priority Distribution:\n",
      "Priority_Category\n",
      "Medium Priority      32\n",
      "Low Priority          6\n",
      "High Priority         0\n",
      "Critical Priority     0\n",
      "Name: count, dtype: int64\n",
      "\n",
      "✅ All processed data saved!\n"
     ]
    }
   ],
   "source": [
    "def create_analysis_ready_dataset(merged_df):\n",
    "    \"\"\"Create final analysis-ready dataset with derived features\"\"\"\n",
    "    logger.info(\"Creating analysis-ready dataset...\")\n",
    "    \n",
    "    df = merged_df.copy()\n",
    "    \n",
    "    # Enrollment efficiency\n",
    "    df['Enrollment_Per_School'] = (df['Total_Enrollment'] / df['Total_Schools']).round(2)\n",
    "    df['Teachers_Per_School'] = (df['Total_Teachers'] / df['Total_Schools']).round(2)\n",
    "    \n",
    "    # Disadvantaged group representation\n",
    "    df['SC_Enrollment_Pct'] = (df['SC_Enrollment'] / df['Total_Enrollment'] * 100).round(2)\n",
    "    df['ST_Enrollment_Pct'] = (df['ST_Enrollment'] / df['Total_Enrollment'] * 100).round(2)\n",
    "    \n",
    "    # Population coverage\n",
    "    df['Enrollment_Rate'] = (df['Total_Enrollment'] / df['School_Age_Population'] * 100).round(2)\n",
    "    \n",
    "    # Education Quality Index (0-100)\n",
    "    df['Education_Quality_Index'] = (\n",
    "        (df['Overall_Average'] * 0.4) +\n",
    "        ((100 - df['PTR_Calculated']) * 0.3) +\n",
    "        (df['Infrastructure_Score'] * 0.2) +\n",
    "        (df['Literacy_Rate'] * 0.1)\n",
    "    ).round(2)\n",
    "    \n",
    "    # Teacher Adequacy Score (0-100)\n",
    "    max_ptr = df['PTR_Calculated'].max()\n",
    "    df['Teacher_Adequacy_Score'] = ((max_ptr - df['PTR_Calculated']) / max_ptr * 100).round(2)\n",
    "    \n",
    "    # Priority Score (higher = more urgent need)\n",
    "    df['Priority_Score'] = (\n",
    "        ((100 - df['Overall_Average']) * 0.5) +\n",
    "        (df['PTR_Calculated'] * 0.3) +\n",
    "        ((100 - df['Infrastructure_Score']) * 0.2)\n",
    "    ).round(2)\n",
    "    \n",
    "    # Categorize priority\n",
    "    df['Priority_Category'] = pd.cut(\n",
    "        df['Priority_Score'],\n",
    "        bins=[0, 30, 50, 70, 100],\n",
    "        labels=['Low Priority', 'Medium Priority', 'High Priority', 'Critical Priority']\n",
    "    )\n",
    "    \n",
    "    return df\n",
    "\n",
    "\n",
    "# Create final dataset\n",
    "final_df = create_analysis_ready_dataset(merged_df)\n",
    "print(f\"✅ Analysis-ready dataset created. Shape: {final_df.shape}\")\n",
    "print(f\"\\n📊 Priority Distribution:\")\n",
    "print(final_df['Priority_Category'].value_counts())\n",
    "\n",
    "# Save processed data\n",
    "save_processed_data(final_df, 'tn_education_integrated')\n",
    "save_processed_data(slas_clean, 'slas_2025_clean')\n",
    "save_processed_data(udise_clean, 'udise_2024_25_clean')\n",
    "save_processed_data(demo_clean, 'demographic_clean')\n",
    "\n",
    "print(\"\\n✅ All processed data saved!\")"
   ]
  },
  {
   "cell_type": "code",
   "execution_count": 15,
   "id": "e8a939af",
   "metadata": {},
   "outputs": [
    {
     "name": "stdout",
     "output_type": "stream",
     "text": [
      "================================================================================\n",
      "📊 SUMMARY STATISTICS\n",
      "================================================================================\n",
      "Total Districts................................... 38\n",
      "Total Schools..................................... 36,503\n",
      "Total Enrollment.................................. 12,523,387\n",
      "Total Teachers.................................... 399,272\n",
      "State Avg PTR..................................... 31.93\n",
      "State Avg Learning Outcome........................ 58.67\n",
      "Single Teacher Schools............................ 1,421\n",
      "Teacher Deficit (PTR 30).......................... 18,177\n",
      "Teacher Deficit (PTR 25).......................... 101,666\n",
      "Avg Infrastructure Score.......................... 70.89\n",
      "================================================================================\n"
     ]
    }
   ],
   "source": [
    "# Display summary statistics\n",
    "print(\"=\"*80)\n",
    "print(\"📊 SUMMARY STATISTICS\")\n",
    "print(\"=\"*80)\n",
    "\n",
    "summary = {\n",
    "    'Total Districts': len(final_df),\n",
    "    'Total Schools': final_df['Total_Schools'].sum(),\n",
    "    'Total Enrollment': final_df['Total_Enrollment'].sum(),\n",
    "    'Total Teachers': final_df['Total_Teachers'].sum(),\n",
    "    'State Avg PTR': final_df['PTR_Calculated'].mean(),\n",
    "    'State Avg Learning Outcome': final_df['Overall_Average'].mean(),\n",
    "    'Single Teacher Schools': final_df['Single_Teacher_Schools'].sum(),\n",
    "    'Teacher Deficit (PTR 30)': final_df['Teacher_Deficit_PTR30'].sum(),\n",
    "    'Teacher Deficit (PTR 25)': final_df['Teacher_Deficit_PTR25'].sum(),\n",
    "    'Avg Infrastructure Score': final_df['Infrastructure_Score'].mean(),\n",
    "}\n",
    "\n",
    "for key, value in summary.items():\n",
    "    if isinstance(value, float):\n",
    "        print(f\"{key:.<50} {value:.2f}\")\n",
    "    else:\n",
    "        print(f\"{key:.<50} {value:,}\")\n",
    "\n",
    "print(\"=\"*80)"
   ]
  },
  {
   "cell_type": "markdown",
   "id": "f0dbf126",
   "metadata": {},
   "source": [
    "## 6️⃣ Statistical Analysis"
   ]
  },
  {
   "cell_type": "code",
   "execution_count": 16,
   "id": "0d545123",
   "metadata": {},
   "outputs": [
    {
     "name": "stderr",
     "output_type": "stream",
     "text": [
      "2025-10-30 23:03:38,759 - INFO - Performing correlation analysis...\n"
     ]
    },
    {
     "name": "stdout",
     "output_type": "stream",
     "text": [
      "\n",
      "📊 Key Correlations (Teacher Metrics vs Learning Outcomes):\n",
      "                           Class_3_Average  Class_5_Average  Class_8_Average  \\\n",
      "PTR_Calculated                       -0.29            -0.27            -0.26   \n",
      "Teacher_Deficit_PTR30                -0.28            -0.25            -0.25   \n",
      "Single_Teacher_School_Pct            -0.14            -0.11            -0.07   \n",
      "Teachers_Per_School                   0.20             0.18             0.16   \n",
      "\n",
      "                           Overall_Average  \n",
      "PTR_Calculated                       -0.28  \n",
      "Teacher_Deficit_PTR30                -0.26  \n",
      "Single_Teacher_School_Pct            -0.11  \n",
      "Teachers_Per_School                   0.18  \n"
     ]
    },
    {
     "data": {
      "image/png": "[encoded data removed]",
      "text/plain": [
       "<Figure size 1400x1000 with 2 Axes>"
      ]
     },
     "metadata": {},
     "output_type": "display_data"
    }
   ],
   "source": [
    "# Correlation Analysis\n",
    "def correlation_analysis(df):\n",
    "    \"\"\"Analyze correlations between teacher metrics and learning outcomes\"\"\"\n",
    "    logger.info(\"Performing correlation analysis...\")\n",
    "    \n",
    "    analysis_vars = [\n",
    "        'PTR_Calculated', 'Teacher_Deficit_PTR30', 'Single_Teacher_School_Pct',\n",
    "        'Teachers_Per_School', 'GPI_Teachers',\n",
    "        'Class_3_Average', 'Class_5_Average', 'Class_8_Average', 'Overall_Average',\n",
    "        'Infrastructure_Score', 'Literacy_Rate', 'Urban_Population_Pct'\n",
    "    ]\n",
    "    \n",
    "    corr_df = df[analysis_vars].copy()\n",
    "    corr_matrix = corr_df.corr()\n",
    "    \n",
    "    # Focus on learning outcomes\n",
    "    learning_vars = ['Class_3_Average', 'Class_5_Average', 'Class_8_Average', 'Overall_Average']\n",
    "    teacher_vars = ['PTR_Calculated', 'Teacher_Deficit_PTR30', 'Single_Teacher_School_Pct', \n",
    "                    'Teachers_Per_School']\n",
    "    \n",
    "    key_correlations = corr_matrix.loc[teacher_vars, learning_vars]\n",
    "    \n",
    "    print(\"\\n📊 Key Correlations (Teacher Metrics vs Learning Outcomes):\")\n",
    "    print(key_correlations.round(3))\n",
    "    \n",
    "    # Save\n",
    "    corr_matrix.to_csv(OUTPUT_DIR / 'full_correlation_matrix.csv')\n",
    "    \n",
    "    # Visualize\n",
    "    plt.figure(figsize=(14, 10))\n",
    "    sns.heatmap(corr_matrix, annot=True, fmt='.2f', cmap='coolwarm', center=0,\n",
    "                square=True, linewidths=1, cbar_kws={\"shrink\": 0.8})\n",
    "    plt.title('Correlation Matrix - Education Metrics', fontsize=16, fontweight='bold')\n",
    "    plt.tight_layout()\n",
    "    plt.savefig(OUTPUT_DIR / 'correlation_heatmap.png', dpi=300, bbox_inches='tight')\n",
    "    plt.show()\n",
    "    \n",
    "    return corr_matrix\n",
    "\n",
    "\n",
    "corr_matrix = correlation_analysis(final_df)"
   ]
  },
  {
   "cell_type": "code",
   "execution_count": 17,
   "id": "3f0137b2",
   "metadata": {},
   "outputs": [
    {
     "data": {
      "application/vnd.plotly.v1+json": {
       "config": {
        "plotlyServerURL": "https://plot.ly"
       },
       "data": [
        {
         "hovertemplate": "<b>%{hovertext}</b><br><br>Priority_Category=Medium Priority<br>Pupil-Teacher Ratio=%{x}<br>Overall Learning Outcome (%)=%{y}<br>Total Enrollment=%{marker.size}<extra></extra>",
         "hovertext": [
          "Ariyalur",
          "Chengalpattu",
          "Chennai",
          "Coimbatore",
          "Dharmapuri",
          "Dindigul",
          "Erode",
          "Kallakurichi",
          "Kancheepuram",
          "Karur",
          "Krishnagiri",
          "Mayiladuthurai",
          "Nagapattinam",
          "Namakkal",
          "Nilgiris",
          "Perambalur",
          "Pudukkottai",
          "Ramanathapuram",
          "Ranipet",
          "Salem",
          "Thanjavur",
          "Theni",
          "Thoothukudi",
          "Tirunelveli",
          "Tirupattur",
          "Tiruppur",
          "Tiruvallur",
          "Tiruvannamalai",
          "Tiruvarur",
          "Vellore",
          "Viluppuram",
          "Virudhunagar"
         ],
         "legendgroup": "Medium Priority",
         "marker": {
          "color": "#636efa",
          "size": [
           274284,
           292950,
           430759,
           438039,
           137536,
           267714,
           373014,
           241860,
           395766,
           429264,
           163605,
           390167,
           267399,
           398191,
           173402,
           245340,
           360267,
           323400,
           286901,
           348468,
           311649,
           304008,
           305572,
           340575,
           405990,
           269328,
           228684,
           410154,
           344625,
           230330,
           376494,
           306240
          ],
          "sizemode": "area",
          "sizeref": 1411.72,
          "symbol": "circle"
         },
         "mode": "markers",
         "name": "Medium Priority",
         "orientation": "v",
         "showlegend": true,
         "type": "scatter",
         "x": [
          35.14,
          32.95,
          36.18,
          36.82,
          37.84,
          26.24,
          31.8,
          26,
          30.55,
          31.9,
          29.17,
          36.47,
          29.84,
          34.68,
          33.39,
          37.39,
          32.41,
          36.28,
          25.47,
          33.1,
          31.39,
          33.01,
          33.47,
          35.1,
          30.06,
          37.3,
          36.27,
          37.82,
          26.55,
          25.57,
          36.9,
          30.89
         ],
         "xaxis": "x",
         "y": [
          53.52,
          57.94,
          61.15,
          63.22,
          52.37,
          57.04,
          49.92,
          45.81,
          52.53,
          43.81,
          65.84,
          47.54,
          66.35,
          62.38,
          47.57,
          42.62,
          64.36,
          67.39,
          45.26,
          64.14,
          52.35,
          60.59,
          55.7,
          53.91,
          44.8,
          45.3,
          54.89,
          46.36,
          53.11,
          51.6,
          69,
          66.95
         ],
         "yaxis": "y"
        },
        {
         "hovertemplate": "<b>OLS trendline</b><br>Overall_Average = 0.188978 * PTR_Calculated + 48.9775<br>R<sup>2</sup>=0.008234<br><br>Priority_Category=Medium Priority<br>Pupil-Teacher Ratio=%{x}<br>Overall Learning Outcome (%)=%{y} <b>(trend)</b><extra></extra>",
         "legendgroup": "Medium Priority",
         "marker": {
          "color": "#636efa",
          "symbol": "circle"
         },
         "mode": "lines",
         "name": "Medium Priority",
         "showlegend": false,
         "type": "scatter",
         "x": [
          25.47,
          25.57,
          26,
          26.24,
          26.55,
          29.17,
          29.84,
          30.06,
          30.55,
          30.89,
          31.39,
          31.8,
          31.9,
          32.41,
          32.95,
          33.01,
          33.1,
          33.39,
          33.47,
          34.68,
          35.1,
          35.14,
          36.18,
          36.27,
          36.28,
          36.47,
          36.82,
          36.9,
          37.3,
          37.39,
          37.82,
          37.84
         ],
         "xaxis": "x",
         "y": [
          53.79078539386632,
          53.8096831944744,
          53.890943737089145,
          53.936298458548535,
          53.99488164043358,
          54.49000401636527,
          54.6166192804394,
          54.65819444177718,
          54.75079366475676,
          54.81504618682423,
          54.909535189864634,
          54.98701617235776,
          55.00591397296584,
          55.102292756067044,
          55.204340879350674,
          55.215679559715525,
          55.23268758026279,
          55.287491202026224,
          55.30260944251269,
          55.53127282987045,
          55.61064359242439,
          55.61820271266762,
          55.81473983899164,
          55.831747859538915,
          55.83363763959972,
          55.869543460755075,
          55.93568576288335,
          55.95080400336982,
          56.02639520580213,
          56.043403226349405,
          56.12466376896415,
          56.12844332908576
         ],
         "yaxis": "y"
        },
        {
         "hovertemplate": "<b>%{hovertext}</b><br><br>Priority_Category=Low Priority<br>Pupil-Teacher Ratio=%{x}<br>Overall Learning Outcome (%)=%{y}<br>Total Enrollment=%{marker.size}<extra></extra>",
         "hovertext": [
          "Cuddalore",
          "Kanniyakumari",
          "Madurai",
          "Sivagangai",
          "Tenkasi",
          "Tiruchirappalli"
         ],
         "legendgroup": "Low Priority",
         "marker": {
          "color": "#EF553B",
          "size": [
           333336,
           287790,
           558332,
           272824,
           434442,
           564688
          ],
          "sizemode": "area",
          "sizeref": 1411.72,
          "symbol": "circle"
         },
         "mode": "markers",
         "name": "Low Priority",
         "orientation": "v",
         "showlegend": true,
         "type": "scatter",
         "x": [
          26.15,
          28.3,
          26.79,
          26.02,
          31.72,
          26.54
         ],
         "xaxis": "x",
         "y": [
          75.9,
          76.29,
          81.09,
          81.17,
          81.47,
          68.06
         ],
         "yaxis": "y"
        },
        {
         "hovertemplate": "<b>OLS trendline</b><br>Overall_Average = 0.801768 * PTR_Calculated + 55.2119<br>R<sup>2</sup>=0.113459<br><br>Priority_Category=Low Priority<br>Pupil-Teacher Ratio=%{x}<br>Overall Learning Outcome (%)=%{y} <b>(trend)</b><extra></extra>",
         "legendgroup": "Low Priority",
         "marker": {
          "color": "#EF553B",
          "symbol": "circle"
         },
         "mode": "lines",
         "name": "Low Priority",
         "showlegend": false,
         "type": "scatter",
         "x": [
          26.02,
          26.15,
          26.54,
          26.79,
          28.3,
          31.72
         ],
         "xaxis": "x",
         "y": [
          76.07389674774694,
          76.17812659208283,
          76.4908161250905,
          76.69125813342875,
          77.90192786379177,
          80.64397453785902
         ],
         "yaxis": "y"
        }
       ],
       "layout": {
        "annotations": [
         {
          "showarrow": false,
          "text": "State Average",
          "x": 1,
          "xanchor": "right",
          "xref": "x domain",
          "y": 58.66578947368421,
          "yanchor": "bottom",
          "yref": "y"
         },
         {
          "showarrow": false,
          "text": "Target PTR (30)",
          "x": 30,
          "xanchor": "left",
          "xref": "x",
          "y": 1,
          "yanchor": "top",
          "yref": "y domain"
         }
        ],
        "height": 600,
        "legend": {
         "itemsizing": "constant",
         "title": {
          "text": "Priority_Category"
         },
         "tracegroupgap": 0
        },
        "shapes": [
         {
          "line": {
           "color": "red",
           "dash": "dash"
          },
          "type": "line",
          "x0": 0,
          "x1": 1,
          "xref": "x domain",
          "y0": 58.66578947368421,
          "y1": 58.66578947368421,
          "yref": "y"
         },
         {
          "line": {
           "color": "green",
           "dash": "dash"
          },
          "type": "line",
          "x0": 30,
          "x1": 30,
          "xref": "x",
          "y0": 0,
          "y1": 1,
          "yref": "y domain"
         }
        ],
        "template": {
         "data": {
          "bar": [
           {
            "error_x": {
             "color": "#2a3f5f"
            },
            "error_y": {
             "color": "#2a3f5f"
            },
            "marker": {
             "line": {
              "color": "#E5ECF6",
              "width": 0.5
             },
             "pattern": {
              "fillmode": "overlay",
              "size": 10,
              "solidity": 0.2
             }
            },
            "type": "bar"
           }
          ],
          "barpolar": [
           {
            "marker": {
             "line": {
              "color": "#E5ECF6",
              "width": 0.5
             },
             "pattern": {
              "fillmode": "overlay",
              "size": 10,
              "solidity": 0.2
             }
            },
            "type": "barpolar"
           }
          ],
          "carpet": [
           {
            "aaxis": {
             "endlinecolor": "#2a3f5f",
             "gridcolor": "white",
             "linecolor": "white",
             "minorgridcolor": "white",
             "startlinecolor": "#2a3f5f"
            },
            "baxis": {
             "endlinecolor": "#2a3f5f",
             "gridcolor": "white",
             "linecolor": "white",
             "minorgridcolor": "white",
             "startlinecolor": "#2a3f5f"
            },
            "type": "carpet"
           }
          ],
          "choropleth": [
           {
            "colorbar": {
             "outlinewidth": 0,
             "ticks": ""
            },
            "type": "choropleth"
           }
          ],
          "contour": [
           {
            "colorbar": {
             "outlinewidth": 0,
             "ticks": ""
            },
            "colorscale": [
             [
              0,
              "#0d0887"
             ],
             [
              0.1111111111111111,
              "#46039f"
             ],
             [
              0.2222222222222222,
              "#7201a8"
             ],
             [
              0.3333333333333333,
              "#9c179e"
             ],
             [
              0.4444444444444444,
              "#bd3786"
             ],
             [
              0.5555555555555556,
              "#d8576b"
             ],
             [
              0.6666666666666666,
              "#ed7953"
             ],
             [
              0.7777777777777778,
              "#fb9f3a"
             ],
             [
              0.8888888888888888,
              "#fdca26"
             ],
             [
              1,
              "#f0f921"
             ]
            ],
            "type": "contour"
           }
          ],
          "contourcarpet": [
           {
            "colorbar": {
             "outlinewidth": 0,
             "ticks": ""
            },
            "type": "contourcarpet"
           }
          ],
          "heatmap": [
           {
            "colorbar": {
             "outlinewidth": 0,
             "ticks": ""
            },
            "colorscale": [
             [
              0,
              "#0d0887"
             ],
             [
              0.1111111111111111,
              "#46039f"
             ],
             [
              0.2222222222222222,
              "#7201a8"
             ],
             [
              0.3333333333333333,
              "#9c179e"
             ],
             [
              0.4444444444444444,
              "#bd3786"
             ],
             [
              0.5555555555555556,
              "#d8576b"
             ],
             [
              0.6666666666666666,
              "#ed7953"
             ],
             [
              0.7777777777777778,
              "#fb9f3a"
             ],
             [
              0.8888888888888888,
              "#fdca26"
             ],
             [
              1,
              "#f0f921"
             ]
            ],
            "type": "heatmap"
           }
          ],
          "heatmapgl": [
           {
            "colorbar": {
             "outlinewidth": 0,
             "ticks": ""
            },
            "colorscale": [
             [
              0,
              "#0d0887"
             ],
             [
              0.1111111111111111,
              "#46039f"
             ],
             [
              0.2222222222222222,
              "#7201a8"
             ],
             [
              0.3333333333333333,
              "#9c179e"
             ],
             [
              0.4444444444444444,
              "#bd3786"
             ],
             [
              0.5555555555555556,
              "#d8576b"
             ],
             [
              0.6666666666666666,
              "#ed7953"
             ],
             [
              0.7777777777777778,
              "#fb9f3a"
             ],
             [
              0.8888888888888888,
              "#fdca26"
             ],
             [
              1,
              "#f0f921"
             ]
            ],
            "type": "heatmapgl"
           }
          ],
          "histogram": [
           {
            "marker": {
             "pattern": {
              "fillmode": "overlay",
              "size": 10,
              "solidity": 0.2
             }
            },
            "type": "histogram"
           }
          ],
          "histogram2d": [
           {
            "colorbar": {
             "outlinewidth": 0,
             "ticks": ""
            },
            "colorscale": [
             [
              0,
              "#0d0887"
             ],
             [
              0.1111111111111111,
              "#46039f"
             ],
             [
              0.2222222222222222,
              "#7201a8"
             ],
             [
              0.3333333333333333,
              "#9c179e"
             ],
             [
              0.4444444444444444,
              "#bd3786"
             ],
             [
              0.5555555555555556,
              "#d8576b"
             ],
             [
              0.6666666666666666,
              "#ed7953"
             ],
             [
              0.7777777777777778,
              "#fb9f3a"
             ],
             [
              0.8888888888888888,
              "#fdca26"
             ],
             [
              1,
              "#f0f921"
             ]
            ],
            "type": "histogram2d"
           }
          ],
          "histogram2dcontour": [
           {
            "colorbar": {
             "outlinewidth": 0,
             "ticks": ""
            },
            "colorscale": [
             [
              0,
              "#0d0887"
             ],
             [
              0.1111111111111111,
              "#46039f"
             ],
             [
              0.2222222222222222,
              "#7201a8"
             ],
             [
              0.3333333333333333,
              "#9c179e"
             ],
             [
              0.4444444444444444,
              "#bd3786"
             ],
             [
              0.5555555555555556,
              "#d8576b"
             ],
             [
              0.6666666666666666,
              "#ed7953"
             ],
             [
              0.7777777777777778,
              "#fb9f3a"
             ],
             [
              0.8888888888888888,
              "#fdca26"
             ],
             [
              1,
              "#f0f921"
             ]
            ],
            "type": "histogram2dcontour"
           }
          ],
          "mesh3d": [
           {
            "colorbar": {
             "outlinewidth": 0,
             "ticks": ""
            },
            "type": "mesh3d"
           }
          ],
          "parcoords": [
           {
            "line": {
             "colorbar": {
              "outlinewidth": 0,
              "ticks": ""
             }
            },
            "type": "parcoords"
           }
          ],
          "pie": [
           {
            "automargin": true,
            "type": "pie"
           }
          ],
          "scatter": [
           {
            "fillpattern": {
             "fillmode": "overlay",
             "size": 10,
             "solidity": 0.2
            },
            "type": "scatter"
           }
          ],
          "scatter3d": [
           {
            "line": {
             "colorbar": {
              "outlinewidth": 0,
              "ticks": ""
             }
            },
            "marker": {
             "colorbar": {
              "outlinewidth": 0,
              "ticks": ""
             }
            },
            "type": "scatter3d"
           }
          ],
          "scattercarpet": [
           {
            "marker": {
             "colorbar": {
              "outlinewidth": 0,
              "ticks": ""
             }
            },
            "type": "scattercarpet"
           }
          ],
          "scattergeo": [
           {
            "marker": {
             "colorbar": {
              "outlinewidth": 0,
              "ticks": ""
             }
            },
            "type": "scattergeo"
           }
          ],
          "scattergl": [
           {
            "marker": {
             "colorbar": {
              "outlinewidth": 0,
              "ticks": ""
             }
            },
            "type": "scattergl"
           }
          ],
          "scattermapbox": [
           {
            "marker": {
             "colorbar": {
              "outlinewidth": 0,
              "ticks": ""
             }
            },
            "type": "scattermapbox"
           }
          ],
          "scatterpolar": [
           {
            "marker": {
             "colorbar": {
              "outlinewidth": 0,
              "ticks": ""
             }
            },
            "type": "scatterpolar"
           }
          ],
          "scatterpolargl": [
           {
            "marker": {
             "colorbar": {
              "outlinewidth": 0,
              "ticks": ""
             }
            },
            "type": "scatterpolargl"
           }
          ],
          "scatterternary": [
           {
            "marker": {
             "colorbar": {
              "outlinewidth": 0,
              "ticks": ""
             }
            },
            "type": "scatterternary"
           }
          ],
          "surface": [
           {
            "colorbar": {
             "outlinewidth": 0,
             "ticks": ""
            },
            "colorscale": [
             [
              0,
              "#0d0887"
             ],
             [
              0.1111111111111111,
              "#46039f"
             ],
             [
              0.2222222222222222,
              "#7201a8"
             ],
             [
              0.3333333333333333,
              "#9c179e"
             ],
             [
              0.4444444444444444,
              "#bd3786"
             ],
             [
              0.5555555555555556,
              "#d8576b"
             ],
             [
              0.6666666666666666,
              "#ed7953"
             ],
             [
              0.7777777777777778,
              "#fb9f3a"
             ],
             [
              0.8888888888888888,
              "#fdca26"
             ],
             [
              1,
              "#f0f921"
             ]
            ],
            "type": "surface"
           }
          ],
          "table": [
           {
            "cells": {
             "fill": {
              "color": "#EBF0F8"
             },
             "line": {
              "color": "white"
             }
            },
            "header": {
             "fill": {
              "color": "#C8D4E3"
             },
             "line": {
              "color": "white"
             }
            },
            "type": "table"
           }
          ]
         },
         "layout": {
          "annotationdefaults": {
           "arrowcolor": "#2a3f5f",
           "arrowhead": 0,
           "arrowwidth": 1
          },
          "autotypenumbers": "strict",
          "coloraxis": {
           "colorbar": {
            "outlinewidth": 0,
            "ticks": ""
           }
          },
          "colorscale": {
           "diverging": [
            [
             0,
             "#8e0152"
            ],
            [
             0.1,
             "#c51b7d"
            ],
            [
             0.2,
             "#de77ae"
            ],
            [
             0.3,
             "#f1b6da"
            ],
            [
             0.4,
             "#fde0ef"
            ],
            [
             0.5,
             "#f7f7f7"
            ],
            [
             0.6,
             "#e6f5d0"
            ],
            [
             0.7,
             "#b8e186"
            ],
            [
             0.8,
             "#7fbc41"
            ],
            [
             0.9,
             "#4d9221"
            ],
            [
             1,
             "#276419"
            ]
           ],
           "sequential": [
            [
             0,
             "#0d0887"
            ],
            [
             0.1111111111111111,
             "#46039f"
            ],
            [
             0.2222222222222222,
             "#7201a8"
            ],
            [
             0.3333333333333333,
             "#9c179e"
            ],
            [
             0.4444444444444444,
             "#bd3786"
            ],
            [
             0.5555555555555556,
             "#d8576b"
            ],
            [
             0.6666666666666666,
             "#ed7953"
            ],
            [
             0.7777777777777778,
             "#fb9f3a"
            ],
            [
             0.8888888888888888,
             "#fdca26"
            ],
            [
             1,
             "#f0f921"
            ]
           ],
           "sequentialminus": [
            [
             0,
             "#0d0887"
            ],
            [
             0.1111111111111111,
             "#46039f"
            ],
            [
             0.2222222222222222,
             "#7201a8"
            ],
            [
             0.3333333333333333,
             "#9c179e"
            ],
            [
             0.4444444444444444,
             "#bd3786"
            ],
            [
             0.5555555555555556,
             "#d8576b"
            ],
            [
             0.6666666666666666,
             "#ed7953"
            ],
            [
             0.7777777777777778,
             "#fb9f3a"
            ],
            [
             0.8888888888888888,
             "#fdca26"
            ],
            [
             1,
             "#f0f921"
            ]
           ]
          },
          "colorway": [
           "#636efa",
           "#EF553B",
           "#00cc96",
           "#ab63fa",
           "#FFA15A",
           "#19d3f3",
           "#FF6692",
           "#B6E880",
           "#FF97FF",
           "#FECB52"
          ],
          "font": {
           "color": "#2a3f5f"
          },
          "geo": {
           "bgcolor": "white",
           "lakecolor": "white",
           "landcolor": "#E5ECF6",
           "showlakes": true,
           "showland": true,
           "subunitcolor": "white"
          },
          "hoverlabel": {
           "align": "left"
          },
          "hovermode": "closest",
          "mapbox": {
           "style": "light"
          },
          "paper_bgcolor": "white",
          "plot_bgcolor": "#E5ECF6",
          "polar": {
           "angularaxis": {
            "gridcolor": "white",
            "linecolor": "white",
            "ticks": ""
           },
           "bgcolor": "#E5ECF6",
           "radialaxis": {
            "gridcolor": "white",
            "linecolor": "white",
            "ticks": ""
           }
          },
          "scene": {
           "xaxis": {
            "backgroundcolor": "#E5ECF6",
            "gridcolor": "white",
            "gridwidth": 2,
            "linecolor": "white",
            "showbackground": true,
            "ticks": "",
            "zerolinecolor": "white"
           },
           "yaxis": {
            "backgroundcolor": "#E5ECF6",
            "gridcolor": "white",
            "gridwidth": 2,
            "linecolor": "white",
            "showbackground": true,
            "ticks": "",
            "zerolinecolor": "white"
           },
           "zaxis": {
            "backgroundcolor": "#E5ECF6",
            "gridcolor": "white",
            "gridwidth": 2,
            "linecolor": "white",
            "showbackground": true,
            "ticks": "",
            "zerolinecolor": "white"
           }
          },
          "shapedefaults": {
           "line": {
            "color": "#2a3f5f"
           }
          },
          "ternary": {
           "aaxis": {
            "gridcolor": "white",
            "linecolor": "white",
            "ticks": ""
           },
           "baxis": {
            "gridcolor": "white",
            "linecolor": "white",
            "ticks": ""
           },
           "bgcolor": "#E5ECF6",
           "caxis": {
            "gridcolor": "white",
            "linecolor": "white",
            "ticks": ""
           }
          },
          "title": {
           "x": 0.05
          },
          "xaxis": {
           "automargin": true,
           "gridcolor": "white",
           "linecolor": "white",
           "ticks": "",
           "title": {
            "standoff": 15
           },
           "zerolinecolor": "white",
           "zerolinewidth": 2
          },
          "yaxis": {
           "automargin": true,
           "gridcolor": "white",
           "linecolor": "white",
           "ticks": "",
           "title": {
            "standoff": 15
           },
           "zerolinecolor": "white",
           "zerolinewidth": 2
          }
         }
        },
        "title": {
         "text": "Pupil-Teacher Ratio vs Learning Outcomes"
        },
        "width": 1000,
        "xaxis": {
         "anchor": "y",
         "domain": [
          0,
          1
         ],
         "title": {
          "text": "Pupil-Teacher Ratio"
         }
        },
        "yaxis": {
         "anchor": "x",
         "domain": [
          0,
          1
         ],
         "title": {
          "text": "Overall Learning Outcome (%)"
         }
        }
       }
      }
     },
     "metadata": {},
     "output_type": "display_data"
    },
    {
     "name": "stdout",
     "output_type": "stream",
     "text": [
      "\n",
      "📊 Correlation coefficient (PTR vs Learning Outcomes): -0.277\n"
     ]
    }
   ],
   "source": [
    "# Scatter plot: PTR vs Learning Outcomes\n",
    "fig = px.scatter(\n",
    "    final_df,\n",
    "    x='PTR_Calculated',\n",
    "    y='Overall_Average',\n",
    "    size='Total_Enrollment',\n",
    "    color='Priority_Category',\n",
    "    hover_name='District',\n",
    "    title='Pupil-Teacher Ratio vs Learning Outcomes',\n",
    "    labels={\n",
    "        'PTR_Calculated': 'Pupil-Teacher Ratio',\n",
    "        'Overall_Average': 'Overall Learning Outcome (%)',\n",
    "        'Total_Enrollment': 'Total Enrollment'\n",
    "    },\n",
    "    trendline=\"ols\",\n",
    "    width=1000,\n",
    "    height=600\n",
    ")\n",
    "\n",
    "fig.add_hline(y=final_df['Overall_Average'].mean(), line_dash=\"dash\", \n",
    "             line_color=\"red\", annotation_text=\"State Average\")\n",
    "fig.add_vline(x=30, line_dash=\"dash\", line_color=\"green\", \n",
    "             annotation_text=\"Target PTR (30)\")\n",
    "\n",
    "fig.write_html(OUTPUT_DIR / 'ptr_vs_learning_outcomes.html')\n",
    "fig.show()\n",
    "\n",
    "# Calculate correlation\n",
    "corr = final_df['PTR_Calculated'].corr(final_df['Overall_Average'])\n",
    "print(f\"\\n📊 Correlation coefficient (PTR vs Learning Outcomes): {corr:.3f}\")"
   ]
  },
  {
   "cell_type": "code",
   "execution_count": 18,
   "id": "fa34954e",
   "metadata": {},
   "outputs": [
    {
     "name": "stderr",
     "output_type": "stream",
     "text": [
      "2025-10-30 23:03:45,627 - INFO - Performing regression analysis...\n"
     ]
    },
    {
     "name": "stdout",
     "output_type": "stream",
     "text": [
      "\n",
      "📊 Regression Model Performance:\n",
      "  R² Score: 0.2807\n",
      "  RMSE: 9.3678\n",
      "\n",
      "📊 Top Feature Importances:\n",
      "                     Feature  Coefficient  Abs_Coefficient\n",
      "7          ST_Enrollment_Pct        -2.13             2.13\n",
      "6          SC_Enrollment_Pct         1.33             1.33\n",
      "2  Single_Teacher_School_Pct        -1.30             1.30\n",
      "3       Infrastructure_Score        -0.84             0.84\n",
      "0             PTR_Calculated        -0.48             0.48\n"
     ]
    },
    {
     "data": {
      "application/vnd.plotly.v1+json": {
       "config": {
        "plotlyServerURL": "https://plot.ly"
       },
       "data": [
        {
         "alignmentgroup": "True",
         "hovertemplate": "Absolute Coefficient Value=%{x}<br>Feature=%{y}<br>Coefficient=%{marker.color}<extra></extra>",
         "legendgroup": "",
         "marker": {
          "color": [
           -2.1320259743128154,
           1.332526478456727,
           -1.296232873039048,
           -0.8440465973456017,
           -0.48151324330942086,
           -0.3067607592730211,
           0.062079335340604495,
           -0.02203482653554335
          ],
          "coloraxis": "coloraxis",
          "pattern": {
           "shape": ""
          }
         },
         "name": "",
         "offsetgroup": "",
         "orientation": "h",
         "showlegend": false,
         "textposition": "auto",
         "type": "bar",
         "x": [
          2.1320259743128154,
          1.332526478456727,
          1.296232873039048,
          0.8440465973456017,
          0.48151324330942086,
          0.3067607592730211,
          0.062079335340604495,
          0.02203482653554335
         ],
         "xaxis": "x",
         "y": [
          "ST_Enrollment_Pct",
          "SC_Enrollment_Pct",
          "Single_Teacher_School_Pct",
          "Infrastructure_Score",
          "PTR_Calculated",
          "Teachers_Per_School",
          "Urban_Population_Pct",
          "Literacy_Rate"
         ],
         "yaxis": "y"
        }
       ],
       "layout": {
        "barmode": "relative",
        "coloraxis": {
         "colorbar": {
          "title": {
           "text": "Coefficient"
          }
         },
         "colorscale": [
          [
           0,
           "rgb(5,48,97)"
          ],
          [
           0.1,
           "rgb(33,102,172)"
          ],
          [
           0.2,
           "rgb(67,147,195)"
          ],
          [
           0.3,
           "rgb(146,197,222)"
          ],
          [
           0.4,
           "rgb(209,229,240)"
          ],
          [
           0.5,
           "rgb(247,247,247)"
          ],
          [
           0.6,
           "rgb(253,219,199)"
          ],
          [
           0.7,
           "rgb(244,165,130)"
          ],
          [
           0.8,
           "rgb(214,96,77)"
          ],
          [
           0.9,
           "rgb(178,24,43)"
          ],
          [
           1,
           "rgb(103,0,31)"
          ]
         ]
        },
        "legend": {
         "tracegroupgap": 0
        },
        "template": {
         "data": {
          "bar": [
           {
            "error_x": {
             "color": "#2a3f5f"
            },
            "error_y": {
             "color": "#2a3f5f"
            },
            "marker": {
             "line": {
              "color": "#E5ECF6",
              "width": 0.5
             },
             "pattern": {
              "fillmode": "overlay",
              "size": 10,
              "solidity": 0.2
             }
            },
            "type": "bar"
           }
          ],
          "barpolar": [
           {
            "marker": {
             "line": {
              "color": "#E5ECF6",
              "width": 0.5
             },
             "pattern": {
              "fillmode": "overlay",
              "size": 10,
              "solidity": 0.2
             }
            },
            "type": "barpolar"
           }
          ],
          "carpet": [
           {
            "aaxis": {
             "endlinecolor": "#2a3f5f",
             "gridcolor": "white",
             "linecolor": "white",
             "minorgridcolor": "white",
             "startlinecolor": "#2a3f5f"
            },
            "baxis": {
             "endlinecolor": "#2a3f5f",
             "gridcolor": "white",
             "linecolor": "white",
             "minorgridcolor": "white",
             "startlinecolor": "#2a3f5f"
            },
            "type": "carpet"
           }
          ],
          "choropleth": [
           {
            "colorbar": {
             "outlinewidth": 0,
             "ticks": ""
            },
            "type": "choropleth"
           }
          ],
          "contour": [
           {
            "colorbar": {
             "outlinewidth": 0,
             "ticks": ""
            },
            "colorscale": [
             [
              0,
              "#0d0887"
             ],
             [
              0.1111111111111111,
              "#46039f"
             ],
             [
              0.2222222222222222,
              "#7201a8"
             ],
             [
              0.3333333333333333,
              "#9c179e"
             ],
             [
              0.4444444444444444,
              "#bd3786"
             ],
             [
              0.5555555555555556,
              "#d8576b"
             ],
             [
              0.6666666666666666,
              "#ed7953"
             ],
             [
              0.7777777777777778,
              "#fb9f3a"
             ],
             [
              0.8888888888888888,
              "#fdca26"
             ],
             [
              1,
              "#f0f921"
             ]
            ],
            "type": "contour"
           }
          ],
          "contourcarpet": [
           {
            "colorbar": {
             "outlinewidth": 0,
             "ticks": ""
            },
            "type": "contourcarpet"
           }
          ],
          "heatmap": [
           {
            "colorbar": {
             "outlinewidth": 0,
             "ticks": ""
            },
            "colorscale": [
             [
              0,
              "#0d0887"
             ],
             [
              0.1111111111111111,
              "#46039f"
             ],
             [
              0.2222222222222222,
              "#7201a8"
             ],
             [
              0.3333333333333333,
              "#9c179e"
             ],
             [
              0.4444444444444444,
              "#bd3786"
             ],
             [
              0.5555555555555556,
              "#d8576b"
             ],
             [
              0.6666666666666666,
              "#ed7953"
             ],
             [
              0.7777777777777778,
              "#fb9f3a"
             ],
             [
              0.8888888888888888,
              "#fdca26"
             ],
             [
              1,
              "#f0f921"
             ]
            ],
            "type": "heatmap"
           }
          ],
          "heatmapgl": [
           {
            "colorbar": {
             "outlinewidth": 0,
             "ticks": ""
            },
            "colorscale": [
             [
              0,
              "#0d0887"
             ],
             [
              0.1111111111111111,
              "#46039f"
             ],
             [
              0.2222222222222222,
              "#7201a8"
             ],
             [
              0.3333333333333333,
              "#9c179e"
             ],
             [
              0.4444444444444444,
              "#bd3786"
             ],
             [
              0.5555555555555556,
              "#d8576b"
             ],
             [
              0.6666666666666666,
              "#ed7953"
             ],
             [
              0.7777777777777778,
              "#fb9f3a"
             ],
             [
              0.8888888888888888,
              "#fdca26"
             ],
             [
              1,
              "#f0f921"
             ]
            ],
            "type": "heatmapgl"
           }
          ],
          "histogram": [
           {
            "marker": {
             "pattern": {
              "fillmode": "overlay",
              "size": 10,
              "solidity": 0.2
             }
            },
            "type": "histogram"
           }
          ],
          "histogram2d": [
           {
            "colorbar": {
             "outlinewidth": 0,
             "ticks": ""
            },
            "colorscale": [
             [
              0,
              "#0d0887"
             ],
             [
              0.1111111111111111,
              "#46039f"
             ],
             [
              0.2222222222222222,
              "#7201a8"
             ],
             [
              0.3333333333333333,
              "#9c179e"
             ],
             [
              0.4444444444444444,
              "#bd3786"
             ],
             [
              0.5555555555555556,
              "#d8576b"
             ],
             [
              0.6666666666666666,
              "#ed7953"
             ],
             [
              0.7777777777777778,
              "#fb9f3a"
             ],
             [
              0.8888888888888888,
              "#fdca26"
             ],
             [
              1,
              "#f0f921"
             ]
            ],
            "type": "histogram2d"
           }
          ],
          "histogram2dcontour": [
           {
            "colorbar": {
             "outlinewidth": 0,
             "ticks": ""
            },
            "colorscale": [
             [
              0,
              "#0d0887"
             ],
             [
              0.1111111111111111,
              "#46039f"
             ],
             [
              0.2222222222222222,
              "#7201a8"
             ],
             [
              0.3333333333333333,
              "#9c179e"
             ],
             [
              0.4444444444444444,
              "#bd3786"
             ],
             [
              0.5555555555555556,
              "#d8576b"
             ],
             [
              0.6666666666666666,
              "#ed7953"
             ],
             [
              0.7777777777777778,
              "#fb9f3a"
             ],
             [
              0.8888888888888888,
              "#fdca26"
             ],
             [
              1,
              "#f0f921"
             ]
            ],
            "type": "histogram2dcontour"
           }
          ],
          "mesh3d": [
           {
            "colorbar": {
             "outlinewidth": 0,
             "ticks": ""
            },
            "type": "mesh3d"
           }
          ],
          "parcoords": [
           {
            "line": {
             "colorbar": {
              "outlinewidth": 0,
              "ticks": ""
             }
            },
            "type": "parcoords"
           }
          ],
          "pie": [
           {
            "automargin": true,
            "type": "pie"
           }
          ],
          "scatter": [
           {
            "fillpattern": {
             "fillmode": "overlay",
             "size": 10,
             "solidity": 0.2
            },
            "type": "scatter"
           }
          ],
          "scatter3d": [
           {
            "line": {
             "colorbar": {
              "outlinewidth": 0,
              "ticks": ""
             }
            },
            "marker": {
             "colorbar": {
              "outlinewidth": 0,
              "ticks": ""
             }
            },
            "type": "scatter3d"
           }
          ],
          "scattercarpet": [
           {
            "marker": {
             "colorbar": {
              "outlinewidth": 0,
              "ticks": ""
             }
            },
            "type": "scattercarpet"
           }
          ],
          "scattergeo": [
           {
            "marker": {
             "colorbar": {
              "outlinewidth": 0,
              "ticks": ""
             }
            },
            "type": "scattergeo"
           }
          ],
          "scattergl": [
           {
            "marker": {
             "colorbar": {
              "outlinewidth": 0,
              "ticks": ""
             }
            },
            "type": "scattergl"
           }
          ],
          "scattermapbox": [
           {
            "marker": {
             "colorbar": {
              "outlinewidth": 0,
              "ticks": ""
             }
            },
            "type": "scattermapbox"
           }
          ],
          "scatterpolar": [
           {
            "marker": {
             "colorbar": {
              "outlinewidth": 0,
              "ticks": ""
             }
            },
            "type": "scatterpolar"
           }
          ],
          "scatterpolargl": [
           {
            "marker": {
             "colorbar": {
              "outlinewidth": 0,
              "ticks": ""
             }
            },
            "type": "scatterpolargl"
           }
          ],
          "scatterternary": [
           {
            "marker": {
             "colorbar": {
              "outlinewidth": 0,
              "ticks": ""
             }
            },
            "type": "scatterternary"
           }
          ],
          "surface": [
           {
            "colorbar": {
             "outlinewidth": 0,
             "ticks": ""
            },
            "colorscale": [
             [
              0,
              "#0d0887"
             ],
             [
              0.1111111111111111,
              "#46039f"
             ],
             [
              0.2222222222222222,
              "#7201a8"
             ],
             [
              0.3333333333333333,
              "#9c179e"
             ],
             [
              0.4444444444444444,
              "#bd3786"
             ],
             [
              0.5555555555555556,
              "#d8576b"
             ],
             [
              0.6666666666666666,
              "#ed7953"
             ],
             [
              0.7777777777777778,
              "#fb9f3a"
             ],
             [
              0.8888888888888888,
              "#fdca26"
             ],
             [
              1,
              "#f0f921"
             ]
            ],
            "type": "surface"
           }
          ],
          "table": [
           {
            "cells": {
             "fill": {
              "color": "#EBF0F8"
             },
             "line": {
              "color": "white"
             }
            },
            "header": {
             "fill": {
              "color": "#C8D4E3"
             },
             "line": {
              "color": "white"
             }
            },
            "type": "table"
           }
          ]
         },
         "layout": {
          "annotationdefaults": {
           "arrowcolor": "#2a3f5f",
           "arrowhead": 0,
           "arrowwidth": 1
          },
          "autotypenumbers": "strict",
          "coloraxis": {
           "colorbar": {
            "outlinewidth": 0,
            "ticks": ""
           }
          },
          "colorscale": {
           "diverging": [
            [
             0,
             "#8e0152"
            ],
            [
             0.1,
             "#c51b7d"
            ],
            [
             0.2,
             "#de77ae"
            ],
            [
             0.3,
             "#f1b6da"
            ],
            [
             0.4,
             "#fde0ef"
            ],
            [
             0.5,
             "#f7f7f7"
            ],
            [
             0.6,
             "#e6f5d0"
            ],
            [
             0.7,
             "#b8e186"
            ],
            [
             0.8,
             "#7fbc41"
            ],
            [
             0.9,
             "#4d9221"
            ],
            [
             1,
             "#276419"
            ]
           ],
           "sequential": [
            [
             0,
             "#0d0887"
            ],
            [
             0.1111111111111111,
             "#46039f"
            ],
            [
             0.2222222222222222,
             "#7201a8"
            ],
            [
             0.3333333333333333,
             "#9c179e"
            ],
            [
             0.4444444444444444,
             "#bd3786"
            ],
            [
             0.5555555555555556,
             "#d8576b"
            ],
            [
             0.6666666666666666,
             "#ed7953"
            ],
            [
             0.7777777777777778,
             "#fb9f3a"
            ],
            [
             0.8888888888888888,
             "#fdca26"
            ],
            [
             1,
             "#f0f921"
            ]
           ],
           "sequentialminus": [
            [
             0,
             "#0d0887"
            ],
            [
             0.1111111111111111,
             "#46039f"
            ],
            [
             0.2222222222222222,
             "#7201a8"
            ],
            [
             0.3333333333333333,
             "#9c179e"
            ],
            [
             0.4444444444444444,
             "#bd3786"
            ],
            [
             0.5555555555555556,
             "#d8576b"
            ],
            [
             0.6666666666666666,
             "#ed7953"
            ],
            [
             0.7777777777777778,
             "#fb9f3a"
            ],
            [
             0.8888888888888888,
             "#fdca26"
            ],
            [
             1,
             "#f0f921"
            ]
           ]
          },
          "colorway": [
           "#636efa",
           "#EF553B",
           "#00cc96",
           "#ab63fa",
           "#FFA15A",
           "#19d3f3",
           "#FF6692",
           "#B6E880",
           "#FF97FF",
           "#FECB52"
          ],
          "font": {
           "color": "#2a3f5f"
          },
          "geo": {
           "bgcolor": "white",
           "lakecolor": "white",
           "landcolor": "#E5ECF6",
           "showlakes": true,
           "showland": true,
           "subunitcolor": "white"
          },
          "hoverlabel": {
           "align": "left"
          },
          "hovermode": "closest",
          "mapbox": {
           "style": "light"
          },
          "paper_bgcolor": "white",
          "plot_bgcolor": "#E5ECF6",
          "polar": {
           "angularaxis": {
            "gridcolor": "white",
            "linecolor": "white",
            "ticks": ""
           },
           "bgcolor": "#E5ECF6",
           "radialaxis": {
            "gridcolor": "white",
            "linecolor": "white",
            "ticks": ""
           }
          },
          "scene": {
           "xaxis": {
            "backgroundcolor": "#E5ECF6",
            "gridcolor": "white",
            "gridwidth": 2,
            "linecolor": "white",
            "showbackground": true,
            "ticks": "",
            "zerolinecolor": "white"
           },
           "yaxis": {
            "backgroundcolor": "#E5ECF6",
            "gridcolor": "white",
            "gridwidth": 2,
            "linecolor": "white",
            "showbackground": true,
            "ticks": "",
            "zerolinecolor": "white"
           },
           "zaxis": {
            "backgroundcolor": "#E5ECF6",
            "gridcolor": "white",
            "gridwidth": 2,
            "linecolor": "white",
            "showbackground": true,
            "ticks": "",
            "zerolinecolor": "white"
           }
          },
          "shapedefaults": {
           "line": {
            "color": "#2a3f5f"
           }
          },
          "ternary": {
           "aaxis": {
            "gridcolor": "white",
            "linecolor": "white",
            "ticks": ""
           },
           "baxis": {
            "gridcolor": "white",
            "linecolor": "white",
            "ticks": ""
           },
           "bgcolor": "#E5ECF6",
           "caxis": {
            "gridcolor": "white",
            "linecolor": "white",
            "ticks": ""
           }
          },
          "title": {
           "x": 0.05
          },
          "xaxis": {
           "automargin": true,
           "gridcolor": "white",
           "linecolor": "white",
           "ticks": "",
           "title": {
            "standoff": 15
           },
           "zerolinecolor": "white",
           "zerolinewidth": 2
          },
          "yaxis": {
           "automargin": true,
           "gridcolor": "white",
           "linecolor": "white",
           "ticks": "",
           "title": {
            "standoff": 15
           },
           "zerolinecolor": "white",
           "zerolinewidth": 2
          }
         }
        },
        "title": {
         "text": "Feature Importance - Predicting Learning Outcomes"
        },
        "xaxis": {
         "anchor": "y",
         "domain": [
          0,
          1
         ],
         "title": {
          "text": "Absolute Coefficient Value"
         }
        },
        "yaxis": {
         "anchor": "x",
         "domain": [
          0,
          1
         ],
         "title": {
          "text": "Feature"
         }
        }
       }
      }
     },
     "metadata": {},
     "output_type": "display_data"
    }
   ],
   "source": [
    "# Regression Analysis\n",
    "def regression_analysis(df):\n",
    "    \"\"\"Multiple regression: Predict learning outcomes from teacher metrics\"\"\"\n",
    "    logger.info(\"Performing regression analysis...\")\n",
    "    \n",
    "    predictors = [\n",
    "        'PTR_Calculated', 'Teachers_Per_School', 'Single_Teacher_School_Pct',\n",
    "        'Infrastructure_Score', 'Literacy_Rate', 'Urban_Population_Pct',\n",
    "        'SC_Enrollment_Pct', 'ST_Enrollment_Pct'\n",
    "    ]\n",
    "    \n",
    "    target = 'Overall_Average'\n",
    "    \n",
    "    # Remove NaN\n",
    "    model_data = df[predictors + [target]].dropna()\n",
    "    \n",
    "    X = model_data[predictors]\n",
    "    y = model_data[target]\n",
    "    \n",
    "    # Fit model\n",
    "    model = LinearRegression()\n",
    "    model.fit(X, y)\n",
    "    \n",
    "    # Predictions\n",
    "    y_pred = model.predict(X)\n",
    "    \n",
    "    # Metrics\n",
    "    r2 = r2_score(y, y_pred)\n",
    "    rmse = np.sqrt(mean_squared_error(y, y_pred))\n",
    "    \n",
    "    # Feature importance\n",
    "    feature_importance = pd.DataFrame({\n",
    "        'Feature': predictors,\n",
    "        'Coefficient': model.coef_,\n",
    "        'Abs_Coefficient': np.abs(model.coef_)\n",
    "    }).sort_values('Abs_Coefficient', ascending=False)\n",
    "    \n",
    "    print(f\"\\n📊 Regression Model Performance:\")\n",
    "    print(f\"  R² Score: {r2:.4f}\")\n",
    "    print(f\"  RMSE: {rmse:.4f}\")\n",
    "    print(f\"\\n📊 Top Feature Importances:\")\n",
    "    print(feature_importance.head())\n",
    "    \n",
    "    # Save\n",
    "    feature_importance.to_csv(OUTPUT_DIR / 'feature_importance.csv', index=False)\n",
    "    \n",
    "    # Visualize\n",
    "    fig = px.bar(\n",
    "        feature_importance.head(8),\n",
    "        x='Abs_Coefficient',\n",
    "        y='Feature',\n",
    "        orientation='h',\n",
    "        title='Feature Importance - Predicting Learning Outcomes',\n",
    "        labels={'Abs_Coefficient': 'Absolute Coefficient Value'},\n",
    "        color='Coefficient',\n",
    "        color_continuous_scale='RdBu_r'\n",
    "    )\n",
    "    fig.write_html(OUTPUT_DIR / 'feature_importance.html')\n",
    "    fig.show()\n",
    "    \n",
    "    return model, feature_importance, r2, rmse\n",
    "\n",
    "\n",
    "model, feature_imp, r2, rmse = regression_analysis(final_df)"
   ]
  },
  {
   "cell_type": "code",
   "execution_count": 19,
   "id": "cb70f8f7",
   "metadata": {},
   "outputs": [
    {
     "name": "stderr",
     "output_type": "stream",
     "text": [
      "2025-10-30 23:03:45,865 - INFO - Performing cluster analysis...\n"
     ]
    },
    {
     "name": "stdout",
     "output_type": "stream",
     "text": [
      "\n",
      "📊 Cluster Summary:\n",
      "         Overall_Average_mean  Overall_Average_count  PTR_Calculated_mean  \\\n",
      "Cluster                                                                     \n",
      "0                       56.62                      6                36.11   \n",
      "1                       66.13                     13                28.06   \n",
      "2                       54.27                      7                36.79   \n",
      "3                       54.17                     12                31.20   \n",
      "\n",
      "         PTR_Calculated_count  Infrastructure_Score_mean  \\\n",
      "Cluster                                                    \n",
      "0                           6                      76.88   \n",
      "1                          13                      69.41   \n",
      "2                           7                      67.10   \n",
      "3                          12                      71.72   \n",
      "\n",
      "         Infrastructure_Score_count  Literacy_Rate_mean  Literacy_Rate_count  \\\n",
      "Cluster                                                                        \n",
      "0                                 6               84.27                    6   \n",
      "1                                13               79.64                   13   \n",
      "2                                 7               73.39                    7   \n",
      "3                                12               73.25                   12   \n",
      "\n",
      "         Urban_Population_Pct_mean  Urban_Population_Pct_count  \\\n",
      "Cluster                                                          \n",
      "0                            60.90                           6   \n",
      "1                            57.49                          13   \n",
      "2                            54.75                           7   \n",
      "3                            30.89                          12   \n",
      "\n",
      "         Teacher_Deficit_PTR30_mean  Teacher_Deficit_PTR30_count  \n",
      "Cluster                                                           \n",
      "0                           2012.50                            6  \n",
      "1                           -875.85                           13  \n",
      "2                           1835.57                            7  \n",
      "3                            386.58                           12  \n"
     ]
    },
    {
     "data": {
      "application/vnd.plotly.v1+json": {
       "config": {
        "plotlyServerURL": "https://plot.ly"
       },
       "data": [
        {
         "hovertemplate": "<b>%{hovertext}</b><br><br>PC1 (34.83%)=%{x}<br>PC2 (21.25%)=%{y}<br>Cluster=%{marker.color}<extra></extra>",
         "hovertext": [
          "Ariyalur",
          "Chengalpattu",
          "Chennai",
          "Coimbatore",
          "Cuddalore",
          "Dharmapuri",
          "Dindigul",
          "Erode",
          "Kallakurichi",
          "Kancheepuram",
          "Kanniyakumari",
          "Karur",
          "Krishnagiri",
          "Madurai",
          "Mayiladuthurai",
          "Nagapattinam",
          "Namakkal",
          "Nilgiris",
          "Perambalur",
          "Pudukkottai",
          "Ramanathapuram",
          "Ranipet",
          "Salem",
          "Sivagangai",
          "Tenkasi",
          "Thanjavur",
          "Theni",
          "Thoothukudi",
          "Tiruchirappalli",
          "Tirunelveli",
          "Tirupattur",
          "Tiruppur",
          "Tiruvallur",
          "Tiruvannamalai",
          "Tiruvarur",
          "Vellore",
          "Viluppuram",
          "Virudhunagar"
         ],
         "legendgroup": "",
         "marker": {
          "color": [
           2,
           3,
           2,
           0,
           1,
           2,
           3,
           3,
           1,
           3,
           1,
           3,
           1,
           1,
           0,
           1,
           0,
           3,
           2,
           3,
           0,
           1,
           3,
           1,
           1,
           1,
           3,
           3,
           1,
           0,
           3,
           0,
           2,
           2,
           1,
           3,
           2,
           1
          ],
          "coloraxis": "coloraxis",
          "symbol": "circle"
         },
         "mode": "markers",
         "name": "",
         "orientation": "v",
         "showlegend": false,
         "type": "scatter",
         "x": [
          -1.0730656407099601,
          -0.27448978661705825,
          -1.4415755199925269,
          -1.9056541112542937,
          2.610085039122083,
          -1.187935465155248,
          1.5614836160544694,
          -0.31203715277477034,
          1.304250285695868,
          0.22463724766987292,
          1.737162057197402,
          -0.6573768979424562,
          0.9822780526407184,
          2.795740190898864,
          -2.1545354692657077,
          0.8762552999208502,
          -1.1386279567408164,
          -0.599956792259965,
          -1.7946911278801898,
          -0.08287986516380241,
          -1.1563974780150095,
          1.6670657636922201,
          -0.2978371992243546,
          2.5411324625221137,
          0.7834221767053017,
          -0.09288855904952503,
          -0.33507472803353394,
          -0.6398279510255646,
          2.4299370946468364,
          -1.3407682495611675,
          0.15040940170339923,
          -2.044352686736043,
          -1.2248678011429075,
          -2.279549431222073,
          1.530708755270014,
          1.6877168183216353,
          -1.2842645134440147,
          0.4363701211493433
         ],
         "xaxis": "x",
         "y": [
          0.5920673351192636,
          0.49941993703758164,
          1.0061291144028082,
          -1.7047009772388753,
          1.8077010706887862,
          2.140415483336953,
          -1.5285716978323312,
          0.7454849367818686,
          -1.72768652735587,
          0.7021657210888745,
          1.492625962512693,
          -0.14442490045209455,
          0.0948046494277446,
          -0.07318244109624192,
          -1.9010584841844416,
          -0.1400322547997541,
          -1.740908996858959,
          0.45399168234153675,
          1.2889967696772235,
          0.8758022462284574,
          -0.4245439312488063,
          -0.9551584159961328,
          0.8963402863016853,
          -0.13202185155337282,
          1.8084076262805728,
          -0.40493927110794437,
          -0.17212863893173183,
          -0.417458485329645,
          -0.8114231138182074,
          -1.5259967700038375,
          0.4512180002447995,
          -1.5619632555538503,
          0.22245140281049627,
          1.774734024474693,
          -1.4588563875685197,
          0.14504200050324617,
          0.8071104558617402,
          -0.9798523041904094
         ],
         "yaxis": "y"
        }
       ],
       "layout": {
        "coloraxis": {
         "colorbar": {
          "title": {
           "text": "Cluster"
          }
         },
         "colorscale": [
          [
           0,
           "#440154"
          ],
          [
           0.1111111111111111,
           "#482878"
          ],
          [
           0.2222222222222222,
           "#3e4989"
          ],
          [
           0.3333333333333333,
           "#31688e"
          ],
          [
           0.4444444444444444,
           "#26828e"
          ],
          [
           0.5555555555555556,
           "#1f9e89"
          ],
          [
           0.6666666666666666,
           "#35b779"
          ],
          [
           0.7777777777777778,
           "#6ece58"
          ],
          [
           0.8888888888888888,
           "#b5de2b"
          ],
          [
           1,
           "#fde725"
          ]
         ]
        },
        "height": 600,
        "legend": {
         "tracegroupgap": 0
        },
        "template": {
         "data": {
          "bar": [
           {
            "error_x": {
             "color": "#2a3f5f"
            },
            "error_y": {
             "color": "#2a3f5f"
            },
            "marker": {
             "line": {
              "color": "#E5ECF6",
              "width": 0.5
             },
             "pattern": {
              "fillmode": "overlay",
              "size": 10,
              "solidity": 0.2
             }
            },
            "type": "bar"
           }
          ],
          "barpolar": [
           {
            "marker": {
             "line": {
              "color": "#E5ECF6",
              "width": 0.5
             },
             "pattern": {
              "fillmode": "overlay",
              "size": 10,
              "solidity": 0.2
             }
            },
            "type": "barpolar"
           }
          ],
          "carpet": [
           {
            "aaxis": {
             "endlinecolor": "#2a3f5f",
             "gridcolor": "white",
             "linecolor": "white",
             "minorgridcolor": "white",
             "startlinecolor": "#2a3f5f"
            },
            "baxis": {
             "endlinecolor": "#2a3f5f",
             "gridcolor": "white",
             "linecolor": "white",
             "minorgridcolor": "white",
             "startlinecolor": "#2a3f5f"
            },
            "type": "carpet"
           }
          ],
          "choropleth": [
           {
            "colorbar": {
             "outlinewidth": 0,
             "ticks": ""
            },
            "type": "choropleth"
           }
          ],
          "contour": [
           {
            "colorbar": {
             "outlinewidth": 0,
             "ticks": ""
            },
            "colorscale": [
             [
              0,
              "#0d0887"
             ],
             [
              0.1111111111111111,
              "#46039f"
             ],
             [
              0.2222222222222222,
              "#7201a8"
             ],
             [
              0.3333333333333333,
              "#9c179e"
             ],
             [
              0.4444444444444444,
              "#bd3786"
             ],
             [
              0.5555555555555556,
              "#d8576b"
             ],
             [
              0.6666666666666666,
              "#ed7953"
             ],
             [
              0.7777777777777778,
              "#fb9f3a"
             ],
             [
              0.8888888888888888,
              "#fdca26"
             ],
             [
              1,
              "#f0f921"
             ]
            ],
            "type": "contour"
           }
          ],
          "contourcarpet": [
           {
            "colorbar": {
             "outlinewidth": 0,
             "ticks": ""
            },
            "type": "contourcarpet"
           }
          ],
          "heatmap": [
           {
            "colorbar": {
             "outlinewidth": 0,
             "ticks": ""
            },
            "colorscale": [
             [
              0,
              "#0d0887"
             ],
             [
              0.1111111111111111,
              "#46039f"
             ],
             [
              0.2222222222222222,
              "#7201a8"
             ],
             [
              0.3333333333333333,
              "#9c179e"
             ],
             [
              0.4444444444444444,
              "#bd3786"
             ],
             [
              0.5555555555555556,
              "#d8576b"
             ],
             [
              0.6666666666666666,
              "#ed7953"
             ],
             [
              0.7777777777777778,
              "#fb9f3a"
             ],
             [
              0.8888888888888888,
              "#fdca26"
             ],
             [
              1,
              "#f0f921"
             ]
            ],
            "type": "heatmap"
           }
          ],
          "heatmapgl": [
           {
            "colorbar": {
             "outlinewidth": 0,
             "ticks": ""
            },
            "colorscale": [
             [
              0,
              "#0d0887"
             ],
             [
              0.1111111111111111,
              "#46039f"
             ],
             [
              0.2222222222222222,
              "#7201a8"
             ],
             [
              0.3333333333333333,
              "#9c179e"
             ],
             [
              0.4444444444444444,
              "#bd3786"
             ],
             [
              0.5555555555555556,
              "#d8576b"
             ],
             [
              0.6666666666666666,
              "#ed7953"
             ],
             [
              0.7777777777777778,
              "#fb9f3a"
             ],
             [
              0.8888888888888888,
              "#fdca26"
             ],
             [
              1,
              "#f0f921"
             ]
            ],
            "type": "heatmapgl"
           }
          ],
          "histogram": [
           {
            "marker": {
             "pattern": {
              "fillmode": "overlay",
              "size": 10,
              "solidity": 0.2
             }
            },
            "type": "histogram"
           }
          ],
          "histogram2d": [
           {
            "colorbar": {
             "outlinewidth": 0,
             "ticks": ""
            },
            "colorscale": [
             [
              0,
              "#0d0887"
             ],
             [
              0.1111111111111111,
              "#46039f"
             ],
             [
              0.2222222222222222,
              "#7201a8"
             ],
             [
              0.3333333333333333,
              "#9c179e"
             ],
             [
              0.4444444444444444,
              "#bd3786"
             ],
             [
              0.5555555555555556,
              "#d8576b"
             ],
             [
              0.6666666666666666,
              "#ed7953"
             ],
             [
              0.7777777777777778,
              "#fb9f3a"
             ],
             [
              0.8888888888888888,
              "#fdca26"
             ],
             [
              1,
              "#f0f921"
             ]
            ],
            "type": "histogram2d"
           }
          ],
          "histogram2dcontour": [
           {
            "colorbar": {
             "outlinewidth": 0,
             "ticks": ""
            },
            "colorscale": [
             [
              0,
              "#0d0887"
             ],
             [
              0.1111111111111111,
              "#46039f"
             ],
             [
              0.2222222222222222,
              "#7201a8"
             ],
             [
              0.3333333333333333,
              "#9c179e"
             ],
             [
              0.4444444444444444,
              "#bd3786"
             ],
             [
              0.5555555555555556,
              "#d8576b"
             ],
             [
              0.6666666666666666,
              "#ed7953"
             ],
             [
              0.7777777777777778,
              "#fb9f3a"
             ],
             [
              0.8888888888888888,
              "#fdca26"
             ],
             [
              1,
              "#f0f921"
             ]
            ],
            "type": "histogram2dcontour"
           }
          ],
          "mesh3d": [
           {
            "colorbar": {
             "outlinewidth": 0,
             "ticks": ""
            },
            "type": "mesh3d"
           }
          ],
          "parcoords": [
           {
            "line": {
             "colorbar": {
              "outlinewidth": 0,
              "ticks": ""
             }
            },
            "type": "parcoords"
           }
          ],
          "pie": [
           {
            "automargin": true,
            "type": "pie"
           }
          ],
          "scatter": [
           {
            "fillpattern": {
             "fillmode": "overlay",
             "size": 10,
             "solidity": 0.2
            },
            "type": "scatter"
           }
          ],
          "scatter3d": [
           {
            "line": {
             "colorbar": {
              "outlinewidth": 0,
              "ticks": ""
             }
            },
            "marker": {
             "colorbar": {
              "outlinewidth": 0,
              "ticks": ""
             }
            },
            "type": "scatter3d"
           }
          ],
          "scattercarpet": [
           {
            "marker": {
             "colorbar": {
              "outlinewidth": 0,
              "ticks": ""
             }
            },
            "type": "scattercarpet"
           }
          ],
          "scattergeo": [
           {
            "marker": {
             "colorbar": {
              "outlinewidth": 0,
              "ticks": ""
             }
            },
            "type": "scattergeo"
           }
          ],
          "scattergl": [
           {
            "marker": {
             "colorbar": {
              "outlinewidth": 0,
              "ticks": ""
             }
            },
            "type": "scattergl"
           }
          ],
          "scattermapbox": [
           {
            "marker": {
             "colorbar": {
              "outlinewidth": 0,
              "ticks": ""
             }
            },
            "type": "scattermapbox"
           }
          ],
          "scatterpolar": [
           {
            "marker": {
             "colorbar": {
              "outlinewidth": 0,
              "ticks": ""
             }
            },
            "type": "scatterpolar"
           }
          ],
          "scatterpolargl": [
           {
            "marker": {
             "colorbar": {
              "outlinewidth": 0,
              "ticks": ""
             }
            },
            "type": "scatterpolargl"
           }
          ],
          "scatterternary": [
           {
            "marker": {
             "colorbar": {
              "outlinewidth": 0,
              "ticks": ""
             }
            },
            "type": "scatterternary"
           }
          ],
          "surface": [
           {
            "colorbar": {
             "outlinewidth": 0,
             "ticks": ""
            },
            "colorscale": [
             [
              0,
              "#0d0887"
             ],
             [
              0.1111111111111111,
              "#46039f"
             ],
             [
              0.2222222222222222,
              "#7201a8"
             ],
             [
              0.3333333333333333,
              "#9c179e"
             ],
             [
              0.4444444444444444,
              "#bd3786"
             ],
             [
              0.5555555555555556,
              "#d8576b"
             ],
             [
              0.6666666666666666,
              "#ed7953"
             ],
             [
              0.7777777777777778,
              "#fb9f3a"
             ],
             [
              0.8888888888888888,
              "#fdca26"
             ],
             [
              1,
              "#f0f921"
             ]
            ],
            "type": "surface"
           }
          ],
          "table": [
           {
            "cells": {
             "fill": {
              "color": "#EBF0F8"
             },
             "line": {
              "color": "white"
             }
            },
            "header": {
             "fill": {
              "color": "#C8D4E3"
             },
             "line": {
              "color": "white"
             }
            },
            "type": "table"
           }
          ]
         },
         "layout": {
          "annotationdefaults": {
           "arrowcolor": "#2a3f5f",
           "arrowhead": 0,
           "arrowwidth": 1
          },
          "autotypenumbers": "strict",
          "coloraxis": {
           "colorbar": {
            "outlinewidth": 0,
            "ticks": ""
           }
          },
          "colorscale": {
           "diverging": [
            [
             0,
             "#8e0152"
            ],
            [
             0.1,
             "#c51b7d"
            ],
            [
             0.2,
             "#de77ae"
            ],
            [
             0.3,
             "#f1b6da"
            ],
            [
             0.4,
             "#fde0ef"
            ],
            [
             0.5,
             "#f7f7f7"
            ],
            [
             0.6,
             "#e6f5d0"
            ],
            [
             0.7,
             "#b8e186"
            ],
            [
             0.8,
             "#7fbc41"
            ],
            [
             0.9,
             "#4d9221"
            ],
            [
             1,
             "#276419"
            ]
           ],
           "sequential": [
            [
             0,
             "#0d0887"
            ],
            [
             0.1111111111111111,
             "#46039f"
            ],
            [
             0.2222222222222222,
             "#7201a8"
            ],
            [
             0.3333333333333333,
             "#9c179e"
            ],
            [
             0.4444444444444444,
             "#bd3786"
            ],
            [
             0.5555555555555556,
             "#d8576b"
            ],
            [
             0.6666666666666666,
             "#ed7953"
            ],
            [
             0.7777777777777778,
             "#fb9f3a"
            ],
            [
             0.8888888888888888,
             "#fdca26"
            ],
            [
             1,
             "#f0f921"
            ]
           ],
           "sequentialminus": [
            [
             0,
             "#0d0887"
            ],
            [
             0.1111111111111111,
             "#46039f"
            ],
            [
             0.2222222222222222,
             "#7201a8"
            ],
            [
             0.3333333333333333,
             "#9c179e"
            ],
            [
             0.4444444444444444,
             "#bd3786"
            ],
            [
             0.5555555555555556,
             "#d8576b"
            ],
            [
             0.6666666666666666,
             "#ed7953"
            ],
            [
             0.7777777777777778,
             "#fb9f3a"
            ],
            [
             0.8888888888888888,
             "#fdca26"
            ],
            [
             1,
             "#f0f921"
            ]
           ]
          },
          "colorway": [
           "#636efa",
           "#EF553B",
           "#00cc96",
           "#ab63fa",
           "#FFA15A",
           "#19d3f3",
           "#FF6692",
           "#B6E880",
           "#FF97FF",
           "#FECB52"
          ],
          "font": {
           "color": "#2a3f5f"
          },
          "geo": {
           "bgcolor": "white",
           "lakecolor": "white",
           "landcolor": "#E5ECF6",
           "showlakes": true,
           "showland": true,
           "subunitcolor": "white"
          },
          "hoverlabel": {
           "align": "left"
          },
          "hovermode": "closest",
          "mapbox": {
           "style": "light"
          },
          "paper_bgcolor": "white",
          "plot_bgcolor": "#E5ECF6",
          "polar": {
           "angularaxis": {
            "gridcolor": "white",
            "linecolor": "white",
            "ticks": ""
           },
           "bgcolor": "#E5ECF6",
           "radialaxis": {
            "gridcolor": "white",
            "linecolor": "white",
            "ticks": ""
           }
          },
          "scene": {
           "xaxis": {
            "backgroundcolor": "#E5ECF6",
            "gridcolor": "white",
            "gridwidth": 2,
            "linecolor": "white",
            "showbackground": true,
            "ticks": "",
            "zerolinecolor": "white"
           },
           "yaxis": {
            "backgroundcolor": "#E5ECF6",
            "gridcolor": "white",
            "gridwidth": 2,
            "linecolor": "white",
            "showbackground": true,
            "ticks": "",
            "zerolinecolor": "white"
           },
           "zaxis": {
            "backgroundcolor": "#E5ECF6",
            "gridcolor": "white",
            "gridwidth": 2,
            "linecolor": "white",
            "showbackground": true,
            "ticks": "",
            "zerolinecolor": "white"
           }
          },
          "shapedefaults": {
           "line": {
            "color": "#2a3f5f"
           }
          },
          "ternary": {
           "aaxis": {
            "gridcolor": "white",
            "linecolor": "white",
            "ticks": ""
           },
           "baxis": {
            "gridcolor": "white",
            "linecolor": "white",
            "ticks": ""
           },
           "bgcolor": "#E5ECF6",
           "caxis": {
            "gridcolor": "white",
            "linecolor": "white",
            "ticks": ""
           }
          },
          "title": {
           "x": 0.05
          },
          "xaxis": {
           "automargin": true,
           "gridcolor": "white",
           "linecolor": "white",
           "ticks": "",
           "title": {
            "standoff": 15
           },
           "zerolinecolor": "white",
           "zerolinewidth": 2
          },
          "yaxis": {
           "automargin": true,
           "gridcolor": "white",
           "linecolor": "white",
           "ticks": "",
           "title": {
            "standoff": 15
           },
           "zerolinecolor": "white",
           "zerolinewidth": 2
          }
         }
        },
        "title": {
         "text": "District Clusters (PCA) - Explained Variance: 56.08%"
        },
        "width": 1000,
        "xaxis": {
         "anchor": "y",
         "domain": [
          0,
          1
         ],
         "title": {
          "text": "PC1 (34.83%)"
         }
        },
        "yaxis": {
         "anchor": "x",
         "domain": [
          0,
          1
         ],
         "title": {
          "text": "PC2 (21.25%)"
         }
        }
       }
      }
     },
     "metadata": {},
     "output_type": "display_data"
    }
   ],
   "source": [
    "# Cluster Analysis\n",
    "def cluster_analysis(df):\n",
    "    \"\"\"Cluster districts by education characteristics\"\"\"\n",
    "    logger.info(\"Performing cluster analysis...\")\n",
    "    \n",
    "    cluster_features = [\n",
    "        'Overall_Average', 'PTR_Calculated', 'Infrastructure_Score',\n",
    "        'Literacy_Rate', 'Urban_Population_Pct', 'Teacher_Deficit_PTR30'\n",
    "    ]\n",
    "    \n",
    "    cluster_data = df[['District'] + cluster_features].dropna()\n",
    "    \n",
    "    # Standardize features\n",
    "    scaler = StandardScaler()\n",
    "    X_scaled = scaler.fit_transform(cluster_data[cluster_features])\n",
    "    \n",
    "    # Use 4 clusters\n",
    "    optimal_k = 4\n",
    "    kmeans = KMeans(n_clusters=optimal_k, random_state=42, n_init=10)\n",
    "    clusters = kmeans.fit_predict(X_scaled)\n",
    "    \n",
    "    # Add cluster labels\n",
    "    cluster_data['Cluster'] = clusters\n",
    "    \n",
    "    # Cluster summary\n",
    "    cluster_summary = cluster_data.groupby('Cluster')[cluster_features].agg(['mean', 'count'])\n",
    "    cluster_summary.columns = ['_'.join(col).strip() for col in cluster_summary.columns.values]\n",
    "    \n",
    "    print(\"\\n📊 Cluster Summary:\")\n",
    "    print(cluster_summary)\n",
    "    \n",
    "    # PCA for visualization\n",
    "    pca = PCA(n_components=2)\n",
    "    X_pca = pca.fit_transform(X_scaled)\n",
    "    \n",
    "    cluster_data['PC1'] = X_pca[:, 0]\n",
    "    cluster_data['PC2'] = X_pca[:, 1]\n",
    "    \n",
    "    # Visualize\n",
    "    fig = px.scatter(\n",
    "        cluster_data,\n",
    "        x='PC1',\n",
    "        y='PC2',\n",
    "        color='Cluster',\n",
    "        hover_name='District',\n",
    "        title=f'District Clusters (PCA) - Explained Variance: {pca.explained_variance_ratio_.sum():.2%}',\n",
    "        labels={'PC1': f'PC1 ({pca.explained_variance_ratio_[0]:.2%})',\n",
    "                'PC2': f'PC2 ({pca.explained_variance_ratio_[1]:.2%})'},\n",
    "        color_continuous_scale='viridis',\n",
    "        width=1000,\n",
    "        height=600\n",
    "    )\n",
    "    fig.write_html(OUTPUT_DIR / 'district_clusters.html')\n",
    "    fig.show()\n",
    "    \n",
    "    # Save\n",
    "    cluster_data.to_csv(OUTPUT_DIR / 'district_clusters.csv', index=False)\n",
    "    \n",
    "    return cluster_data, cluster_summary\n",
    "\n",
    "\n",
    "cluster_data, cluster_summary = cluster_analysis(final_df)"
   ]
  },
  {
   "cell_type": "markdown",
   "id": "d55a787a",
   "metadata": {},
   "source": [
    "## 7️⃣ Forecasting & Future Requirements"
   ]
  },
  {
   "cell_type": "code",
   "execution_count": 20,
   "id": "da4f0545",
   "metadata": {},
   "outputs": [
    {
     "name": "stderr",
     "output_type": "stream",
     "text": [
      "2025-10-30 23:03:46,662 - INFO - Generating historical enrollment trends...\n",
      "2025-10-30 23:03:46,730 - INFO - Generated historical data: (418, 3)\n"
     ]
    },
    {
     "name": "stdout",
     "output_type": "stream",
     "text": [
      "✅ Historical enrollment data generated. Shape: (418, 3)\n"
     ]
    },
    {
     "data": {
      "application/vnd.plotly.v1+json": {
       "config": {
        "plotlyServerURL": "https://plot.ly"
       },
       "data": [
        {
         "hovertemplate": "District=Chennai<br>Year=%{x}<br>Total Enrollment=%{y}<extra></extra>",
         "legendgroup": "Chennai",
         "line": {
          "color": "#636efa",
          "dash": "solid"
         },
         "marker": {
          "symbol": "circle"
         },
         "mode": "lines+markers",
         "name": "Chennai",
         "orientation": "v",
         "showlegend": true,
         "type": "scatter",
         "x": [
          2015,
          2016,
          2017,
          2018,
          2019,
          2020,
          2021,
          2022,
          2023,
          2024,
          2025
         ],
         "xaxis": "x",
         "y": [
          380351,
          396700,
          396014,
          393111,
          394445,
          405905,
          407429,
          416432,
          419252,
          429262,
          419859
         ],
         "yaxis": "y"
        },
        {
         "hovertemplate": "District=Coimbatore<br>Year=%{x}<br>Total Enrollment=%{y}<extra></extra>",
         "legendgroup": "Coimbatore",
         "line": {
          "color": "#EF553B",
          "dash": "solid"
         },
         "marker": {
          "symbol": "circle"
         },
         "mode": "lines+markers",
         "name": "Coimbatore",
         "orientation": "v",
         "showlegend": true,
         "type": "scatter",
         "x": [
          2015,
          2016,
          2017,
          2018,
          2019,
          2020,
          2021,
          2022,
          2023,
          2024,
          2025
         ],
         "xaxis": "x",
         "y": [
          365750,
          355533,
          374154,
          385907,
          389379,
          395049,
          401610,
          400095,
          414641,
          425326,
          447300
         ],
         "yaxis": "y"
        },
        {
         "hovertemplate": "District=Madurai<br>Year=%{x}<br>Total Enrollment=%{y}<extra></extra>",
         "legendgroup": "Madurai",
         "line": {
          "color": "#00cc96",
          "dash": "solid"
         },
         "marker": {
          "symbol": "circle"
         },
         "mode": "lines+markers",
         "name": "Madurai",
         "orientation": "v",
         "showlegend": true,
         "type": "scatter",
         "x": [
          2015,
          2016,
          2017,
          2018,
          2019,
          2020,
          2021,
          2022,
          2023,
          2024,
          2025
         ],
         "xaxis": "x",
         "y": [
          496357,
          480984,
          505486,
          516559,
          503767,
          529604,
          531471,
          543547,
          563081,
          547658,
          549915
         ],
         "yaxis": "y"
        },
        {
         "hovertemplate": "District=Tenkasi<br>Year=%{x}<br>Total Enrollment=%{y}<extra></extra>",
         "legendgroup": "Tenkasi",
         "line": {
          "color": "#ab63fa",
          "dash": "solid"
         },
         "marker": {
          "symbol": "circle"
         },
         "mode": "lines+markers",
         "name": "Tenkasi",
         "orientation": "v",
         "showlegend": true,
         "type": "scatter",
         "x": [
          2015,
          2016,
          2017,
          2018,
          2019,
          2020,
          2021,
          2022,
          2023,
          2024,
          2025
         ],
         "xaxis": "x",
         "y": [
          329019,
          339694,
          358019,
          371260,
          373166,
          384872,
          385761,
          408225,
          416527,
          417054,
          418909
         ],
         "yaxis": "y"
        },
        {
         "hovertemplate": "District=Tiruchirappalli<br>Year=%{x}<br>Total Enrollment=%{y}<extra></extra>",
         "legendgroup": "Tiruchirappalli",
         "line": {
          "color": "#FFA15A",
          "dash": "solid"
         },
         "marker": {
          "symbol": "circle"
         },
         "mode": "lines+markers",
         "name": "Tiruchirappalli",
         "orientation": "v",
         "showlegend": true,
         "type": "scatter",
         "x": [
          2015,
          2016,
          2017,
          2018,
          2019,
          2020,
          2021,
          2022,
          2023,
          2024,
          2025
         ],
         "xaxis": "x",
         "y": [
          509531,
          518563,
          527409,
          516434,
          520379,
          547937,
          517556,
          562854,
          548632,
          558241,
          556981
         ],
         "yaxis": "y"
        }
       ],
       "layout": {
        "height": 500,
        "legend": {
         "title": {
          "text": "District"
         },
         "tracegroupgap": 0
        },
        "template": {
         "data": {
          "bar": [
           {
            "error_x": {
             "color": "#2a3f5f"
            },
            "error_y": {
             "color": "#2a3f5f"
            },
            "marker": {
             "line": {
              "color": "#E5ECF6",
              "width": 0.5
             },
             "pattern": {
              "fillmode": "overlay",
              "size": 10,
              "solidity": 0.2
             }
            },
            "type": "bar"
           }
          ],
          "barpolar": [
           {
            "marker": {
             "line": {
              "color": "#E5ECF6",
              "width": 0.5
             },
             "pattern": {
              "fillmode": "overlay",
              "size": 10,
              "solidity": 0.2
             }
            },
            "type": "barpolar"
           }
          ],
          "carpet": [
           {
            "aaxis": {
             "endlinecolor": "#2a3f5f",
             "gridcolor": "white",
             "linecolor": "white",
             "minorgridcolor": "white",
             "startlinecolor": "#2a3f5f"
            },
            "baxis": {
             "endlinecolor": "#2a3f5f",
             "gridcolor": "white",
             "linecolor": "white",
             "minorgridcolor": "white",
             "startlinecolor": "#2a3f5f"
            },
            "type": "carpet"
           }
          ],
          "choropleth": [
           {
            "colorbar": {
             "outlinewidth": 0,
             "ticks": ""
            },
            "type": "choropleth"
           }
          ],
          "contour": [
           {
            "colorbar": {
             "outlinewidth": 0,
             "ticks": ""
            },
            "colorscale": [
             [
              0,
              "#0d0887"
             ],
             [
              0.1111111111111111,
              "#46039f"
             ],
             [
              0.2222222222222222,
              "#7201a8"
             ],
             [
              0.3333333333333333,
              "#9c179e"
             ],
             [
              0.4444444444444444,
              "#bd3786"
             ],
             [
              0.5555555555555556,
              "#d8576b"
             ],
             [
              0.6666666666666666,
              "#ed7953"
             ],
             [
              0.7777777777777778,
              "#fb9f3a"
             ],
             [
              0.8888888888888888,
              "#fdca26"
             ],
             [
              1,
              "#f0f921"
             ]
            ],
            "type": "contour"
           }
          ],
          "contourcarpet": [
           {
            "colorbar": {
             "outlinewidth": 0,
             "ticks": ""
            },
            "type": "contourcarpet"
           }
          ],
          "heatmap": [
           {
            "colorbar": {
             "outlinewidth": 0,
             "ticks": ""
            },
            "colorscale": [
             [
              0,
              "#0d0887"
             ],
             [
              0.1111111111111111,
              "#46039f"
             ],
             [
              0.2222222222222222,
              "#7201a8"
             ],
             [
              0.3333333333333333,
              "#9c179e"
             ],
             [
              0.4444444444444444,
              "#bd3786"
             ],
             [
              0.5555555555555556,
              "#d8576b"
             ],
             [
              0.6666666666666666,
              "#ed7953"
             ],
             [
              0.7777777777777778,
              "#fb9f3a"
             ],
             [
              0.8888888888888888,
              "#fdca26"
             ],
             [
              1,
              "#f0f921"
             ]
            ],
            "type": "heatmap"
           }
          ],
          "heatmapgl": [
           {
            "colorbar": {
             "outlinewidth": 0,
             "ticks": ""
            },
            "colorscale": [
             [
              0,
              "#0d0887"
             ],
             [
              0.1111111111111111,
              "#46039f"
             ],
             [
              0.2222222222222222,
              "#7201a8"
             ],
             [
              0.3333333333333333,
              "#9c179e"
             ],
             [
              0.4444444444444444,
              "#bd3786"
             ],
             [
              0.5555555555555556,
              "#d8576b"
             ],
             [
              0.6666666666666666,
              "#ed7953"
             ],
             [
              0.7777777777777778,
              "#fb9f3a"
             ],
             [
              0.8888888888888888,
              "#fdca26"
             ],
             [
              1,
              "#f0f921"
             ]
            ],
            "type": "heatmapgl"
           }
          ],
          "histogram": [
           {
            "marker": {
             "pattern": {
              "fillmode": "overlay",
              "size": 10,
              "solidity": 0.2
             }
            },
            "type": "histogram"
           }
          ],
          "histogram2d": [
           {
            "colorbar": {
             "outlinewidth": 0,
             "ticks": ""
            },
            "colorscale": [
             [
              0,
              "#0d0887"
             ],
             [
              0.1111111111111111,
              "#46039f"
             ],
             [
              0.2222222222222222,
              "#7201a8"
             ],
             [
              0.3333333333333333,
              "#9c179e"
             ],
             [
              0.4444444444444444,
              "#bd3786"
             ],
             [
              0.5555555555555556,
              "#d8576b"
             ],
             [
              0.6666666666666666,
              "#ed7953"
             ],
             [
              0.7777777777777778,
              "#fb9f3a"
             ],
             [
              0.8888888888888888,
              "#fdca26"
             ],
             [
              1,
              "#f0f921"
             ]
            ],
            "type": "histogram2d"
           }
          ],
          "histogram2dcontour": [
           {
            "colorbar": {
             "outlinewidth": 0,
             "ticks": ""
            },
            "colorscale": [
             [
              0,
              "#0d0887"
             ],
             [
              0.1111111111111111,
              "#46039f"
             ],
             [
              0.2222222222222222,
              "#7201a8"
             ],
             [
              0.3333333333333333,
              "#9c179e"
             ],
             [
              0.4444444444444444,
              "#bd3786"
             ],
             [
              0.5555555555555556,
              "#d8576b"
             ],
             [
              0.6666666666666666,
              "#ed7953"
             ],
             [
              0.7777777777777778,
              "#fb9f3a"
             ],
             [
              0.8888888888888888,
              "#fdca26"
             ],
             [
              1,
              "#f0f921"
             ]
            ],
            "type": "histogram2dcontour"
           }
          ],
          "mesh3d": [
           {
            "colorbar": {
             "outlinewidth": 0,
             "ticks": ""
            },
            "type": "mesh3d"
           }
          ],
          "parcoords": [
           {
            "line": {
             "colorbar": {
              "outlinewidth": 0,
              "ticks": ""
             }
            },
            "type": "parcoords"
           }
          ],
          "pie": [
           {
            "automargin": true,
            "type": "pie"
           }
          ],
          "scatter": [
           {
            "fillpattern": {
             "fillmode": "overlay",
             "size": 10,
             "solidity": 0.2
            },
            "type": "scatter"
           }
          ],
          "scatter3d": [
           {
            "line": {
             "colorbar": {
              "outlinewidth": 0,
              "ticks": ""
             }
            },
            "marker": {
             "colorbar": {
              "outlinewidth": 0,
              "ticks": ""
             }
            },
            "type": "scatter3d"
           }
          ],
          "scattercarpet": [
           {
            "marker": {
             "colorbar": {
              "outlinewidth": 0,
              "ticks": ""
             }
            },
            "type": "scattercarpet"
           }
          ],
          "scattergeo": [
           {
            "marker": {
             "colorbar": {
              "outlinewidth": 0,
              "ticks": ""
             }
            },
            "type": "scattergeo"
           }
          ],
          "scattergl": [
           {
            "marker": {
             "colorbar": {
              "outlinewidth": 0,
              "ticks": ""
             }
            },
            "type": "scattergl"
           }
          ],
          "scattermapbox": [
           {
            "marker": {
             "colorbar": {
              "outlinewidth": 0,
              "ticks": ""
             }
            },
            "type": "scattermapbox"
           }
          ],
          "scatterpolar": [
           {
            "marker": {
             "colorbar": {
              "outlinewidth": 0,
              "ticks": ""
             }
            },
            "type": "scatterpolar"
           }
          ],
          "scatterpolargl": [
           {
            "marker": {
             "colorbar": {
              "outlinewidth": 0,
              "ticks": ""
             }
            },
            "type": "scatterpolargl"
           }
          ],
          "scatterternary": [
           {
            "marker": {
             "colorbar": {
              "outlinewidth": 0,
              "ticks": ""
             }
            },
            "type": "scatterternary"
           }
          ],
          "surface": [
           {
            "colorbar": {
             "outlinewidth": 0,
             "ticks": ""
            },
            "colorscale": [
             [
              0,
              "#0d0887"
             ],
             [
              0.1111111111111111,
              "#46039f"
             ],
             [
              0.2222222222222222,
              "#7201a8"
             ],
             [
              0.3333333333333333,
              "#9c179e"
             ],
             [
              0.4444444444444444,
              "#bd3786"
             ],
             [
              0.5555555555555556,
              "#d8576b"
             ],
             [
              0.6666666666666666,
              "#ed7953"
             ],
             [
              0.7777777777777778,
              "#fb9f3a"
             ],
             [
              0.8888888888888888,
              "#fdca26"
             ],
             [
              1,
              "#f0f921"
             ]
            ],
            "type": "surface"
           }
          ],
          "table": [
           {
            "cells": {
             "fill": {
              "color": "#EBF0F8"
             },
             "line": {
              "color": "white"
             }
            },
            "header": {
             "fill": {
              "color": "#C8D4E3"
             },
             "line": {
              "color": "white"
             }
            },
            "type": "table"
           }
          ]
         },
         "layout": {
          "annotationdefaults": {
           "arrowcolor": "#2a3f5f",
           "arrowhead": 0,
           "arrowwidth": 1
          },
          "autotypenumbers": "strict",
          "coloraxis": {
           "colorbar": {
            "outlinewidth": 0,
            "ticks": ""
           }
          },
          "colorscale": {
           "diverging": [
            [
             0,
             "#8e0152"
            ],
            [
             0.1,
             "#c51b7d"
            ],
            [
             0.2,
             "#de77ae"
            ],
            [
             0.3,
             "#f1b6da"
            ],
            [
             0.4,
             "#fde0ef"
            ],
            [
             0.5,
             "#f7f7f7"
            ],
            [
             0.6,
             "#e6f5d0"
            ],
            [
             0.7,
             "#b8e186"
            ],
            [
             0.8,
             "#7fbc41"
            ],
            [
             0.9,
             "#4d9221"
            ],
            [
             1,
             "#276419"
            ]
           ],
           "sequential": [
            [
             0,
             "#0d0887"
            ],
            [
             0.1111111111111111,
             "#46039f"
            ],
            [
             0.2222222222222222,
             "#7201a8"
            ],
            [
             0.3333333333333333,
             "#9c179e"
            ],
            [
             0.4444444444444444,
             "#bd3786"
            ],
            [
             0.5555555555555556,
             "#d8576b"
            ],
            [
             0.6666666666666666,
             "#ed7953"
            ],
            [
             0.7777777777777778,
             "#fb9f3a"
            ],
            [
             0.8888888888888888,
             "#fdca26"
            ],
            [
             1,
             "#f0f921"
            ]
           ],
           "sequentialminus": [
            [
             0,
             "#0d0887"
            ],
            [
             0.1111111111111111,
             "#46039f"
            ],
            [
             0.2222222222222222,
             "#7201a8"
            ],
            [
             0.3333333333333333,
             "#9c179e"
            ],
            [
             0.4444444444444444,
             "#bd3786"
            ],
            [
             0.5555555555555556,
             "#d8576b"
            ],
            [
             0.6666666666666666,
             "#ed7953"
            ],
            [
             0.7777777777777778,
             "#fb9f3a"
            ],
            [
             0.8888888888888888,
             "#fdca26"
            ],
            [
             1,
             "#f0f921"
            ]
           ]
          },
          "colorway": [
           "#636efa",
           "#EF553B",
           "#00cc96",
           "#ab63fa",
           "#FFA15A",
           "#19d3f3",
           "#FF6692",
           "#B6E880",
           "#FF97FF",
           "#FECB52"
          ],
          "font": {
           "color": "#2a3f5f"
          },
          "geo": {
           "bgcolor": "white",
           "lakecolor": "white",
           "landcolor": "#E5ECF6",
           "showlakes": true,
           "showland": true,
           "subunitcolor": "white"
          },
          "hoverlabel": {
           "align": "left"
          },
          "hovermode": "closest",
          "mapbox": {
           "style": "light"
          },
          "paper_bgcolor": "white",
          "plot_bgcolor": "#E5ECF6",
          "polar": {
           "angularaxis": {
            "gridcolor": "white",
            "linecolor": "white",
            "ticks": ""
           },
           "bgcolor": "#E5ECF6",
           "radialaxis": {
            "gridcolor": "white",
            "linecolor": "white",
            "ticks": ""
           }
          },
          "scene": {
           "xaxis": {
            "backgroundcolor": "#E5ECF6",
            "gridcolor": "white",
            "gridwidth": 2,
            "linecolor": "white",
            "showbackground": true,
            "ticks": "",
            "zerolinecolor": "white"
           },
           "yaxis": {
            "backgroundcolor": "#E5ECF6",
            "gridcolor": "white",
            "gridwidth": 2,
            "linecolor": "white",
            "showbackground": true,
            "ticks": "",
            "zerolinecolor": "white"
           },
           "zaxis": {
            "backgroundcolor": "#E5ECF6",
            "gridcolor": "white",
            "gridwidth": 2,
            "linecolor": "white",
            "showbackground": true,
            "ticks": "",
            "zerolinecolor": "white"
           }
          },
          "shapedefaults": {
           "line": {
            "color": "#2a3f5f"
           }
          },
          "ternary": {
           "aaxis": {
            "gridcolor": "white",
            "linecolor": "white",
            "ticks": ""
           },
           "baxis": {
            "gridcolor": "white",
            "linecolor": "white",
            "ticks": ""
           },
           "bgcolor": "#E5ECF6",
           "caxis": {
            "gridcolor": "white",
            "linecolor": "white",
            "ticks": ""
           }
          },
          "title": {
           "x": 0.05
          },
          "xaxis": {
           "automargin": true,
           "gridcolor": "white",
           "linecolor": "white",
           "ticks": "",
           "title": {
            "standoff": 15
           },
           "zerolinecolor": "white",
           "zerolinewidth": 2
          },
          "yaxis": {
           "automargin": true,
           "gridcolor": "white",
           "linecolor": "white",
           "ticks": "",
           "title": {
            "standoff": 15
           },
           "zerolinecolor": "white",
           "zerolinewidth": 2
          }
         }
        },
        "title": {
         "text": "Historical Enrollment Trends (2015-2025) - Top 5 Districts"
        },
        "width": 1000,
        "xaxis": {
         "anchor": "y",
         "domain": [
          0,
          1
         ],
         "title": {
          "text": "Year"
         }
        },
        "yaxis": {
         "anchor": "x",
         "domain": [
          0,
          1
         ],
         "title": {
          "text": "Total Enrollment"
         }
        }
       }
      }
     },
     "metadata": {},
     "output_type": "display_data"
    }
   ],
   "source": [
    "# Generate historical enrollment data\n",
    "def generate_historical_enrollment_data(df):\n",
    "    \"\"\"Generate synthetic historical enrollment data (2015-2025)\"\"\"\n",
    "    logger.info(\"Generating historical enrollment trends...\")\n",
    "    \n",
    "    np.random.seed(42)\n",
    "    \n",
    "    years = range(2015, 2026)\n",
    "    historical_data = []\n",
    "    \n",
    "    for district in df['District'].unique():\n",
    "        current_enrollment = df[df['District'] == district]['Total_Enrollment'].iloc[0]\n",
    "        annual_growth_rate = np.random.uniform(0.01, 0.03)\n",
    "        \n",
    "        for year in years:\n",
    "            years_from_now = 2025 - year\n",
    "            enrollment = current_enrollment / ((1 + annual_growth_rate) ** years_from_now)\n",
    "            enrollment = int(enrollment + np.random.normal(0, enrollment * 0.02))\n",
    "            \n",
    "            historical_data.append({\n",
    "                'District': district,\n",
    "                'Year': year,\n",
    "                'Enrollment': max(enrollment, 0)\n",
    "            })\n",
    "    \n",
    "    hist_df = pd.DataFrame(historical_data)\n",
    "    hist_df.to_csv(OUTPUT_DIR / 'historical_enrollment_2015_2025.csv', index=False)\n",
    "    \n",
    "    logger.info(f\"Generated historical data: {hist_df.shape}\")\n",
    "    \n",
    "    return hist_df\n",
    "\n",
    "\n",
    "hist_df = generate_historical_enrollment_data(final_df)\n",
    "print(f\"✅ Historical enrollment data generated. Shape: {hist_df.shape}\")\n",
    "\n",
    "# Visualize trend for sample districts\n",
    "sample_districts = final_df.nlargest(5, 'Total_Enrollment')['District'].tolist()\n",
    "\n",
    "fig = px.line(\n",
    "    hist_df[hist_df['District'].isin(sample_districts)],\n",
    "    x='Year',\n",
    "    y='Enrollment',\n",
    "    color='District',\n",
    "    title='Historical Enrollment Trends (2015-2025) - Top 5 Districts',\n",
    "    labels={'Enrollment': 'Total Enrollment'},\n",
    "    markers=True,\n",
    "    width=1000,\n",
    "    height=500\n",
    ")\n",
    "fig.write_html(OUTPUT_DIR / 'historical_enrollment_trends.html')\n",
    "fig.show()"
   ]
  },
  {
   "cell_type": "code",
   "execution_count": null,
   "id": "15dffd8d",
   "metadata": {},
   "outputs": [
    {
     "name": "stderr",
     "output_type": "stream",
     "text": [
      "2025-10-30 23:07:04,165 - INFO - Forecasting enrollment for 5 years ahead...\n",
      "2025-10-30 23:07:05,112 - INFO - Generated forecasts: (190, 4)\n"
     ]
    },
    {
     "name": "stdout",
     "output_type": "stream",
     "text": [
      "✅ Enrollment forecast completed. Shape: (190, 4)\n"
     ]
    },
    {
     "data": {
      "application/vnd.plotly.v1+json": {
       "config": {
        "plotlyServerURL": "https://plot.ly"
       },
       "data": [
        {
         "hovertemplate": "District=Tiruchirappalli<br>Type=Historical<br>Year=%{x}<br>Total Enrollment=%{y}<extra></extra>",
         "legendgroup": "Tiruchirappalli, Historical",
         "line": {
          "color": "#636efa",
          "dash": "solid"
         },
         "marker": {
          "symbol": "circle"
         },
         "mode": "lines+markers",
         "name": "Tiruchirappalli, Historical",
         "orientation": "v",
         "showlegend": true,
         "type": "scatter",
         "x": [
          2015,
          2016,
          2017,
          2018,
          2019,
          2020,
          2021,
          2022,
          2023,
          2024,
          2025
         ],
         "xaxis": "x",
         "y": [
          509531,
          518563,
          527409,
          516434,
          520379,
          547937,
          517556,
          562854,
          548632,
          558241,
          556981
         ],
         "yaxis": "y"
        },
        {
         "hovertemplate": "District=Tiruchirappalli<br>Type=Forecast<br>Year=%{x}<br>Total Enrollment=%{y}<extra></extra>",
         "legendgroup": "Tiruchirappalli, Forecast",
         "line": {
          "color": "#636efa",
          "dash": "dot"
         },
         "marker": {
          "symbol": "circle"
         },
         "mode": "lines+markers",
         "name": "Tiruchirappalli, Forecast",
         "orientation": "v",
         "showlegend": true,
         "type": "scatter",
         "x": [
          2026,
          2027,
          2028,
          2029,
          2030
         ],
         "xaxis": "x",
         "y": [
          566493,
          571687,
          576881,
          582075,
          587269
         ],
         "yaxis": "y"
        },
        {
         "hovertemplate": "District=Madurai<br>Type=Historical<br>Year=%{x}<br>Total Enrollment=%{y}<extra></extra>",
         "legendgroup": "Madurai, Historical",
         "line": {
          "color": "#EF553B",
          "dash": "solid"
         },
         "marker": {
          "symbol": "circle"
         },
         "mode": "lines+markers",
         "name": "Madurai, Historical",
         "orientation": "v",
         "showlegend": true,
         "type": "scatter",
         "x": [
          2015,
          2016,
          2017,
          2018,
          2019,
          2020,
          2021,
          2022,
          2023,
          2024,
          2025
         ],
         "xaxis": "x",
         "y": [
          496357,
          480984,
          505486,
          516559,
          503767,
          529604,
          531471,
          543547,
          563081,
          547658,
          549915
         ],
         "yaxis": "y"
        },
        {
         "hovertemplate": "District=Madurai<br>Type=Forecast<br>Year=%{x}<br>Total Enrollment=%{y}<extra></extra>",
         "legendgroup": "Madurai, Forecast",
         "line": {
          "color": "#EF553B",
          "dash": "dot"
         },
         "marker": {
          "symbol": "circle"
         },
         "mode": "lines+markers",
         "name": "Madurai, Forecast",
         "orientation": "v",
         "showlegend": true,
         "type": "scatter",
         "x": [
          2026,
          2027,
          2028,
          2029,
          2030
         ],
         "xaxis": "x",
         "y": [
          572879,
          580742,
          588604,
          596466,
          604328
         ],
         "yaxis": "y"
        },
        {
         "hovertemplate": "District=Coimbatore<br>Type=Historical<br>Year=%{x}<br>Total Enrollment=%{y}<extra></extra>",
         "legendgroup": "Coimbatore, Historical",
         "line": {
          "color": "#00cc96",
          "dash": "solid"
         },
         "marker": {
          "symbol": "circle"
         },
         "mode": "lines+markers",
         "name": "Coimbatore, Historical",
         "orientation": "v",
         "showlegend": true,
         "type": "scatter",
         "x": [
          2015,
          2016,
          2017,
          2018,
          2019,
          2020,
          2021,
          2022,
          2023,
          2024,
          2025
         ],
         "xaxis": "x",
         "y": [
          365750,
          355533,
          374154,
          385907,
          389379,
          395049,
          401610,
          400095,
          414641,
          425326,
          447300
         ],
         "yaxis": "y"
        },
        {
         "hovertemplate": "District=Coimbatore<br>Type=Forecast<br>Year=%{x}<br>Total Enrollment=%{y}<extra></extra>",
         "legendgroup": "Coimbatore, Forecast",
         "line": {
          "color": "#00cc96",
          "dash": "dot"
         },
         "marker": {
          "symbol": "circle"
         },
         "mode": "lines+markers",
         "name": "Coimbatore, Forecast",
         "orientation": "v",
         "showlegend": true,
         "type": "scatter",
         "x": [
          2026,
          2027,
          2028,
          2029,
          2030
         ],
         "xaxis": "x",
         "y": [
          435449,
          442312,
          449175,
          456038,
          462901
         ],
         "yaxis": "y"
        }
       ],
       "layout": {
        "height": 500,
        "legend": {
         "title": {
          "text": "District, Type"
         },
         "tracegroupgap": 0
        },
        "template": {
         "data": {
          "bar": [
           {
            "error_x": {
             "color": "#2a3f5f"
            },
            "error_y": {
             "color": "#2a3f5f"
            },
            "marker": {
             "line": {
              "color": "#E5ECF6",
              "width": 0.5
             },
             "pattern": {
              "fillmode": "overlay",
              "size": 10,
              "solidity": 0.2
             }
            },
            "type": "bar"
           }
          ],
          "barpolar": [
           {
            "marker": {
             "line": {
              "color": "#E5ECF6",
              "width": 0.5
             },
             "pattern": {
              "fillmode": "overlay",
              "size": 10,
              "solidity": 0.2
             }
            },
            "type": "barpolar"
           }
          ],
          "carpet": [
           {
            "aaxis": {
             "endlinecolor": "#2a3f5f",
             "gridcolor": "white",
             "linecolor": "white",
             "minorgridcolor": "white",
             "startlinecolor": "#2a3f5f"
            },
            "baxis": {
             "endlinecolor": "#2a3f5f",
             "gridcolor": "white",
             "linecolor": "white",
             "minorgridcolor": "white",
             "startlinecolor": "#2a3f5f"
            },
            "type": "carpet"
           }
          ],
          "choropleth": [
           {
            "colorbar": {
             "outlinewidth": 0,
             "ticks": ""
            },
            "type": "choropleth"
           }
          ],
          "contour": [
           {
            "colorbar": {
             "outlinewidth": 0,
             "ticks": ""
            },
            "colorscale": [
             [
              0,
              "#0d0887"
             ],
             [
              0.1111111111111111,
              "#46039f"
             ],
             [
              0.2222222222222222,
              "#7201a8"
             ],
             [
              0.3333333333333333,
              "#9c179e"
             ],
             [
              0.4444444444444444,
              "#bd3786"
             ],
             [
              0.5555555555555556,
              "#d8576b"
             ],
             [
              0.6666666666666666,
              "#ed7953"
             ],
             [
              0.7777777777777778,
              "#fb9f3a"
             ],
             [
              0.8888888888888888,
              "#fdca26"
             ],
             [
              1,
              "#f0f921"
             ]
            ],
            "type": "contour"
           }
          ],
          "contourcarpet": [
           {
            "colorbar": {
             "outlinewidth": 0,
             "ticks": ""
            },
            "type": "contourcarpet"
           }
          ],
          "heatmap": [
           {
            "colorbar": {
             "outlinewidth": 0,
             "ticks": ""
            },
            "colorscale": [
             [
              0,
              "#0d0887"
             ],
             [
              0.1111111111111111,
              "#46039f"
             ],
             [
              0.2222222222222222,
              "#7201a8"
             ],
             [
              0.3333333333333333,
              "#9c179e"
             ],
             [
              0.4444444444444444,
              "#bd3786"
             ],
             [
              0.5555555555555556,
              "#d8576b"
             ],
             [
              0.6666666666666666,
              "#ed7953"
             ],
             [
              0.7777777777777778,
              "#fb9f3a"
             ],
             [
              0.8888888888888888,
              "#fdca26"
             ],
             [
              1,
              "#f0f921"
             ]
            ],
            "type": "heatmap"
           }
          ],
          "heatmapgl": [
           {
            "colorbar": {
             "outlinewidth": 0,
             "ticks": ""
            },
            "colorscale": [
             [
              0,
              "#0d0887"
             ],
             [
              0.1111111111111111,
              "#46039f"
             ],
             [
              0.2222222222222222,
              "#7201a8"
             ],
             [
              0.3333333333333333,
              "#9c179e"
             ],
             [
              0.4444444444444444,
              "#bd3786"
             ],
             [
              0.5555555555555556,
              "#d8576b"
             ],
             [
              0.6666666666666666,
              "#ed7953"
             ],
             [
              0.7777777777777778,
              "#fb9f3a"
             ],
             [
              0.8888888888888888,
              "#fdca26"
             ],
             [
              1,
              "#f0f921"
             ]
            ],
            "type": "heatmapgl"
           }
          ],
          "histogram": [
           {
            "marker": {
             "pattern": {
              "fillmode": "overlay",
              "size": 10,
              "solidity": 0.2
             }
            },
            "type": "histogram"
           }
          ],
          "histogram2d": [
           {
            "colorbar": {
             "outlinewidth": 0,
             "ticks": ""
            },
            "colorscale": [
             [
              0,
              "#0d0887"
             ],
             [
              0.1111111111111111,
              "#46039f"
             ],
             [
              0.2222222222222222,
              "#7201a8"
             ],
             [
              0.3333333333333333,
              "#9c179e"
             ],
             [
              0.4444444444444444,
              "#bd3786"
             ],
             [
              0.5555555555555556,
              "#d8576b"
             ],
             [
              0.6666666666666666,
              "#ed7953"
             ],
             [
              0.7777777777777778,
              "#fb9f3a"
             ],
             [
              0.8888888888888888,
              "#fdca26"
             ],
             [
              1,
              "#f0f921"
             ]
            ],
            "type": "histogram2d"
           }
          ],
          "histogram2dcontour": [
           {
            "colorbar": {
             "outlinewidth": 0,
             "ticks": ""
            },
            "colorscale": [
             [
              0,
              "#0d0887"
             ],
             [
              0.1111111111111111,
              "#46039f"
             ],
             [
              0.2222222222222222,
              "#7201a8"
             ],
             [
              0.3333333333333333,
              "#9c179e"
             ],
             [
              0.4444444444444444,
              "#bd3786"
             ],
             [
              0.5555555555555556,
              "#d8576b"
             ],
             [
              0.6666666666666666,
              "#ed7953"
             ],
             [
              0.7777777777777778,
              "#fb9f3a"
             ],
             [
              0.8888888888888888,
              "#fdca26"
             ],
             [
              1,
              "#f0f921"
             ]
            ],
            "type": "histogram2dcontour"
           }
          ],
          "mesh3d": [
           {
            "colorbar": {
             "outlinewidth": 0,
             "ticks": ""
            },
            "type": "mesh3d"
           }
          ],
          "parcoords": [
           {
            "line": {
             "colorbar": {
              "outlinewidth": 0,
              "ticks": ""
             }
            },
            "type": "parcoords"
           }
          ],
          "pie": [
           {
            "automargin": true,
            "type": "pie"
           }
          ],
          "scatter": [
           {
            "fillpattern": {
             "fillmode": "overlay",
             "size": 10,
             "solidity": 0.2
            },
            "type": "scatter"
           }
          ],
          "scatter3d": [
           {
            "line": {
             "colorbar": {
              "outlinewidth": 0,
              "ticks": ""
             }
            },
            "marker": {
             "colorbar": {
              "outlinewidth": 0,
              "ticks": ""
             }
            },
            "type": "scatter3d"
           }
          ],
          "scattercarpet": [
           {
            "marker": {
             "colorbar": {
              "outlinewidth": 0,
              "ticks": ""
             }
            },
            "type": "scattercarpet"
           }
          ],
          "scattergeo": [
           {
            "marker": {
             "colorbar": {
              "outlinewidth": 0,
              "ticks": ""
             }
            },
            "type": "scattergeo"
           }
          ],
          "scattergl": [
           {
            "marker": {
             "colorbar": {
              "outlinewidth": 0,
              "ticks": ""
             }
            },
            "type": "scattergl"
           }
          ],
          "scattermapbox": [
           {
            "marker": {
             "colorbar": {
              "outlinewidth": 0,
              "ticks": ""
             }
            },
            "type": "scattermapbox"
           }
          ],
          "scatterpolar": [
           {
            "marker": {
             "colorbar": {
              "outlinewidth": 0,
              "ticks": ""
             }
            },
            "type": "scatterpolar"
           }
          ],
          "scatterpolargl": [
           {
            "marker": {
             "colorbar": {
              "outlinewidth": 0,
              "ticks": ""
             }
            },
            "type": "scatterpolargl"
           }
          ],
          "scatterternary": [
           {
            "marker": {
             "colorbar": {
              "outlinewidth": 0,
              "ticks": ""
             }
            },
            "type": "scatterternary"
           }
          ],
          "surface": [
           {
            "colorbar": {
             "outlinewidth": 0,
             "ticks": ""
            },
            "colorscale": [
             [
              0,
              "#0d0887"
             ],
             [
              0.1111111111111111,
              "#46039f"
             ],
             [
              0.2222222222222222,
              "#7201a8"
             ],
             [
              0.3333333333333333,
              "#9c179e"
             ],
             [
              0.4444444444444444,
              "#bd3786"
             ],
             [
              0.5555555555555556,
              "#d8576b"
             ],
             [
              0.6666666666666666,
              "#ed7953"
             ],
             [
              0.7777777777777778,
              "#fb9f3a"
             ],
             [
              0.8888888888888888,
              "#fdca26"
             ],
             [
              1,
              "#f0f921"
             ]
            ],
            "type": "surface"
           }
          ],
          "table": [
           {
            "cells": {
             "fill": {
              "color": "#EBF0F8"
             },
             "line": {
              "color": "white"
             }
            },
            "header": {
             "fill": {
              "color": "#C8D4E3"
             },
             "line": {
              "color": "white"
             }
            },
            "type": "table"
           }
          ]
         },
         "layout": {
          "annotationdefaults": {
           "arrowcolor": "#2a3f5f",
           "arrowhead": 0,
           "arrowwidth": 1
          },
          "autotypenumbers": "strict",
          "coloraxis": {
           "colorbar": {
            "outlinewidth": 0,
            "ticks": ""
           }
          },
          "colorscale": {
           "diverging": [
            [
             0,
             "#8e0152"
            ],
            [
             0.1,
             "#c51b7d"
            ],
            [
             0.2,
             "#de77ae"
            ],
            [
             0.3,
             "#f1b6da"
            ],
            [
             0.4,
             "#fde0ef"
            ],
            [
             0.5,
             "#f7f7f7"
            ],
            [
             0.6,
             "#e6f5d0"
            ],
            [
             0.7,
             "#b8e186"
            ],
            [
             0.8,
             "#7fbc41"
            ],
            [
             0.9,
             "#4d9221"
            ],
            [
             1,
             "#276419"
            ]
           ],
           "sequential": [
            [
             0,
             "#0d0887"
            ],
            [
             0.1111111111111111,
             "#46039f"
            ],
            [
             0.2222222222222222,
             "#7201a8"
            ],
            [
             0.3333333333333333,
             "#9c179e"
            ],
            [
             0.4444444444444444,
             "#bd3786"
            ],
            [
             0.5555555555555556,
             "#d8576b"
            ],
            [
             0.6666666666666666,
             "#ed7953"
            ],
            [
             0.7777777777777778,
             "#fb9f3a"
            ],
            [
             0.8888888888888888,
             "#fdca26"
            ],
            [
             1,
             "#f0f921"
            ]
           ],
           "sequentialminus": [
            [
             0,
             "#0d0887"
            ],
            [
             0.1111111111111111,
             "#46039f"
            ],
            [
             0.2222222222222222,
             "#7201a8"
            ],
            [
             0.3333333333333333,
             "#9c179e"
            ],
            [
             0.4444444444444444,
             "#bd3786"
            ],
            [
             0.5555555555555556,
             "#d8576b"
            ],
            [
             0.6666666666666666,
             "#ed7953"
            ],
            [
             0.7777777777777778,
             "#fb9f3a"
            ],
            [
             0.8888888888888888,
             "#fdca26"
            ],
            [
             1,
             "#f0f921"
            ]
           ]
          },
          "colorway": [
           "#636efa",
           "#EF553B",
           "#00cc96",
           "#ab63fa",
           "#FFA15A",
           "#19d3f3",
           "#FF6692",
           "#B6E880",
           "#FF97FF",
           "#FECB52"
          ],
          "font": {
           "color": "#2a3f5f"
          },
          "geo": {
           "bgcolor": "white",
           "lakecolor": "white",
           "landcolor": "#E5ECF6",
           "showlakes": true,
           "showland": true,
           "subunitcolor": "white"
          },
          "hoverlabel": {
           "align": "left"
          },
          "hovermode": "closest",
          "mapbox": {
           "style": "light"
          },
          "paper_bgcolor": "white",
          "plot_bgcolor": "#E5ECF6",
          "polar": {
           "angularaxis": {
            "gridcolor": "white",
            "linecolor": "white",
            "ticks": ""
           },
           "bgcolor": "#E5ECF6",
           "radialaxis": {
            "gridcolor": "white",
            "linecolor": "white",
            "ticks": ""
           }
          },
          "scene": {
           "xaxis": {
            "backgroundcolor": "#E5ECF6",
            "gridcolor": "white",
            "gridwidth": 2,
            "linecolor": "white",
            "showbackground": true,
            "ticks": "",
            "zerolinecolor": "white"
           },
           "yaxis": {
            "backgroundcolor": "#E5ECF6",
            "gridcolor": "white",
            "gridwidth": 2,
            "linecolor": "white",
            "showbackground": true,
            "ticks": "",
            "zerolinecolor": "white"
           },
           "zaxis": {
            "backgroundcolor": "#E5ECF6",
            "gridcolor": "white",
            "gridwidth": 2,
            "linecolor": "white",
            "showbackground": true,
            "ticks": "",
            "zerolinecolor": "white"
           }
          },
          "shapedefaults": {
           "line": {
            "color": "#2a3f5f"
           }
          },
          "ternary": {
           "aaxis": {
            "gridcolor": "white",
            "linecolor": "white",
            "ticks": ""
           },
           "baxis": {
            "gridcolor": "white",
            "linecolor": "white",
            "ticks": ""
           },
           "bgcolor": "#E5ECF6",
           "caxis": {
            "gridcolor": "white",
            "linecolor": "white",
            "ticks": ""
           }
          },
          "title": {
           "x": 0.05
          },
          "xaxis": {
           "automargin": true,
           "gridcolor": "white",
           "linecolor": "white",
           "ticks": "",
           "title": {
            "standoff": 15
           },
           "zerolinecolor": "white",
           "zerolinewidth": 2
          },
          "yaxis": {
           "automargin": true,
           "gridcolor": "white",
           "linecolor": "white",
           "ticks": "",
           "title": {
            "standoff": 15
           },
           "zerolinecolor": "white",
           "zerolinewidth": 2
          }
         }
        },
        "title": {
         "text": "Enrollment Forecast (2015-2030) - Top 3 Districts"
        },
        "width": 1000,
        "xaxis": {
         "anchor": "y",
         "domain": [
          0,
          1
         ],
         "title": {
          "text": "Year"
         }
        },
        "yaxis": {
         "anchor": "x",
         "domain": [
          0,
          1
         ],
         "title": {
          "text": "Total Enrollment"
         }
        }
       }
      }
     },
     "metadata": {},
     "output_type": "display_data"
    }
   ],
   "source": [
    "# Forecast enrollment (simple exponential smoothing)\n",
    "def forecast_enrollment_simple(hist_df, forecast_years=5):\n",
    "    \"\"\"Forecast enrollment using simple exponential smoothing\"\"\"\n",
    "    logger.info(f\"Forecasting enrollment for {forecast_years} years ahead...\")\n",
    "    \n",
    "    forecasts = []\n",
    "    \n",
    "    for district in hist_df['District'].unique():\n",
    "        district_data = hist_df[hist_df['District'] == district].sort_values('Year')\n",
    "        \n",
    "        try:\n",
    "            # Use Exponential Smoothing\n",
    "            model = ExponentialSmoothing(\n",
    "                district_data['Enrollment'],\n",
    "                trend='add',\n",
    "                seasonal=None\n",
    "            )\n",
    "            \n",
    "            fitted_model = model.fit()\n",
    "            forecast = fitted_model.forecast(steps=forecast_years)\n",
    "            \n",
    "            for i, value in enumerate(forecast):\n",
    "                forecasts.append({\n",
    "                    'District': district,\n",
    "                    'Year': 2026 + i,\n",
    "                    'Forecast_Enrollment': int(max(value, 0)),\n",
    "                    'Model': 'ExponentialSmoothing'\n",
    "                })\n",
    "                \n",
    "        except Exception as e:\n",
    "            # Fallback to linear trend\n",
    "            coeffs = np.polyfit(district_data['Year'], district_data['Enrollment'], 1)\n",
    "            for i in range(forecast_years):\n",
    "                year = 2026 + i\n",
    "                forecast_value = int(max(coeffs[0] * year + coeffs[1], 0))\n",
    "                forecasts.append({\n",
    "                    'District': district,\n",
    "                    'Year': year,\n",
    "                    'Forecast_Enrollment': forecast_value,\n",
    "                    'Model': 'LinearTrend'\n",
    "                })\n",
    "    \n",
    "    forecast_df = pd.DataFrame(forecasts)\n",
    "    forecast_df.to_csv(OUTPUT_DIR / 'enrollment_forecast_2026_2030.csv', index=False)\n",
    "    \n",
    "    logger.info(f\"Generated forecasts: {forecast_df.shape}\")\n",
    "    \n",
    "    return forecast_df\n",
    "\n",
    "\n",
    "forecast_df = forecast_enrollment_simple(hist_df, forecast_years=5)\n",
    "print(f\"✅ Enrollment forecast completed. Shape: {forecast_df.shape}\")\n",
    "\n",
    "# Visualize forecast for sample districts\n",
    "sample_districts = final_df.nlargest(3, 'Total_Enrollment')['District'].tolist()\n",
    "\n",
    "# Combine historical and forecast\n",
    "combined_data = []\n",
    "\n",
    "for district in sample_districts:\n",
    "    hist = hist_df[hist_df['District'] == district][['Year', 'Enrollment']].copy()\n",
    "    hist['Type'] = 'Historical'\n",
    "    hist['Value'] = hist['Enrollment']\n",
    "    hist['District'] = district  # Ensure 'District' column is explicitly added\n",
    "    \n",
    "    forecast = forecast_df[forecast_df['District'] == district][['Year', 'Forecast_Enrollment']].copy()\n",
    "    forecast['Type'] = 'Forecast'\n",
    "    forecast['Value'] = forecast['Forecast_Enrollment']\n",
    "    \n",
    "    hist = hist[['District', 'Year', 'Value', 'Type']]\n",
    "    forecast = forecast.assign(District=district)[['District', 'Year', 'Value', 'Type']]\n",
    "    \n",
    "    combined_data.append(pd.concat([hist, forecast]))\n",
    "\n",
    "combined_df = pd.concat(combined_data)\n",
    "\n",
    "fig = px.line(\n",
    "    combined_df,\n",
    "    x='Year',\n",
    "    y='Value',\n",
    "    color='District',\n",
    "    line_dash='Type',\n",
    "    title='Enrollment Forecast (2015-2030) - Top 3 Districts',\n",
    "    labels={'Value': 'Total Enrollment'},\n",
    "    markers=True,\n",
    "    width=1000,\n",
    "    height=500\n",
    ")\n",
    "fig.write_html(OUTPUT_DIR / 'enrollment_forecast_2026_2030.html')\n",
    "fig.show()"
   ]
  },
  {
   "cell_type": "code",
   "execution_count": 23,
   "id": "a630ace3",
   "metadata": {},
   "outputs": [
    {
     "name": "stderr",
     "output_type": "stream",
     "text": [
      "2025-10-30 23:07:17,620 - INFO - Calculating teacher requirements (target PTR: 30)...\n"
     ]
    },
    {
     "name": "stdout",
     "output_type": "stream",
     "text": [
      "✅ Teacher requirements calculated. Shape: (190, 5)\n",
      "\n",
      "📊 Statewide Teacher Requirements (2026-2030):\n",
      "   Year  Forecast_Enrollment  Required_Teachers\n",
      "0  2026             12679292             422643\n",
      "1  2027             12868756             428958\n",
      "2  2028             13058212             435274\n",
      "3  2029             13247674             441589\n",
      "4  2030             13437135             447906\n"
     ]
    }
   ],
   "source": [
    "# Calculate future teacher requirements\n",
    "def calculate_teacher_requirements(enrollment_forecast_df, target_ptr=30):\n",
    "    \"\"\"Calculate future teacher requirements\"\"\"\n",
    "    logger.info(f\"Calculating teacher requirements (target PTR: {target_ptr})...\")\n",
    "    \n",
    "    teacher_req_df = enrollment_forecast_df.copy()\n",
    "    teacher_req_df['Required_Teachers'] = (\n",
    "        teacher_req_df['Forecast_Enrollment'] / target_ptr\n",
    "    ).round().astype(int)\n",
    "    \n",
    "    teacher_req_df.to_csv(OUTPUT_DIR / 'teacher_requirements_forecast.csv', index=False)\n",
    "    \n",
    "    return teacher_req_df\n",
    "\n",
    "\n",
    "teacher_req_df = calculate_teacher_requirements(forecast_df, target_ptr=30)\n",
    "print(f\"✅ Teacher requirements calculated. Shape: {teacher_req_df.shape}\")\n",
    "\n",
    "# Summary by year\n",
    "yearly_summary = teacher_req_df.groupby('Year').agg({\n",
    "    'Forecast_Enrollment': 'sum',\n",
    "    'Required_Teachers': 'sum'\n",
    "}).reset_index()\n",
    "\n",
    "print(\"\\n📊 Statewide Teacher Requirements (2026-2030):\")\n",
    "print(yearly_summary)"
   ]
  },
  {
   "cell_type": "code",
   "execution_count": 24,
   "id": "8d23eefc",
   "metadata": {},
   "outputs": [
    {
     "name": "stderr",
     "output_type": "stream",
     "text": [
      "2025-10-30 23:07:27,554 - INFO - Performing scenario analysis...\n"
     ]
    },
    {
     "name": "stdout",
     "output_type": "stream",
     "text": [
      "\n",
      "📊 PTR Scenario Analysis (2025-2030):\n",
      "             Scenario  Target_PTR  Projected_Enrollment_2030  Required_Teachers_2030  Current_Teachers_2025  Total_Deficit  Annual_Recruitment_Need  Budget_Estimate_Crores\n",
      "Conservative (PTR 35)          35                   13149556                  375701                 399272         -23571                    -4714                  -28284\n",
      "    Moderate (PTR 30)          30                   13149556                  438318                 399272          39046                     7809                   46854\n",
      "   Ambitious (PTR 25)          25                   13149556                  525982                 399272         126710                    25342                  152052\n",
      "       Ideal (PTR 20)          20                   13149556                  657477                 399272         258205                    51641                  309846\n"
     ]
    },
    {
     "data": {
      "application/vnd.plotly.v1+json": {
       "config": {
        "plotlyServerURL": "https://plot.ly"
       },
       "data": [
        {
         "name": "Total Deficit",
         "text": [
          -23571,
          39046,
          126710,
          258205
         ],
         "textposition": "auto",
         "type": "bar",
         "x": [
          "Conservative (PTR 35)",
          "Moderate (PTR 30)",
          "Ambitious (PTR 25)",
          "Ideal (PTR 20)"
         ],
         "y": [
          -23571,
          39046,
          126710,
          258205
         ]
        }
       ],
       "layout": {
        "height": 500,
        "template": {
         "data": {
          "bar": [
           {
            "error_x": {
             "color": "#2a3f5f"
            },
            "error_y": {
             "color": "#2a3f5f"
            },
            "marker": {
             "line": {
              "color": "#E5ECF6",
              "width": 0.5
             },
             "pattern": {
              "fillmode": "overlay",
              "size": 10,
              "solidity": 0.2
             }
            },
            "type": "bar"
           }
          ],
          "barpolar": [
           {
            "marker": {
             "line": {
              "color": "#E5ECF6",
              "width": 0.5
             },
             "pattern": {
              "fillmode": "overlay",
              "size": 10,
              "solidity": 0.2
             }
            },
            "type": "barpolar"
           }
          ],
          "carpet": [
           {
            "aaxis": {
             "endlinecolor": "#2a3f5f",
             "gridcolor": "white",
             "linecolor": "white",
             "minorgridcolor": "white",
             "startlinecolor": "#2a3f5f"
            },
            "baxis": {
             "endlinecolor": "#2a3f5f",
             "gridcolor": "white",
             "linecolor": "white",
             "minorgridcolor": "white",
             "startlinecolor": "#2a3f5f"
            },
            "type": "carpet"
           }
          ],
          "choropleth": [
           {
            "colorbar": {
             "outlinewidth": 0,
             "ticks": ""
            },
            "type": "choropleth"
           }
          ],
          "contour": [
           {
            "colorbar": {
             "outlinewidth": 0,
             "ticks": ""
            },
            "colorscale": [
             [
              0,
              "#0d0887"
             ],
             [
              0.1111111111111111,
              "#46039f"
             ],
             [
              0.2222222222222222,
              "#7201a8"
             ],
             [
              0.3333333333333333,
              "#9c179e"
             ],
             [
              0.4444444444444444,
              "#bd3786"
             ],
             [
              0.5555555555555556,
              "#d8576b"
             ],
             [
              0.6666666666666666,
              "#ed7953"
             ],
             [
              0.7777777777777778,
              "#fb9f3a"
             ],
             [
              0.8888888888888888,
              "#fdca26"
             ],
             [
              1,
              "#f0f921"
             ]
            ],
            "type": "contour"
           }
          ],
          "contourcarpet": [
           {
            "colorbar": {
             "outlinewidth": 0,
             "ticks": ""
            },
            "type": "contourcarpet"
           }
          ],
          "heatmap": [
           {
            "colorbar": {
             "outlinewidth": 0,
             "ticks": ""
            },
            "colorscale": [
             [
              0,
              "#0d0887"
             ],
             [
              0.1111111111111111,
              "#46039f"
             ],
             [
              0.2222222222222222,
              "#7201a8"
             ],
             [
              0.3333333333333333,
              "#9c179e"
             ],
             [
              0.4444444444444444,
              "#bd3786"
             ],
             [
              0.5555555555555556,
              "#d8576b"
             ],
             [
              0.6666666666666666,
              "#ed7953"
             ],
             [
              0.7777777777777778,
              "#fb9f3a"
             ],
             [
              0.8888888888888888,
              "#fdca26"
             ],
             [
              1,
              "#f0f921"
             ]
            ],
            "type": "heatmap"
           }
          ],
          "heatmapgl": [
           {
            "colorbar": {
             "outlinewidth": 0,
             "ticks": ""
            },
            "colorscale": [
             [
              0,
              "#0d0887"
             ],
             [
              0.1111111111111111,
              "#46039f"
             ],
             [
              0.2222222222222222,
              "#7201a8"
             ],
             [
              0.3333333333333333,
              "#9c179e"
             ],
             [
              0.4444444444444444,
              "#bd3786"
             ],
             [
              0.5555555555555556,
              "#d8576b"
             ],
             [
              0.6666666666666666,
              "#ed7953"
             ],
             [
              0.7777777777777778,
              "#fb9f3a"
             ],
             [
              0.8888888888888888,
              "#fdca26"
             ],
             [
              1,
              "#f0f921"
             ]
            ],
            "type": "heatmapgl"
           }
          ],
          "histogram": [
           {
            "marker": {
             "pattern": {
              "fillmode": "overlay",
              "size": 10,
              "solidity": 0.2
             }
            },
            "type": "histogram"
           }
          ],
          "histogram2d": [
           {
            "colorbar": {
             "outlinewidth": 0,
             "ticks": ""
            },
            "colorscale": [
             [
              0,
              "#0d0887"
             ],
             [
              0.1111111111111111,
              "#46039f"
             ],
             [
              0.2222222222222222,
              "#7201a8"
             ],
             [
              0.3333333333333333,
              "#9c179e"
             ],
             [
              0.4444444444444444,
              "#bd3786"
             ],
             [
              0.5555555555555556,
              "#d8576b"
             ],
             [
              0.6666666666666666,
              "#ed7953"
             ],
             [
              0.7777777777777778,
              "#fb9f3a"
             ],
             [
              0.8888888888888888,
              "#fdca26"
             ],
             [
              1,
              "#f0f921"
             ]
            ],
            "type": "histogram2d"
           }
          ],
          "histogram2dcontour": [
           {
            "colorbar": {
             "outlinewidth": 0,
             "ticks": ""
            },
            "colorscale": [
             [
              0,
              "#0d0887"
             ],
             [
              0.1111111111111111,
              "#46039f"
             ],
             [
              0.2222222222222222,
              "#7201a8"
             ],
             [
              0.3333333333333333,
              "#9c179e"
             ],
             [
              0.4444444444444444,
              "#bd3786"
             ],
             [
              0.5555555555555556,
              "#d8576b"
             ],
             [
              0.6666666666666666,
              "#ed7953"
             ],
             [
              0.7777777777777778,
              "#fb9f3a"
             ],
             [
              0.8888888888888888,
              "#fdca26"
             ],
             [
              1,
              "#f0f921"
             ]
            ],
            "type": "histogram2dcontour"
           }
          ],
          "mesh3d": [
           {
            "colorbar": {
             "outlinewidth": 0,
             "ticks": ""
            },
            "type": "mesh3d"
           }
          ],
          "parcoords": [
           {
            "line": {
             "colorbar": {
              "outlinewidth": 0,
              "ticks": ""
             }
            },
            "type": "parcoords"
           }
          ],
          "pie": [
           {
            "automargin": true,
            "type": "pie"
           }
          ],
          "scatter": [
           {
            "fillpattern": {
             "fillmode": "overlay",
             "size": 10,
             "solidity": 0.2
            },
            "type": "scatter"
           }
          ],
          "scatter3d": [
           {
            "line": {
             "colorbar": {
              "outlinewidth": 0,
              "ticks": ""
             }
            },
            "marker": {
             "colorbar": {
              "outlinewidth": 0,
              "ticks": ""
             }
            },
            "type": "scatter3d"
           }
          ],
          "scattercarpet": [
           {
            "marker": {
             "colorbar": {
              "outlinewidth": 0,
              "ticks": ""
             }
            },
            "type": "scattercarpet"
           }
          ],
          "scattergeo": [
           {
            "marker": {
             "colorbar": {
              "outlinewidth": 0,
              "ticks": ""
             }
            },
            "type": "scattergeo"
           }
          ],
          "scattergl": [
           {
            "marker": {
             "colorbar": {
              "outlinewidth": 0,
              "ticks": ""
             }
            },
            "type": "scattergl"
           }
          ],
          "scattermapbox": [
           {
            "marker": {
             "colorbar": {
              "outlinewidth": 0,
              "ticks": ""
             }
            },
            "type": "scattermapbox"
           }
          ],
          "scatterpolar": [
           {
            "marker": {
             "colorbar": {
              "outlinewidth": 0,
              "ticks": ""
             }
            },
            "type": "scatterpolar"
           }
          ],
          "scatterpolargl": [
           {
            "marker": {
             "colorbar": {
              "outlinewidth": 0,
              "ticks": ""
             }
            },
            "type": "scatterpolargl"
           }
          ],
          "scatterternary": [
           {
            "marker": {
             "colorbar": {
              "outlinewidth": 0,
              "ticks": ""
             }
            },
            "type": "scatterternary"
           }
          ],
          "surface": [
           {
            "colorbar": {
             "outlinewidth": 0,
             "ticks": ""
            },
            "colorscale": [
             [
              0,
              "#0d0887"
             ],
             [
              0.1111111111111111,
              "#46039f"
             ],
             [
              0.2222222222222222,
              "#7201a8"
             ],
             [
              0.3333333333333333,
              "#9c179e"
             ],
             [
              0.4444444444444444,
              "#bd3786"
             ],
             [
              0.5555555555555556,
              "#d8576b"
             ],
             [
              0.6666666666666666,
              "#ed7953"
             ],
             [
              0.7777777777777778,
              "#fb9f3a"
             ],
             [
              0.8888888888888888,
              "#fdca26"
             ],
             [
              1,
              "#f0f921"
             ]
            ],
            "type": "surface"
           }
          ],
          "table": [
           {
            "cells": {
             "fill": {
              "color": "#EBF0F8"
             },
             "line": {
              "color": "white"
             }
            },
            "header": {
             "fill": {
              "color": "#C8D4E3"
             },
             "line": {
              "color": "white"
             }
            },
            "type": "table"
           }
          ]
         },
         "layout": {
          "annotationdefaults": {
           "arrowcolor": "#2a3f5f",
           "arrowhead": 0,
           "arrowwidth": 1
          },
          "autotypenumbers": "strict",
          "coloraxis": {
           "colorbar": {
            "outlinewidth": 0,
            "ticks": ""
           }
          },
          "colorscale": {
           "diverging": [
            [
             0,
             "#8e0152"
            ],
            [
             0.1,
             "#c51b7d"
            ],
            [
             0.2,
             "#de77ae"
            ],
            [
             0.3,
             "#f1b6da"
            ],
            [
             0.4,
             "#fde0ef"
            ],
            [
             0.5,
             "#f7f7f7"
            ],
            [
             0.6,
             "#e6f5d0"
            ],
            [
             0.7,
             "#b8e186"
            ],
            [
             0.8,
             "#7fbc41"
            ],
            [
             0.9,
             "#4d9221"
            ],
            [
             1,
             "#276419"
            ]
           ],
           "sequential": [
            [
             0,
             "#0d0887"
            ],
            [
             0.1111111111111111,
             "#46039f"
            ],
            [
             0.2222222222222222,
             "#7201a8"
            ],
            [
             0.3333333333333333,
             "#9c179e"
            ],
            [
             0.4444444444444444,
             "#bd3786"
            ],
            [
             0.5555555555555556,
             "#d8576b"
            ],
            [
             0.6666666666666666,
             "#ed7953"
            ],
            [
             0.7777777777777778,
             "#fb9f3a"
            ],
            [
             0.8888888888888888,
             "#fdca26"
            ],
            [
             1,
             "#f0f921"
            ]
           ],
           "sequentialminus": [
            [
             0,
             "#0d0887"
            ],
            [
             0.1111111111111111,
             "#46039f"
            ],
            [
             0.2222222222222222,
             "#7201a8"
            ],
            [
             0.3333333333333333,
             "#9c179e"
            ],
            [
             0.4444444444444444,
             "#bd3786"
            ],
            [
             0.5555555555555556,
             "#d8576b"
            ],
            [
             0.6666666666666666,
             "#ed7953"
            ],
            [
             0.7777777777777778,
             "#fb9f3a"
            ],
            [
             0.8888888888888888,
             "#fdca26"
            ],
            [
             1,
             "#f0f921"
            ]
           ]
          },
          "colorway": [
           "#636efa",
           "#EF553B",
           "#00cc96",
           "#ab63fa",
           "#FFA15A",
           "#19d3f3",
           "#FF6692",
           "#B6E880",
           "#FF97FF",
           "#FECB52"
          ],
          "font": {
           "color": "#2a3f5f"
          },
          "geo": {
           "bgcolor": "white",
           "lakecolor": "white",
           "landcolor": "#E5ECF6",
           "showlakes": true,
           "showland": true,
           "subunitcolor": "white"
          },
          "hoverlabel": {
           "align": "left"
          },
          "hovermode": "closest",
          "mapbox": {
           "style": "light"
          },
          "paper_bgcolor": "white",
          "plot_bgcolor": "#E5ECF6",
          "polar": {
           "angularaxis": {
            "gridcolor": "white",
            "linecolor": "white",
            "ticks": ""
           },
           "bgcolor": "#E5ECF6",
           "radialaxis": {
            "gridcolor": "white",
            "linecolor": "white",
            "ticks": ""
           }
          },
          "scene": {
           "xaxis": {
            "backgroundcolor": "#E5ECF6",
            "gridcolor": "white",
            "gridwidth": 2,
            "linecolor": "white",
            "showbackground": true,
            "ticks": "",
            "zerolinecolor": "white"
           },
           "yaxis": {
            "backgroundcolor": "#E5ECF6",
            "gridcolor": "white",
            "gridwidth": 2,
            "linecolor": "white",
            "showbackground": true,
            "ticks": "",
            "zerolinecolor": "white"
           },
           "zaxis": {
            "backgroundcolor": "#E5ECF6",
            "gridcolor": "white",
            "gridwidth": 2,
            "linecolor": "white",
            "showbackground": true,
            "ticks": "",
            "zerolinecolor": "white"
           }
          },
          "shapedefaults": {
           "line": {
            "color": "#2a3f5f"
           }
          },
          "ternary": {
           "aaxis": {
            "gridcolor": "white",
            "linecolor": "white",
            "ticks": ""
           },
           "baxis": {
            "gridcolor": "white",
            "linecolor": "white",
            "ticks": ""
           },
           "bgcolor": "#E5ECF6",
           "caxis": {
            "gridcolor": "white",
            "linecolor": "white",
            "ticks": ""
           }
          },
          "title": {
           "x": 0.05
          },
          "xaxis": {
           "automargin": true,
           "gridcolor": "white",
           "linecolor": "white",
           "ticks": "",
           "title": {
            "standoff": 15
           },
           "zerolinecolor": "white",
           "zerolinewidth": 2
          },
          "yaxis": {
           "automargin": true,
           "gridcolor": "white",
           "linecolor": "white",
           "ticks": "",
           "title": {
            "standoff": 15
           },
           "zerolinecolor": "white",
           "zerolinewidth": 2
          }
         }
        },
        "title": {
         "text": "Teacher Deficit by PTR Scenario (2025-2030)"
        },
        "width": 1000,
        "xaxis": {
         "title": {
          "text": "Scenario"
         }
        },
        "yaxis": {
         "title": {
          "text": "Total Teacher Deficit"
         }
        }
       }
      }
     },
     "metadata": {},
     "output_type": "display_data"
    }
   ],
   "source": [
    "# Scenario Analysis\n",
    "def scenario_analysis(current_df):\n",
    "    \"\"\"Perform scenario analysis with different PTR targets\"\"\"\n",
    "    logger.info(\"Performing scenario analysis...\")\n",
    "    \n",
    "    scenarios = {\n",
    "        'Conservative (PTR 35)': 35,\n",
    "        'Moderate (PTR 30)': 30,\n",
    "        'Ambitious (PTR 25)': 25,\n",
    "        'Ideal (PTR 20)': 20\n",
    "    }\n",
    "    \n",
    "    scenario_results = []\n",
    "    \n",
    "    total_enrollment_2030 = current_df['Total_Enrollment'].sum()\n",
    "    projected_enrollment_2030 = int(total_enrollment_2030 * 1.05)  # 5% growth\n",
    "    \n",
    "    for scenario_name, target_ptr in scenarios.items():\n",
    "        required_teachers = int(projected_enrollment_2030 / target_ptr)\n",
    "        current_teachers = current_df['Total_Teachers'].sum()\n",
    "        deficit = required_teachers - current_teachers\n",
    "        annual_recruitment = int(deficit / 5)\n",
    "        \n",
    "        scenario_results.append({\n",
    "            'Scenario': scenario_name,\n",
    "            'Target_PTR': target_ptr,\n",
    "            'Projected_Enrollment_2030': projected_enrollment_2030,\n",
    "            'Required_Teachers_2030': required_teachers,\n",
    "            'Current_Teachers_2025': current_teachers,\n",
    "            'Total_Deficit': deficit,\n",
    "            'Annual_Recruitment_Need': annual_recruitment,\n",
    "            'Budget_Estimate_Crores': annual_recruitment * 6  # 6L per teacher\n",
    "        })\n",
    "    \n",
    "    scenario_df = pd.DataFrame(scenario_results)\n",
    "    scenario_df.to_csv(OUTPUT_DIR / 'ptr_scenario_analysis.csv', index=False)\n",
    "    \n",
    "    print(\"\\n📊 PTR Scenario Analysis (2025-2030):\")\n",
    "    print(scenario_df.to_string(index=False))\n",
    "    \n",
    "    # Visualize\n",
    "    fig = go.Figure()\n",
    "    \n",
    "    fig.add_trace(go.Bar(\n",
    "        name='Total Deficit',\n",
    "        x=scenario_df['Scenario'],\n",
    "        y=scenario_df['Total_Deficit'],\n",
    "        text=scenario_df['Total_Deficit'],\n",
    "        textposition='auto',\n",
    "    ))\n",
    "    \n",
    "    fig.update_layout(\n",
    "        title='Teacher Deficit by PTR Scenario (2025-2030)',\n",
    "        xaxis_title='Scenario',\n",
    "        yaxis_title='Total Teacher Deficit',\n",
    "        width=1000,\n",
    "        height=500\n",
    "    )\n",
    "    \n",
    "    fig.write_html(OUTPUT_DIR / 'scenario_analysis.html')\n",
    "    fig.show()\n",
    "    \n",
    "    return scenario_df\n",
    "\n",
    "\n",
    "scenario_df = scenario_analysis(final_df)"
   ]
  },
  {
   "cell_type": "markdown",
   "id": "82b5afd6",
   "metadata": {},
   "source": [
    "## 8️⃣ Visualizations & Reports"
   ]
  },
  {
   "cell_type": "code",
   "execution_count": 25,
   "id": "bf619de6",
   "metadata": {},
   "outputs": [
    {
     "name": "stdout",
     "output_type": "stream",
     "text": [
      "================================================================================\n",
      "🏆 TOP 10 PERFORMING DISTRICTS (Learning Outcomes)\n",
      "================================================================================\n",
      "       District  Overall_Average  PTR_Calculated  Infrastructure_Score  Overall_Rank\n",
      "        Tenkasi            81.47           31.72                 62.11             1\n",
      "     Sivagangai            81.17           26.02                 68.96             2\n",
      "        Madurai            81.09           26.79                 70.10             3\n",
      "  Kanniyakumari            76.29           28.30                 67.01             4\n",
      "      Cuddalore            75.90           26.15                 65.51             5\n",
      "     Viluppuram            69.00           36.90                 66.36             6\n",
      "Tiruchirappalli            68.06           26.54                 77.08             7\n",
      " Ramanathapuram            67.39           36.28                 72.75             8\n",
      "   Virudhunagar            66.95           30.89                 72.92             9\n",
      "   Nagapattinam            66.35           29.84                 66.04            10\n",
      "\n",
      "================================================================================\n",
      "⚠️ BOTTOM 10 PERFORMING DISTRICTS (Learning Outcomes)\n",
      "================================================================================\n",
      "      District  Overall_Average  PTR_Calculated  Infrastructure_Score  Overall_Rank\n",
      "    Perambalur            42.62           37.39                 66.24            38\n",
      "         Karur            43.81           31.90                 73.32            37\n",
      "    Tirupattur            44.80           30.06                 69.86            36\n",
      "       Ranipet            45.26           25.47                 68.02            35\n",
      "      Tiruppur            45.30           37.30                 76.28            34\n",
      "  Kallakurichi            45.81           26.00                 71.32            33\n",
      "Tiruvannamalai            46.36           37.82                 64.50            32\n",
      "Mayiladuthurai            47.54           36.47                 79.51            31\n",
      "      Nilgiris            47.57           33.39                 71.32            30\n",
      "         Erode            49.92           31.80                 71.65            29\n"
     ]
    }
   ],
   "source": [
    "# Top and Bottom Performers\n",
    "print(\"=\"*80)\n",
    "print(\"🏆 TOP 10 PERFORMING DISTRICTS (Learning Outcomes)\")\n",
    "print(\"=\"*80)\n",
    "\n",
    "top_10 = final_df.nlargest(10, 'Overall_Average')[\n",
    "    ['District', 'Overall_Average', 'PTR_Calculated', 'Infrastructure_Score', 'Overall_Rank']\n",
    "]\n",
    "print(top_10.to_string(index=False))\n",
    "\n",
    "print(\"\\n\" + \"=\"*80)\n",
    "print(\"⚠️ BOTTOM 10 PERFORMING DISTRICTS (Learning Outcomes)\")\n",
    "print(\"=\"*80)\n",
    "\n",
    "bottom_10 = final_df.nsmallest(10, 'Overall_Average')[\n",
    "    ['District', 'Overall_Average', 'PTR_Calculated', 'Infrastructure_Score', 'Overall_Rank']\n",
    "]\n",
    "print(bottom_10.to_string(index=False))"
   ]
  },
  {
   "cell_type": "code",
   "execution_count": 26,
   "id": "0526549a",
   "metadata": {},
   "outputs": [
    {
     "name": "stdout",
     "output_type": "stream",
     "text": [
      "\n",
      "================================================================================\n",
      "🎯 PRIORITY INTERVENTION DISTRICTS\n",
      "================================================================================\n",
      "\n",
      "Total Priority Districts: 0\n",
      "Critical Priority: 0\n",
      "High Priority: 0\n",
      "\n",
      "Top 15 Priority Districts:\n",
      "Empty DataFrame\n",
      "Columns: [District, Overall_Average, PTR_Calculated, Teacher_Deficit_PTR30, Priority_Score, Priority_Category]\n",
      "Index: []\n"
     ]
    },
    {
     "data": {
      "application/vnd.plotly.v1+json": {
       "config": {
        "plotlyServerURL": "https://plot.ly"
       },
       "data": [],
       "layout": {
        "barmode": "relative",
        "height": 600,
        "legend": {
         "tracegroupgap": 0
        },
        "template": {
         "data": {
          "bar": [
           {
            "error_x": {
             "color": "#2a3f5f"
            },
            "error_y": {
             "color": "#2a3f5f"
            },
            "marker": {
             "line": {
              "color": "#E5ECF6",
              "width": 0.5
             },
             "pattern": {
              "fillmode": "overlay",
              "size": 10,
              "solidity": 0.2
             }
            },
            "type": "bar"
           }
          ],
          "barpolar": [
           {
            "marker": {
             "line": {
              "color": "#E5ECF6",
              "width": 0.5
             },
             "pattern": {
              "fillmode": "overlay",
              "size": 10,
              "solidity": 0.2
             }
            },
            "type": "barpolar"
           }
          ],
          "carpet": [
           {
            "aaxis": {
             "endlinecolor": "#2a3f5f",
             "gridcolor": "white",
             "linecolor": "white",
             "minorgridcolor": "white",
             "startlinecolor": "#2a3f5f"
            },
            "baxis": {
             "endlinecolor": "#2a3f5f",
             "gridcolor": "white",
             "linecolor": "white",
             "minorgridcolor": "white",
             "startlinecolor": "#2a3f5f"
            },
            "type": "carpet"
           }
          ],
          "choropleth": [
           {
            "colorbar": {
             "outlinewidth": 0,
             "ticks": ""
            },
            "type": "choropleth"
           }
          ],
          "contour": [
           {
            "colorbar": {
             "outlinewidth": 0,
             "ticks": ""
            },
            "colorscale": [
             [
              0,
              "#0d0887"
             ],
             [
              0.1111111111111111,
              "#46039f"
             ],
             [
              0.2222222222222222,
              "#7201a8"
             ],
             [
              0.3333333333333333,
              "#9c179e"
             ],
             [
              0.4444444444444444,
              "#bd3786"
             ],
             [
              0.5555555555555556,
              "#d8576b"
             ],
             [
              0.6666666666666666,
              "#ed7953"
             ],
             [
              0.7777777777777778,
              "#fb9f3a"
             ],
             [
              0.8888888888888888,
              "#fdca26"
             ],
             [
              1,
              "#f0f921"
             ]
            ],
            "type": "contour"
           }
          ],
          "contourcarpet": [
           {
            "colorbar": {
             "outlinewidth": 0,
             "ticks": ""
            },
            "type": "contourcarpet"
           }
          ],
          "heatmap": [
           {
            "colorbar": {
             "outlinewidth": 0,
             "ticks": ""
            },
            "colorscale": [
             [
              0,
              "#0d0887"
             ],
             [
              0.1111111111111111,
              "#46039f"
             ],
             [
              0.2222222222222222,
              "#7201a8"
             ],
             [
              0.3333333333333333,
              "#9c179e"
             ],
             [
              0.4444444444444444,
              "#bd3786"
             ],
             [
              0.5555555555555556,
              "#d8576b"
             ],
             [
              0.6666666666666666,
              "#ed7953"
             ],
             [
              0.7777777777777778,
              "#fb9f3a"
             ],
             [
              0.8888888888888888,
              "#fdca26"
             ],
             [
              1,
              "#f0f921"
             ]
            ],
            "type": "heatmap"
           }
          ],
          "heatmapgl": [
           {
            "colorbar": {
             "outlinewidth": 0,
             "ticks": ""
            },
            "colorscale": [
             [
              0,
              "#0d0887"
             ],
             [
              0.1111111111111111,
              "#46039f"
             ],
             [
              0.2222222222222222,
              "#7201a8"
             ],
             [
              0.3333333333333333,
              "#9c179e"
             ],
             [
              0.4444444444444444,
              "#bd3786"
             ],
             [
              0.5555555555555556,
              "#d8576b"
             ],
             [
              0.6666666666666666,
              "#ed7953"
             ],
             [
              0.7777777777777778,
              "#fb9f3a"
             ],
             [
              0.8888888888888888,
              "#fdca26"
             ],
             [
              1,
              "#f0f921"
             ]
            ],
            "type": "heatmapgl"
           }
          ],
          "histogram": [
           {
            "marker": {
             "pattern": {
              "fillmode": "overlay",
              "size": 10,
              "solidity": 0.2
             }
            },
            "type": "histogram"
           }
          ],
          "histogram2d": [
           {
            "colorbar": {
             "outlinewidth": 0,
             "ticks": ""
            },
            "colorscale": [
             [
              0,
              "#0d0887"
             ],
             [
              0.1111111111111111,
              "#46039f"
             ],
             [
              0.2222222222222222,
              "#7201a8"
             ],
             [
              0.3333333333333333,
              "#9c179e"
             ],
             [
              0.4444444444444444,
              "#bd3786"
             ],
             [
              0.5555555555555556,
              "#d8576b"
             ],
             [
              0.6666666666666666,
              "#ed7953"
             ],
             [
              0.7777777777777778,
              "#fb9f3a"
             ],
             [
              0.8888888888888888,
              "#fdca26"
             ],
             [
              1,
              "#f0f921"
             ]
            ],
            "type": "histogram2d"
           }
          ],
          "histogram2dcontour": [
           {
            "colorbar": {
             "outlinewidth": 0,
             "ticks": ""
            },
            "colorscale": [
             [
              0,
              "#0d0887"
             ],
             [
              0.1111111111111111,
              "#46039f"
             ],
             [
              0.2222222222222222,
              "#7201a8"
             ],
             [
              0.3333333333333333,
              "#9c179e"
             ],
             [
              0.4444444444444444,
              "#bd3786"
             ],
             [
              0.5555555555555556,
              "#d8576b"
             ],
             [
              0.6666666666666666,
              "#ed7953"
             ],
             [
              0.7777777777777778,
              "#fb9f3a"
             ],
             [
              0.8888888888888888,
              "#fdca26"
             ],
             [
              1,
              "#f0f921"
             ]
            ],
            "type": "histogram2dcontour"
           }
          ],
          "mesh3d": [
           {
            "colorbar": {
             "outlinewidth": 0,
             "ticks": ""
            },
            "type": "mesh3d"
           }
          ],
          "parcoords": [
           {
            "line": {
             "colorbar": {
              "outlinewidth": 0,
              "ticks": ""
             }
            },
            "type": "parcoords"
           }
          ],
          "pie": [
           {
            "automargin": true,
            "type": "pie"
           }
          ],
          "scatter": [
           {
            "fillpattern": {
             "fillmode": "overlay",
             "size": 10,
             "solidity": 0.2
            },
            "type": "scatter"
           }
          ],
          "scatter3d": [
           {
            "line": {
             "colorbar": {
              "outlinewidth": 0,
              "ticks": ""
             }
            },
            "marker": {
             "colorbar": {
              "outlinewidth": 0,
              "ticks": ""
             }
            },
            "type": "scatter3d"
           }
          ],
          "scattercarpet": [
           {
            "marker": {
             "colorbar": {
              "outlinewidth": 0,
              "ticks": ""
             }
            },
            "type": "scattercarpet"
           }
          ],
          "scattergeo": [
           {
            "marker": {
             "colorbar": {
              "outlinewidth": 0,
              "ticks": ""
             }
            },
            "type": "scattergeo"
           }
          ],
          "scattergl": [
           {
            "marker": {
             "colorbar": {
              "outlinewidth": 0,
              "ticks": ""
             }
            },
            "type": "scattergl"
           }
          ],
          "scattermapbox": [
           {
            "marker": {
             "colorbar": {
              "outlinewidth": 0,
              "ticks": ""
             }
            },
            "type": "scattermapbox"
           }
          ],
          "scatterpolar": [
           {
            "marker": {
             "colorbar": {
              "outlinewidth": 0,
              "ticks": ""
             }
            },
            "type": "scatterpolar"
           }
          ],
          "scatterpolargl": [
           {
            "marker": {
             "colorbar": {
              "outlinewidth": 0,
              "ticks": ""
             }
            },
            "type": "scatterpolargl"
           }
          ],
          "scatterternary": [
           {
            "marker": {
             "colorbar": {
              "outlinewidth": 0,
              "ticks": ""
             }
            },
            "type": "scatterternary"
           }
          ],
          "surface": [
           {
            "colorbar": {
             "outlinewidth": 0,
             "ticks": ""
            },
            "colorscale": [
             [
              0,
              "#0d0887"
             ],
             [
              0.1111111111111111,
              "#46039f"
             ],
             [
              0.2222222222222222,
              "#7201a8"
             ],
             [
              0.3333333333333333,
              "#9c179e"
             ],
             [
              0.4444444444444444,
              "#bd3786"
             ],
             [
              0.5555555555555556,
              "#d8576b"
             ],
             [
              0.6666666666666666,
              "#ed7953"
             ],
             [
              0.7777777777777778,
              "#fb9f3a"
             ],
             [
              0.8888888888888888,
              "#fdca26"
             ],
             [
              1,
              "#f0f921"
             ]
            ],
            "type": "surface"
           }
          ],
          "table": [
           {
            "cells": {
             "fill": {
              "color": "#EBF0F8"
             },
             "line": {
              "color": "white"
             }
            },
            "header": {
             "fill": {
              "color": "#C8D4E3"
             },
             "line": {
              "color": "white"
             }
            },
            "type": "table"
           }
          ]
         },
         "layout": {
          "annotationdefaults": {
           "arrowcolor": "#2a3f5f",
           "arrowhead": 0,
           "arrowwidth": 1
          },
          "autotypenumbers": "strict",
          "coloraxis": {
           "colorbar": {
            "outlinewidth": 0,
            "ticks": ""
           }
          },
          "colorscale": {
           "diverging": [
            [
             0,
             "#8e0152"
            ],
            [
             0.1,
             "#c51b7d"
            ],
            [
             0.2,
             "#de77ae"
            ],
            [
             0.3,
             "#f1b6da"
            ],
            [
             0.4,
             "#fde0ef"
            ],
            [
             0.5,
             "#f7f7f7"
            ],
            [
             0.6,
             "#e6f5d0"
            ],
            [
             0.7,
             "#b8e186"
            ],
            [
             0.8,
             "#7fbc41"
            ],
            [
             0.9,
             "#4d9221"
            ],
            [
             1,
             "#276419"
            ]
           ],
           "sequential": [
            [
             0,
             "#0d0887"
            ],
            [
             0.1111111111111111,
             "#46039f"
            ],
            [
             0.2222222222222222,
             "#7201a8"
            ],
            [
             0.3333333333333333,
             "#9c179e"
            ],
            [
             0.4444444444444444,
             "#bd3786"
            ],
            [
             0.5555555555555556,
             "#d8576b"
            ],
            [
             0.6666666666666666,
             "#ed7953"
            ],
            [
             0.7777777777777778,
             "#fb9f3a"
            ],
            [
             0.8888888888888888,
             "#fdca26"
            ],
            [
             1,
             "#f0f921"
            ]
           ],
           "sequentialminus": [
            [
             0,
             "#0d0887"
            ],
            [
             0.1111111111111111,
             "#46039f"
            ],
            [
             0.2222222222222222,
             "#7201a8"
            ],
            [
             0.3333333333333333,
             "#9c179e"
            ],
            [
             0.4444444444444444,
             "#bd3786"
            ],
            [
             0.5555555555555556,
             "#d8576b"
            ],
            [
             0.6666666666666666,
             "#ed7953"
            ],
            [
             0.7777777777777778,
             "#fb9f3a"
            ],
            [
             0.8888888888888888,
             "#fdca26"
            ],
            [
             1,
             "#f0f921"
            ]
           ]
          },
          "colorway": [
           "#636efa",
           "#EF553B",
           "#00cc96",
           "#ab63fa",
           "#FFA15A",
           "#19d3f3",
           "#FF6692",
           "#B6E880",
           "#FF97FF",
           "#FECB52"
          ],
          "font": {
           "color": "#2a3f5f"
          },
          "geo": {
           "bgcolor": "white",
           "lakecolor": "white",
           "landcolor": "#E5ECF6",
           "showlakes": true,
           "showland": true,
           "subunitcolor": "white"
          },
          "hoverlabel": {
           "align": "left"
          },
          "hovermode": "closest",
          "mapbox": {
           "style": "light"
          },
          "paper_bgcolor": "white",
          "plot_bgcolor": "#E5ECF6",
          "polar": {
           "angularaxis": {
            "gridcolor": "white",
            "linecolor": "white",
            "ticks": ""
           },
           "bgcolor": "#E5ECF6",
           "radialaxis": {
            "gridcolor": "white",
            "linecolor": "white",
            "ticks": ""
           }
          },
          "scene": {
           "xaxis": {
            "backgroundcolor": "#E5ECF6",
            "gridcolor": "white",
            "gridwidth": 2,
            "linecolor": "white",
            "showbackground": true,
            "ticks": "",
            "zerolinecolor": "white"
           },
           "yaxis": {
            "backgroundcolor": "#E5ECF6",
            "gridcolor": "white",
            "gridwidth": 2,
            "linecolor": "white",
            "showbackground": true,
            "ticks": "",
            "zerolinecolor": "white"
           },
           "zaxis": {
            "backgroundcolor": "#E5ECF6",
            "gridcolor": "white",
            "gridwidth": 2,
            "linecolor": "white",
            "showbackground": true,
            "ticks": "",
            "zerolinecolor": "white"
           }
          },
          "shapedefaults": {
           "line": {
            "color": "#2a3f5f"
           }
          },
          "ternary": {
           "aaxis": {
            "gridcolor": "white",
            "linecolor": "white",
            "ticks": ""
           },
           "baxis": {
            "gridcolor": "white",
            "linecolor": "white",
            "ticks": ""
           },
           "bgcolor": "#E5ECF6",
           "caxis": {
            "gridcolor": "white",
            "linecolor": "white",
            "ticks": ""
           }
          },
          "title": {
           "x": 0.05
          },
          "xaxis": {
           "automargin": true,
           "gridcolor": "white",
           "linecolor": "white",
           "ticks": "",
           "title": {
            "standoff": 15
           },
           "zerolinecolor": "white",
           "zerolinewidth": 2
          },
          "yaxis": {
           "automargin": true,
           "gridcolor": "white",
           "linecolor": "white",
           "ticks": "",
           "title": {
            "standoff": 15
           },
           "zerolinecolor": "white",
           "zerolinewidth": 2
          }
         }
        },
        "title": {
         "text": "Top 15 Priority Intervention Districts"
        },
        "width": 1000,
        "xaxis": {
         "anchor": "y",
         "domain": [
          0,
          1
         ],
         "title": {
          "text": "Priority Score (Higher = More Urgent)"
         }
        },
        "yaxis": {
         "anchor": "x",
         "domain": [
          0,
          1
         ],
         "title": {
          "text": "District"
         }
        }
       }
      }
     },
     "metadata": {},
     "output_type": "display_data"
    }
   ],
   "source": [
    "# Priority Intervention Districts\n",
    "print(\"\\n\" + \"=\"*80)\n",
    "print(\"🎯 PRIORITY INTERVENTION DISTRICTS\")\n",
    "print(\"=\"*80)\n",
    "\n",
    "priority_df = final_df[\n",
    "    final_df['Priority_Category'].isin(['High Priority', 'Critical Priority'])\n",
    "].sort_values('Priority_Score', ascending=False)\n",
    "\n",
    "print(f\"\\nTotal Priority Districts: {len(priority_df)}\")\n",
    "print(f\"Critical Priority: {(final_df['Priority_Category'] == 'Critical Priority').sum()}\")\n",
    "print(f\"High Priority: {(final_df['Priority_Category'] == 'High Priority').sum()}\")\n",
    "\n",
    "print(\"\\nTop 15 Priority Districts:\")\n",
    "print(priority_df[\n",
    "    ['District', 'Overall_Average', 'PTR_Calculated', 'Teacher_Deficit_PTR30', \n",
    "     'Priority_Score', 'Priority_Category']\n",
    "].head(15).to_string(index=False))\n",
    "\n",
    "# Save priority districts\n",
    "priority_df.to_csv(OUTPUT_DIR / 'priority_intervention_districts.csv', index=False)\n",
    "\n",
    "# Visualize\n",
    "fig = px.bar(\n",
    "    priority_df.head(15).sort_values('Priority_Score'),\n",
    "    y='District',\n",
    "    x='Priority_Score',\n",
    "    color='Priority_Category',\n",
    "    title='Top 15 Priority Intervention Districts',\n",
    "    labels={'Priority_Score': 'Priority Score (Higher = More Urgent)'},\n",
    "    orientation='h',\n",
    "    width=1000,\n",
    "    height=600\n",
    ")\n",
    "fig.write_html(OUTPUT_DIR / 'priority_districts.html')\n",
    "fig.show()"
   ]
  },
  {
   "cell_type": "code",
   "execution_count": 27,
   "id": "72e54db2",
   "metadata": {},
   "outputs": [
    {
     "data": {
      "application/vnd.plotly.v1+json": {
       "config": {
        "plotlyServerURL": "https://plot.ly"
       },
       "data": [
        {
         "marker": {
          "color": "lightblue"
         },
         "name": "PTR",
         "nbinsx": 20,
         "type": "histogram",
         "x": [
          35.14,
          32.95,
          36.18,
          36.82,
          26.15,
          37.84,
          26.24,
          31.8,
          26,
          30.55,
          28.3,
          31.9,
          29.17,
          26.79,
          36.47,
          29.84,
          34.68,
          33.39,
          37.39,
          32.41,
          36.28,
          25.47,
          33.1,
          26.02,
          31.72,
          31.39,
          33.01,
          33.47,
          26.54,
          35.1,
          30.06,
          37.3,
          36.27,
          37.82,
          26.55,
          25.57,
          36.9,
          30.89
         ],
         "xaxis": "x",
         "yaxis": "y"
        },
        {
         "marker": {
          "color": "lightgreen"
         },
         "name": "Learning Outcome",
         "nbinsx": 20,
         "type": "histogram",
         "x": [
          53.52,
          57.94,
          61.15,
          63.22,
          75.9,
          52.37,
          57.04,
          49.92,
          45.81,
          52.53,
          76.29,
          43.81,
          65.84,
          81.09,
          47.54,
          66.35,
          62.38,
          47.57,
          42.62,
          64.36,
          67.39,
          45.26,
          64.14,
          81.17,
          81.47,
          52.35,
          60.59,
          55.7,
          68.06,
          53.91,
          44.8,
          45.3,
          54.89,
          46.36,
          53.11,
          51.6,
          69,
          66.95
         ],
         "xaxis": "x2",
         "yaxis": "y2"
        },
        {
         "marker": {
          "color": "lightcoral"
         },
         "name": "Infrastructure",
         "nbinsx": 20,
         "type": "histogram",
         "x": [
          71.57,
          65.74,
          66.15,
          79.97,
          65.51,
          63.68,
          77.91,
          71.65,
          71.32,
          69.12,
          67.01,
          73.32,
          70.08,
          70.1,
          79.51,
          66.04,
          77.74,
          71.32,
          66.24,
          73.06,
          72.75,
          68.02,
          73.09,
          68.96,
          62.11,
          68.54,
          71.65,
          71.8,
          77.08,
          75.04,
          69.86,
          76.28,
          71.22,
          64.5,
          74.59,
          72.14,
          66.36,
          72.92
         ],
         "xaxis": "x3",
         "yaxis": "y3"
        },
        {
         "marker": {
          "color": "lightyellow"
         },
         "name": "Priority",
         "nbinsx": 20,
         "type": "histogram",
         "x": [
          39.47,
          37.77,
          37.05,
          33.44,
          26.79,
          42.43,
          33.77,
          40.25,
          40.63,
          39.08,
          26.94,
          43,
          31.82,
          23.47,
          41.27,
          32.57,
          33.67,
          41.97,
          46.66,
          32.93,
          32.64,
          41.41,
          33.24,
          23.43,
          26.36,
          39.53,
          35.28,
          37.83,
          28.52,
          38.57,
          42.65,
          43.28,
          39.19,
          45.27,
          36.49,
          37.44,
          33.3,
          31.21
         ],
         "xaxis": "x4",
         "yaxis": "y4"
        }
       ],
       "layout": {
        "annotations": [
         {
          "font": {
           "size": 16
          },
          "showarrow": false,
          "text": "PTR Distribution",
          "x": 0.225,
          "xanchor": "center",
          "xref": "paper",
          "y": 1,
          "yanchor": "bottom",
          "yref": "paper"
         },
         {
          "font": {
           "size": 16
          },
          "showarrow": false,
          "text": "Learning Outcomes Distribution",
          "x": 0.775,
          "xanchor": "center",
          "xref": "paper",
          "y": 1,
          "yanchor": "bottom",
          "yref": "paper"
         },
         {
          "font": {
           "size": 16
          },
          "showarrow": false,
          "text": "Infrastructure Score Distribution",
          "x": 0.225,
          "xanchor": "center",
          "xref": "paper",
          "y": 0.375,
          "yanchor": "bottom",
          "yref": "paper"
         },
         {
          "font": {
           "size": 16
          },
          "showarrow": false,
          "text": "Priority Score Distribution",
          "x": 0.775,
          "xanchor": "center",
          "xref": "paper",
          "y": 0.375,
          "yanchor": "bottom",
          "yref": "paper"
         },
         {
          "showarrow": false,
          "text": "Target (30)",
          "x": 30,
          "xanchor": "left",
          "xref": "x",
          "y": 1,
          "yanchor": "top",
          "yref": "y domain"
         }
        ],
        "height": 800,
        "shapes": [
         {
          "line": {
           "color": "red",
           "dash": "dash"
          },
          "type": "line",
          "x0": 30,
          "x1": 30,
          "xref": "x",
          "y0": 0,
          "y1": 1,
          "yref": "y domain"
         }
        ],
        "showlegend": false,
        "template": {
         "data": {
          "bar": [
           {
            "error_x": {
             "color": "#2a3f5f"
            },
            "error_y": {
             "color": "#2a3f5f"
            },
            "marker": {
             "line": {
              "color": "#E5ECF6",
              "width": 0.5
             },
             "pattern": {
              "fillmode": "overlay",
              "size": 10,
              "solidity": 0.2
             }
            },
            "type": "bar"
           }
          ],
          "barpolar": [
           {
            "marker": {
             "line": {
              "color": "#E5ECF6",
              "width": 0.5
             },
             "pattern": {
              "fillmode": "overlay",
              "size": 10,
              "solidity": 0.2
             }
            },
            "type": "barpolar"
           }
          ],
          "carpet": [
           {
            "aaxis": {
             "endlinecolor": "#2a3f5f",
             "gridcolor": "white",
             "linecolor": "white",
             "minorgridcolor": "white",
             "startlinecolor": "#2a3f5f"
            },
            "baxis": {
             "endlinecolor": "#2a3f5f",
             "gridcolor": "white",
             "linecolor": "white",
             "minorgridcolor": "white",
             "startlinecolor": "#2a3f5f"
            },
            "type": "carpet"
           }
          ],
          "choropleth": [
           {
            "colorbar": {
             "outlinewidth": 0,
             "ticks": ""
            },
            "type": "choropleth"
           }
          ],
          "contour": [
           {
            "colorbar": {
             "outlinewidth": 0,
             "ticks": ""
            },
            "colorscale": [
             [
              0,
              "#0d0887"
             ],
             [
              0.1111111111111111,
              "#46039f"
             ],
             [
              0.2222222222222222,
              "#7201a8"
             ],
             [
              0.3333333333333333,
              "#9c179e"
             ],
             [
              0.4444444444444444,
              "#bd3786"
             ],
             [
              0.5555555555555556,
              "#d8576b"
             ],
             [
              0.6666666666666666,
              "#ed7953"
             ],
             [
              0.7777777777777778,
              "#fb9f3a"
             ],
             [
              0.8888888888888888,
              "#fdca26"
             ],
             [
              1,
              "#f0f921"
             ]
            ],
            "type": "contour"
           }
          ],
          "contourcarpet": [
           {
            "colorbar": {
             "outlinewidth": 0,
             "ticks": ""
            },
            "type": "contourcarpet"
           }
          ],
          "heatmap": [
           {
            "colorbar": {
             "outlinewidth": 0,
             "ticks": ""
            },
            "colorscale": [
             [
              0,
              "#0d0887"
             ],
             [
              0.1111111111111111,
              "#46039f"
             ],
             [
              0.2222222222222222,
              "#7201a8"
             ],
             [
              0.3333333333333333,
              "#9c179e"
             ],
             [
              0.4444444444444444,
              "#bd3786"
             ],
             [
              0.5555555555555556,
              "#d8576b"
             ],
             [
              0.6666666666666666,
              "#ed7953"
             ],
             [
              0.7777777777777778,
              "#fb9f3a"
             ],
             [
              0.8888888888888888,
              "#fdca26"
             ],
             [
              1,
              "#f0f921"
             ]
            ],
            "type": "heatmap"
           }
          ],
          "heatmapgl": [
           {
            "colorbar": {
             "outlinewidth": 0,
             "ticks": ""
            },
            "colorscale": [
             [
              0,
              "#0d0887"
             ],
             [
              0.1111111111111111,
              "#46039f"
             ],
             [
              0.2222222222222222,
              "#7201a8"
             ],
             [
              0.3333333333333333,
              "#9c179e"
             ],
             [
              0.4444444444444444,
              "#bd3786"
             ],
             [
              0.5555555555555556,
              "#d8576b"
             ],
             [
              0.6666666666666666,
              "#ed7953"
             ],
             [
              0.7777777777777778,
              "#fb9f3a"
             ],
             [
              0.8888888888888888,
              "#fdca26"
             ],
             [
              1,
              "#f0f921"
             ]
            ],
            "type": "heatmapgl"
           }
          ],
          "histogram": [
           {
            "marker": {
             "pattern": {
              "fillmode": "overlay",
              "size": 10,
              "solidity": 0.2
             }
            },
            "type": "histogram"
           }
          ],
          "histogram2d": [
           {
            "colorbar": {
             "outlinewidth": 0,
             "ticks": ""
            },
            "colorscale": [
             [
              0,
              "#0d0887"
             ],
             [
              0.1111111111111111,
              "#46039f"
             ],
             [
              0.2222222222222222,
              "#7201a8"
             ],
             [
              0.3333333333333333,
              "#9c179e"
             ],
             [
              0.4444444444444444,
              "#bd3786"
             ],
             [
              0.5555555555555556,
              "#d8576b"
             ],
             [
              0.6666666666666666,
              "#ed7953"
             ],
             [
              0.7777777777777778,
              "#fb9f3a"
             ],
             [
              0.8888888888888888,
              "#fdca26"
             ],
             [
              1,
              "#f0f921"
             ]
            ],
            "type": "histogram2d"
           }
          ],
          "histogram2dcontour": [
           {
            "colorbar": {
             "outlinewidth": 0,
             "ticks": ""
            },
            "colorscale": [
             [
              0,
              "#0d0887"
             ],
             [
              0.1111111111111111,
              "#46039f"
             ],
             [
              0.2222222222222222,
              "#7201a8"
             ],
             [
              0.3333333333333333,
              "#9c179e"
             ],
             [
              0.4444444444444444,
              "#bd3786"
             ],
             [
              0.5555555555555556,
              "#d8576b"
             ],
             [
              0.6666666666666666,
              "#ed7953"
             ],
             [
              0.7777777777777778,
              "#fb9f3a"
             ],
             [
              0.8888888888888888,
              "#fdca26"
             ],
             [
              1,
              "#f0f921"
             ]
            ],
            "type": "histogram2dcontour"
           }
          ],
          "mesh3d": [
           {
            "colorbar": {
             "outlinewidth": 0,
             "ticks": ""
            },
            "type": "mesh3d"
           }
          ],
          "parcoords": [
           {
            "line": {
             "colorbar": {
              "outlinewidth": 0,
              "ticks": ""
             }
            },
            "type": "parcoords"
           }
          ],
          "pie": [
           {
            "automargin": true,
            "type": "pie"
           }
          ],
          "scatter": [
           {
            "fillpattern": {
             "fillmode": "overlay",
             "size": 10,
             "solidity": 0.2
            },
            "type": "scatter"
           }
          ],
          "scatter3d": [
           {
            "line": {
             "colorbar": {
              "outlinewidth": 0,
              "ticks": ""
             }
            },
            "marker": {
             "colorbar": {
              "outlinewidth": 0,
              "ticks": ""
             }
            },
            "type": "scatter3d"
           }
          ],
          "scattercarpet": [
           {
            "marker": {
             "colorbar": {
              "outlinewidth": 0,
              "ticks": ""
             }
            },
            "type": "scattercarpet"
           }
          ],
          "scattergeo": [
           {
            "marker": {
             "colorbar": {
              "outlinewidth": 0,
              "ticks": ""
             }
            },
            "type": "scattergeo"
           }
          ],
          "scattergl": [
           {
            "marker": {
             "colorbar": {
              "outlinewidth": 0,
              "ticks": ""
             }
            },
            "type": "scattergl"
           }
          ],
          "scattermapbox": [
           {
            "marker": {
             "colorbar": {
              "outlinewidth": 0,
              "ticks": ""
             }
            },
            "type": "scattermapbox"
           }
          ],
          "scatterpolar": [
           {
            "marker": {
             "colorbar": {
              "outlinewidth": 0,
              "ticks": ""
             }
            },
            "type": "scatterpolar"
           }
          ],
          "scatterpolargl": [
           {
            "marker": {
             "colorbar": {
              "outlinewidth": 0,
              "ticks": ""
             }
            },
            "type": "scatterpolargl"
           }
          ],
          "scatterternary": [
           {
            "marker": {
             "colorbar": {
              "outlinewidth": 0,
              "ticks": ""
             }
            },
            "type": "scatterternary"
           }
          ],
          "surface": [
           {
            "colorbar": {
             "outlinewidth": 0,
             "ticks": ""
            },
            "colorscale": [
             [
              0,
              "#0d0887"
             ],
             [
              0.1111111111111111,
              "#46039f"
             ],
             [
              0.2222222222222222,
              "#7201a8"
             ],
             [
              0.3333333333333333,
              "#9c179e"
             ],
             [
              0.4444444444444444,
              "#bd3786"
             ],
             [
              0.5555555555555556,
              "#d8576b"
             ],
             [
              0.6666666666666666,
              "#ed7953"
             ],
             [
              0.7777777777777778,
              "#fb9f3a"
             ],
             [
              0.8888888888888888,
              "#fdca26"
             ],
             [
              1,
              "#f0f921"
             ]
            ],
            "type": "surface"
           }
          ],
          "table": [
           {
            "cells": {
             "fill": {
              "color": "#EBF0F8"
             },
             "line": {
              "color": "white"
             }
            },
            "header": {
             "fill": {
              "color": "#C8D4E3"
             },
             "line": {
              "color": "white"
             }
            },
            "type": "table"
           }
          ]
         },
         "layout": {
          "annotationdefaults": {
           "arrowcolor": "#2a3f5f",
           "arrowhead": 0,
           "arrowwidth": 1
          },
          "autotypenumbers": "strict",
          "coloraxis": {
           "colorbar": {
            "outlinewidth": 0,
            "ticks": ""
           }
          },
          "colorscale": {
           "diverging": [
            [
             0,
             "#8e0152"
            ],
            [
             0.1,
             "#c51b7d"
            ],
            [
             0.2,
             "#de77ae"
            ],
            [
             0.3,
             "#f1b6da"
            ],
            [
             0.4,
             "#fde0ef"
            ],
            [
             0.5,
             "#f7f7f7"
            ],
            [
             0.6,
             "#e6f5d0"
            ],
            [
             0.7,
             "#b8e186"
            ],
            [
             0.8,
             "#7fbc41"
            ],
            [
             0.9,
             "#4d9221"
            ],
            [
             1,
             "#276419"
            ]
           ],
           "sequential": [
            [
             0,
             "#0d0887"
            ],
            [
             0.1111111111111111,
             "#46039f"
            ],
            [
             0.2222222222222222,
             "#7201a8"
            ],
            [
             0.3333333333333333,
             "#9c179e"
            ],
            [
             0.4444444444444444,
             "#bd3786"
            ],
            [
             0.5555555555555556,
             "#d8576b"
            ],
            [
             0.6666666666666666,
             "#ed7953"
            ],
            [
             0.7777777777777778,
             "#fb9f3a"
            ],
            [
             0.8888888888888888,
             "#fdca26"
            ],
            [
             1,
             "#f0f921"
            ]
           ],
           "sequentialminus": [
            [
             0,
             "#0d0887"
            ],
            [
             0.1111111111111111,
             "#46039f"
            ],
            [
             0.2222222222222222,
             "#7201a8"
            ],
            [
             0.3333333333333333,
             "#9c179e"
            ],
            [
             0.4444444444444444,
             "#bd3786"
            ],
            [
             0.5555555555555556,
             "#d8576b"
            ],
            [
             0.6666666666666666,
             "#ed7953"
            ],
            [
             0.7777777777777778,
             "#fb9f3a"
            ],
            [
             0.8888888888888888,
             "#fdca26"
            ],
            [
             1,
             "#f0f921"
            ]
           ]
          },
          "colorway": [
           "#636efa",
           "#EF553B",
           "#00cc96",
           "#ab63fa",
           "#FFA15A",
           "#19d3f3",
           "#FF6692",
           "#B6E880",
           "#FF97FF",
           "#FECB52"
          ],
          "font": {
           "color": "#2a3f5f"
          },
          "geo": {
           "bgcolor": "white",
           "lakecolor": "white",
           "landcolor": "#E5ECF6",
           "showlakes": true,
           "showland": true,
           "subunitcolor": "white"
          },
          "hoverlabel": {
           "align": "left"
          },
          "hovermode": "closest",
          "mapbox": {
           "style": "light"
          },
          "paper_bgcolor": "white",
          "plot_bgcolor": "#E5ECF6",
          "polar": {
           "angularaxis": {
            "gridcolor": "white",
            "linecolor": "white",
            "ticks": ""
           },
           "bgcolor": "#E5ECF6",
           "radialaxis": {
            "gridcolor": "white",
            "linecolor": "white",
            "ticks": ""
           }
          },
          "scene": {
           "xaxis": {
            "backgroundcolor": "#E5ECF6",
            "gridcolor": "white",
            "gridwidth": 2,
            "linecolor": "white",
            "showbackground": true,
            "ticks": "",
            "zerolinecolor": "white"
           },
           "yaxis": {
            "backgroundcolor": "#E5ECF6",
            "gridcolor": "white",
            "gridwidth": 2,
            "linecolor": "white",
            "showbackground": true,
            "ticks": "",
            "zerolinecolor": "white"
           },
           "zaxis": {
            "backgroundcolor": "#E5ECF6",
            "gridcolor": "white",
            "gridwidth": 2,
            "linecolor": "white",
            "showbackground": true,
            "ticks": "",
            "zerolinecolor": "white"
           }
          },
          "shapedefaults": {
           "line": {
            "color": "#2a3f5f"
           }
          },
          "ternary": {
           "aaxis": {
            "gridcolor": "white",
            "linecolor": "white",
            "ticks": ""
           },
           "baxis": {
            "gridcolor": "white",
            "linecolor": "white",
            "ticks": ""
           },
           "bgcolor": "#E5ECF6",
           "caxis": {
            "gridcolor": "white",
            "linecolor": "white",
            "ticks": ""
           }
          },
          "title": {
           "x": 0.05
          },
          "xaxis": {
           "automargin": true,
           "gridcolor": "white",
           "linecolor": "white",
           "ticks": "",
           "title": {
            "standoff": 15
           },
           "zerolinecolor": "white",
           "zerolinewidth": 2
          },
          "yaxis": {
           "automargin": true,
           "gridcolor": "white",
           "linecolor": "white",
           "ticks": "",
           "title": {
            "standoff": 15
           },
           "zerolinecolor": "white",
           "zerolinewidth": 2
          }
         }
        },
        "title": {
         "text": "Education Metrics Distributions"
        },
        "width": 1200,
        "xaxis": {
         "anchor": "y",
         "domain": [
          0,
          0.45
         ]
        },
        "xaxis2": {
         "anchor": "y2",
         "domain": [
          0.55,
          1
         ]
        },
        "xaxis3": {
         "anchor": "y3",
         "domain": [
          0,
          0.45
         ]
        },
        "xaxis4": {
         "anchor": "y4",
         "domain": [
          0.55,
          1
         ]
        },
        "yaxis": {
         "anchor": "x",
         "domain": [
          0.625,
          1
         ]
        },
        "yaxis2": {
         "anchor": "x2",
         "domain": [
          0.625,
          1
         ]
        },
        "yaxis3": {
         "anchor": "x3",
         "domain": [
          0,
          0.375
         ]
        },
        "yaxis4": {
         "anchor": "x4",
         "domain": [
          0,
          0.375
         ]
        }
       }
      }
     },
     "metadata": {},
     "output_type": "display_data"
    }
   ],
   "source": [
    "# Distribution Plots\n",
    "fig = make_subplots(\n",
    "    rows=2, cols=2,\n",
    "    subplot_titles=(\n",
    "        'PTR Distribution',\n",
    "        'Learning Outcomes Distribution',\n",
    "        'Infrastructure Score Distribution',\n",
    "        'Priority Score Distribution'\n",
    "    )\n",
    ")\n",
    "\n",
    "# PTR Distribution\n",
    "fig.add_trace(\n",
    "    go.Histogram(x=final_df['PTR_Calculated'], name='PTR', nbinsx=20,\n",
    "                marker_color='lightblue'),\n",
    "    row=1, col=1\n",
    ")\n",
    "fig.add_vline(x=30, line_dash=\"dash\", line_color=\"red\", row=1, col=1,\n",
    "             annotation_text=\"Target (30)\")\n",
    "\n",
    "# Learning Outcomes Distribution\n",
    "fig.add_trace(\n",
    "    go.Histogram(x=final_df['Overall_Average'], name='Learning Outcome', nbinsx=20,\n",
    "                marker_color='lightgreen'),\n",
    "    row=1, col=2\n",
    ")\n",
    "\n",
    "# Infrastructure Score Distribution\n",
    "fig.add_trace(\n",
    "    go.Histogram(x=final_df['Infrastructure_Score'], name='Infrastructure', nbinsx=20,\n",
    "                marker_color='lightcoral'),\n",
    "    row=2, col=1\n",
    ")\n",
    "\n",
    "# Priority Score Distribution\n",
    "fig.add_trace(\n",
    "    go.Histogram(x=final_df['Priority_Score'], name='Priority', nbinsx=20,\n",
    "                marker_color='lightyellow'),\n",
    "    row=2, col=2\n",
    ")\n",
    "\n",
    "fig.update_layout(\n",
    "    height=800,\n",
    "    width=1200,\n",
    "    title_text=\"Education Metrics Distributions\",\n",
    "    showlegend=False\n",
    ")\n",
    "\n",
    "fig.write_html(OUTPUT_DIR / 'distributions.html')\n",
    "fig.show()"
   ]
  },
  {
   "cell_type": "markdown",
   "id": "717f0b5e",
   "metadata": {},
   "source": [
    "## 9️⃣ Policy Recommendations"
   ]
  },
  {
   "cell_type": "code",
   "execution_count": 28,
   "id": "5dfda1ec",
   "metadata": {},
   "outputs": [
    {
     "name": "stdout",
     "output_type": "stream",
     "text": [
      "================================================================================\n",
      "💡 POLICY RECOMMENDATIONS\n",
      "================================================================================\n",
      "\n",
      "1️⃣ TEACHER RECRUITMENT\n",
      "--------------------------------------------------------------------------------\n",
      "   • Immediate Requirement: 18,177 teachers (PTR 30)\n",
      "   • Ambitious Target: 101,666 teachers (PTR 25)\n",
      "   • Focus on 0 priority districts\n",
      "   • Address 1,421 single-teacher schools\n",
      "\n",
      "2️⃣ LEARNING OUTCOME IMPROVEMENTS\n",
      "--------------------------------------------------------------------------------\n",
      "   • 10 districts below 25th percentile\n",
      "   • Strengthen English and Mathematics instruction\n",
      "   • Subject-specific teacher training programs\n",
      "   • Remedial programs in underperforming districts\n",
      "\n",
      "3️⃣ INFRASTRUCTURE DEVELOPMENT\n",
      "--------------------------------------------------------------------------------\n",
      "   • 0 districts need infrastructure upgrades\n",
      "   • Priority: Digital infrastructure (internet connectivity)\n",
      "   • Library and computer lab facilities\n",
      "   • Estimated Budget: ₹0 crores\n",
      "\n",
      "4️⃣ EQUITY & INCLUSION\n",
      "--------------------------------------------------------------------------------\n",
      "   • Focus on SC/ST enrollment and retention\n",
      "   • Rural-urban disparity reduction programs\n",
      "   • Special attention to tribal districts (Nilgiris, Dharmapuri, Krishnagiri)\n",
      "   • Gender parity initiatives\n",
      "\n",
      "5️⃣ MONITORING & EVALUATION\n",
      "--------------------------------------------------------------------------------\n",
      "   • Quarterly PTR monitoring\n",
      "   • Annual learning outcome assessments\n",
      "   • District-level dashboards\n",
      "   • Data-driven decision making\n",
      "\n",
      "================================================================================\n"
     ]
    }
   ],
   "source": [
    "print(\"=\"*80)\n",
    "print(\"💡 POLICY RECOMMENDATIONS\")\n",
    "print(\"=\"*80)\n",
    "\n",
    "print(\"\\n1️⃣ TEACHER RECRUITMENT\")\n",
    "print(\"-\" * 80)\n",
    "print(f\"   • Immediate Requirement: {final_df['Teacher_Deficit_PTR30'].sum():,} teachers (PTR 30)\")\n",
    "print(f\"   • Ambitious Target: {final_df['Teacher_Deficit_PTR25'].sum():,} teachers (PTR 25)\")\n",
    "print(f\"   • Focus on {len(priority_df)} priority districts\")\n",
    "print(f\"   • Address {final_df['Single_Teacher_Schools'].sum():,} single-teacher schools\")\n",
    "\n",
    "print(\"\\n2️⃣ LEARNING OUTCOME IMPROVEMENTS\")\n",
    "print(\"-\" * 80)\n",
    "low_performing = final_df[final_df['Overall_Average'] < final_df['Overall_Average'].quantile(0.25)]\n",
    "print(f\"   • {len(low_performing)} districts below 25th percentile\")\n",
    "print(f\"   • Strengthen English and Mathematics instruction\")\n",
    "print(f\"   • Subject-specific teacher training programs\")\n",
    "print(f\"   • Remedial programs in underperforming districts\")\n",
    "\n",
    "print(\"\\n3️⃣ INFRASTRUCTURE DEVELOPMENT\")\n",
    "print(\"-\" * 80)\n",
    "low_infra = final_df[final_df['Infrastructure_Score'] < 60]\n",
    "print(f\"   • {len(low_infra)} districts need infrastructure upgrades\")\n",
    "print(f\"   • Priority: Digital infrastructure (internet connectivity)\")\n",
    "print(f\"   • Library and computer lab facilities\")\n",
    "print(f\"   • Estimated Budget: ₹{(len(low_infra) * 50):.0f} crores\")\n",
    "\n",
    "print(\"\\n4️⃣ EQUITY & INCLUSION\")\n",
    "print(\"-\" * 80)\n",
    "print(f\"   • Focus on SC/ST enrollment and retention\")\n",
    "print(f\"   • Rural-urban disparity reduction programs\")\n",
    "print(f\"   • Special attention to tribal districts (Nilgiris, Dharmapuri, Krishnagiri)\")\n",
    "print(f\"   • Gender parity initiatives\")\n",
    "\n",
    "print(\"\\n5️⃣ MONITORING & EVALUATION\")\n",
    "print(\"-\" * 80)\n",
    "print(f\"   • Quarterly PTR monitoring\")\n",
    "print(f\"   • Annual learning outcome assessments\")\n",
    "print(f\"   • District-level dashboards\")\n",
    "print(f\"   • Data-driven decision making\")\n",
    "\n",
    "print(\"\\n\" + \"=\"*80)"
   ]
  },
  {
   "cell_type": "markdown",
   "id": "3067846d",
   "metadata": {},
   "source": [
    "## 🔟 Export Summary Report"
   ]
  },
  {
   "cell_type": "code",
   "execution_count": 29,
   "id": "e3726bb7",
   "metadata": {},
   "outputs": [
    {
     "name": "stdout",
     "output_type": "stream",
     "text": [
      "✅ Summary report generated!\n",
      "\n",
      "📊 Key Findings:\n",
      "   report_date: 2025-10-30\n",
      "   total_districts: 38\n",
      "   total_schools: 36503\n",
      "   total_enrollment: 12523387\n",
      "   total_teachers: 399272\n",
      "   state_avg_ptr: 31.93342105263158\n",
      "   state_avg_learning_outcome: 58.66578947368421\n",
      "   single_teacher_schools: 1421\n",
      "   teacher_deficit_ptr30: 18177\n",
      "   teacher_deficit_ptr25: 101666\n",
      "   districts_below_state_avg: 21\n",
      "   districts_ptr_above_35: 12\n",
      "   avg_infrastructure_score: 70.89342105263158\n",
      "   priority_districts_count: 0\n",
      "   correlation_ptr_learning: -0.27688217377280616\n",
      "   regression_r2: 0.2807171942598622\n"
     ]
    }
   ],
   "source": [
    "# Create comprehensive summary report\n",
    "summary_report = {\n",
    "    'report_date': datetime.now().strftime('%Y-%m-%d'),\n",
    "    'total_districts': len(final_df),\n",
    "    'total_schools': int(final_df['Total_Schools'].sum()),\n",
    "    'total_enrollment': int(final_df['Total_Enrollment'].sum()),\n",
    "    'total_teachers': int(final_df['Total_Teachers'].sum()),\n",
    "    'state_avg_ptr': float(final_df['PTR_Calculated'].mean()),\n",
    "    'state_avg_learning_outcome': float(final_df['Overall_Average'].mean()),\n",
    "    'single_teacher_schools': int(final_df['Single_Teacher_Schools'].sum()),\n",
    "    'teacher_deficit_ptr30': int(final_df['Teacher_Deficit_PTR30'].sum()),\n",
    "    'teacher_deficit_ptr25': int(final_df['Teacher_Deficit_PTR25'].sum()),\n",
    "    'districts_below_state_avg': int((final_df['Overall_vs_State'] < 0).sum()),\n",
    "    'districts_ptr_above_35': int((final_df['PTR_Calculated'] > 35).sum()),\n",
    "    'avg_infrastructure_score': float(final_df['Infrastructure_Score'].mean()),\n",
    "    'priority_districts_count': len(priority_df),\n",
    "    'correlation_ptr_learning': float(final_df['PTR_Calculated'].corr(final_df['Overall_Average'])),\n",
    "    'regression_r2': float(r2),\n",
    "}\n",
    "\n",
    "summary_df = pd.DataFrame([summary_report])\n",
    "summary_df.to_csv(OUTPUT_DIR / 'summary_report.csv', index=False)\n",
    "\n",
    "print(\"✅ Summary report generated!\")\n",
    "print(\"\\n📊 Key Findings:\")\n",
    "for key, value in summary_report.items():\n",
    "    print(f\"   {key}: {value}\")"
   ]
  },
  {
   "cell_type": "code",
   "execution_count": 30,
   "id": "0bbe0380",
   "metadata": {},
   "outputs": [
    {
     "name": "stdout",
     "output_type": "stream",
     "text": [
      "\n",
      "================================================================================\n",
      "📁 GENERATED FILES\n",
      "================================================================================\n",
      "\n",
      "📂 Raw Data:\n",
      "   • demographic_data_2025.csv\n",
      "   • slas_2025_learning_outcomes.csv\n",
      "   • udise_plus_2024_25.csv\n",
      "\n",
      "📂 Processed Data:\n",
      "   • demographic_clean.csv\n",
      "   • slas_2025_clean.csv\n",
      "   • tn_education_integrated.csv\n",
      "   • udise_2024_25_clean.csv\n",
      "\n",
      "📂 Analysis Outputs:\n",
      "   • correlation_heatmap.png\n",
      "   • distributions.html\n",
      "   • district_clusters.csv\n",
      "   • district_clusters.html\n",
      "   • enrollment_forecast_2026_2030.csv\n",
      "   • enrollment_forecast_2026_2030.html\n",
      "   • feature_importance.csv\n",
      "   • feature_importance.html\n",
      "   • full_correlation_matrix.csv\n",
      "   • historical_enrollment_2015_2025.csv\n",
      "   • historical_enrollment_trends.html\n",
      "   • priority_districts.html\n",
      "   • priority_intervention_districts.csv\n",
      "   • ptr_scenario_analysis.csv\n",
      "   • ptr_vs_learning_outcomes.html\n",
      "   • scenario_analysis.html\n",
      "   • summary_report.csv\n",
      "   • teacher_requirements_forecast.csv\n",
      "\n",
      "================================================================================\n",
      "✅ ANALYSIS COMPLETE!\n",
      "================================================================================\n"
     ]
    }
   ],
   "source": [
    "# List all generated files\n",
    "print(\"\\n\" + \"=\"*80)\n",
    "print(\"📁 GENERATED FILES\")\n",
    "print(\"=\"*80)\n",
    "\n",
    "print(\"\\n📂 Raw Data:\")\n",
    "for file in RAW_DATA_DIR.glob('*.csv'):\n",
    "    print(f\"   • {file.name}\")\n",
    "\n",
    "print(\"\\n📂 Processed Data:\")\n",
    "for file in PROCESSED_DATA_DIR.glob('*.csv'):\n",
    "    print(f\"   • {file.name}\")\n",
    "\n",
    "print(\"\\n📂 Analysis Outputs:\")\n",
    "for file in OUTPUT_DIR.glob('*'):\n",
    "    print(f\"   • {file.name}\")\n",
    "\n",
    "print(\"\\n\" + \"=\"*80)\n",
    "print(\"✅ ANALYSIS COMPLETE!\")\n",
    "print(\"=\"*80)"
   ]
  }
 ],
 "metadata": {
  "kernelspec": {
   "display_name": "Python 3",
   "language": "python",
   "name": "python3"
  },
  "language_info": {
   "codemirror_mode": {
    "name": "ipython",
    "version": 3
   },
   "file_extension": ".py",
   "mimetype": "text/x-python",
   "name": "python",
   "nbconvert_exporter": "python",
   "pygments_lexer": "ipython3",
   "version": "3.11.0"
  }
 },
 "nbformat": 4,
 "nbformat_minor": 5
}
